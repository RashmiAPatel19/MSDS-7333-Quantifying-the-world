{
 "cells": [
  {
   "cell_type": "code",
   "execution_count": 5,
   "metadata": {},
   "outputs": [
    {
     "name": "stdout",
     "output_type": "stream",
     "text": [
      "2.5.0\n"
     ]
    }
   ],
   "source": [
    "import tensorflow as tf\n",
    "from tensorflow.keras import layers \n",
    "from tensorflow.keras.regularizers import l2\n",
    "from sklearn import datasets\n",
    "import sklearn\n",
    "import pandas as pd\n",
    "import numpy as np\n",
    "print(tf.__version__)"
   ]
  },
  {
   "cell_type": "markdown",
   "metadata": {},
   "source": [
    "## Load Data\n",
    "First get the data.  Sklearn presents the data in a dictionary.  \n",
    "\n",
    "The target is the price is thousands\n",
    "\n",
    "Note that X is a dataframe while y is an array!!"
   ]
  },
  {
   "cell_type": "code",
   "execution_count": 6,
   "metadata": {},
   "outputs": [],
   "source": [
    "cal=datasets.fetch_california_housing()"
   ]
  },
  {
   "cell_type": "code",
   "execution_count": null,
   "metadata": {},
   "outputs": [],
   "source": []
  },
  {
   "cell_type": "code",
   "execution_count": 7,
   "metadata": {},
   "outputs": [],
   "source": [
    "x = pd.DataFrame(cal['data'])"
   ]
  },
  {
   "cell_type": "code",
   "execution_count": 8,
   "metadata": {},
   "outputs": [],
   "source": [
    "x.columns=cal['feature_names']"
   ]
  },
  {
   "cell_type": "code",
   "execution_count": 9,
   "metadata": {},
   "outputs": [
    {
     "data": {
      "text/html": [
       "<div>\n",
       "<style scoped>\n",
       "    .dataframe tbody tr th:only-of-type {\n",
       "        vertical-align: middle;\n",
       "    }\n",
       "\n",
       "    .dataframe tbody tr th {\n",
       "        vertical-align: top;\n",
       "    }\n",
       "\n",
       "    .dataframe thead th {\n",
       "        text-align: right;\n",
       "    }\n",
       "</style>\n",
       "<table border=\"1\" class=\"dataframe\">\n",
       "  <thead>\n",
       "    <tr style=\"text-align: right;\">\n",
       "      <th></th>\n",
       "      <th>MedInc</th>\n",
       "      <th>HouseAge</th>\n",
       "      <th>AveRooms</th>\n",
       "      <th>AveBedrms</th>\n",
       "      <th>Population</th>\n",
       "      <th>AveOccup</th>\n",
       "      <th>Latitude</th>\n",
       "      <th>Longitude</th>\n",
       "    </tr>\n",
       "  </thead>\n",
       "  <tbody>\n",
       "    <tr>\n",
       "      <th>0</th>\n",
       "      <td>8.3252</td>\n",
       "      <td>41.0</td>\n",
       "      <td>6.984127</td>\n",
       "      <td>1.023810</td>\n",
       "      <td>322.0</td>\n",
       "      <td>2.555556</td>\n",
       "      <td>37.88</td>\n",
       "      <td>-122.23</td>\n",
       "    </tr>\n",
       "    <tr>\n",
       "      <th>1</th>\n",
       "      <td>8.3014</td>\n",
       "      <td>21.0</td>\n",
       "      <td>6.238137</td>\n",
       "      <td>0.971880</td>\n",
       "      <td>2401.0</td>\n",
       "      <td>2.109842</td>\n",
       "      <td>37.86</td>\n",
       "      <td>-122.22</td>\n",
       "    </tr>\n",
       "    <tr>\n",
       "      <th>2</th>\n",
       "      <td>7.2574</td>\n",
       "      <td>52.0</td>\n",
       "      <td>8.288136</td>\n",
       "      <td>1.073446</td>\n",
       "      <td>496.0</td>\n",
       "      <td>2.802260</td>\n",
       "      <td>37.85</td>\n",
       "      <td>-122.24</td>\n",
       "    </tr>\n",
       "    <tr>\n",
       "      <th>3</th>\n",
       "      <td>5.6431</td>\n",
       "      <td>52.0</td>\n",
       "      <td>5.817352</td>\n",
       "      <td>1.073059</td>\n",
       "      <td>558.0</td>\n",
       "      <td>2.547945</td>\n",
       "      <td>37.85</td>\n",
       "      <td>-122.25</td>\n",
       "    </tr>\n",
       "    <tr>\n",
       "      <th>4</th>\n",
       "      <td>3.8462</td>\n",
       "      <td>52.0</td>\n",
       "      <td>6.281853</td>\n",
       "      <td>1.081081</td>\n",
       "      <td>565.0</td>\n",
       "      <td>2.181467</td>\n",
       "      <td>37.85</td>\n",
       "      <td>-122.25</td>\n",
       "    </tr>\n",
       "  </tbody>\n",
       "</table>\n",
       "</div>"
      ],
      "text/plain": [
       "   MedInc  HouseAge  AveRooms  AveBedrms  Population  AveOccup  Latitude  \\\n",
       "0  8.3252      41.0  6.984127   1.023810       322.0  2.555556     37.88   \n",
       "1  8.3014      21.0  6.238137   0.971880      2401.0  2.109842     37.86   \n",
       "2  7.2574      52.0  8.288136   1.073446       496.0  2.802260     37.85   \n",
       "3  5.6431      52.0  5.817352   1.073059       558.0  2.547945     37.85   \n",
       "4  3.8462      52.0  6.281853   1.081081       565.0  2.181467     37.85   \n",
       "\n",
       "   Longitude  \n",
       "0    -122.23  \n",
       "1    -122.22  \n",
       "2    -122.24  \n",
       "3    -122.25  \n",
       "4    -122.25  "
      ]
     },
     "execution_count": 9,
     "metadata": {},
     "output_type": "execute_result"
    }
   ],
   "source": [
    "x.head()"
   ]
  },
  {
   "cell_type": "code",
   "execution_count": 10,
   "metadata": {},
   "outputs": [],
   "source": [
    "y = cal['target']"
   ]
  },
  {
   "cell_type": "code",
   "execution_count": 11,
   "metadata": {},
   "outputs": [
    {
     "data": {
      "text/plain": [
       "array([4.526, 3.585, 3.521, ..., 0.923, 0.847, 0.894])"
      ]
     },
     "execution_count": 11,
     "metadata": {},
     "output_type": "execute_result"
    }
   ],
   "source": [
    "y"
   ]
  },
  {
   "cell_type": "markdown",
   "metadata": {},
   "source": [
    "## Scale Data\n",
    "\n",
    "Neural Networks are especially sensitive do data scaling.  Nearly all the activation functions saturate at (0,1) or (-1,1)"
   ]
  },
  {
   "cell_type": "code",
   "execution_count": 12,
   "metadata": {},
   "outputs": [
    {
     "name": "stdout",
     "output_type": "stream",
     "text": [
      "Note: median values were scaled by multiplying by 0.0996015936 and adding 12.385458\n"
     ]
    }
   ],
   "source": [
    "from sklearn.preprocessing import MinMaxScaler\n",
    "\n",
    "scaler = MinMaxScaler(feature_range=(0, 1))\n",
    "scaled_train = scaler.fit_transform(x)\n",
    "\n",
    "# Print out the adjustment that the scaler applied to the total_earnings column of data\n",
    "print(\"Note: median values were scaled by multiplying by {:.10f} and adding {:.6f}\".format(scaler.scale_[7], scaler.min_[7]))\n",
    "multiplied_by = scaler.scale_[7]\n",
    "added = scaler.min_[7]\n",
    "\n",
    "scaled_train_df = pd.DataFrame(scaled_train, columns=x.columns.values)"
   ]
  },
  {
   "cell_type": "code",
   "execution_count": 13,
   "metadata": {},
   "outputs": [],
   "source": [
    "import matplotlib.pyplot as plt\n",
    "%matplotlib inline"
   ]
  },
  {
   "cell_type": "code",
   "execution_count": 14,
   "metadata": {
    "scrolled": false
   },
   "outputs": [
    {
     "data": {
      "image/png": "[encoded data removed]",
      "text/plain": [
       "<Figure size 432x288 with 1 Axes>"
      ]
     },
     "metadata": {
      "needs_background": "light"
     },
     "output_type": "display_data"
    },
    {
     "data": {
      "image/png": "[encoded data removed]",
      "text/plain": [
       "<Figure size 432x288 with 1 Axes>"
      ]
     },
     "metadata": {
      "needs_background": "light"
     },
     "output_type": "display_data"
    },
    {
     "data": {
      "image/png": "[encoded data removed]",
      "text/plain": [
       "<Figure size 432x288 with 1 Axes>"
      ]
     },
     "metadata": {
      "needs_background": "light"
     },
     "output_type": "display_data"
    },
    {
     "data": {
      "image/png": "[encoded data removed]",
      "text/plain": [
       "<Figure size 432x288 with 1 Axes>"
      ]
     },
     "metadata": {
      "needs_background": "light"
     },
     "output_type": "display_data"
    },
    {
     "data": {
      "image/png": "[encoded data removed]",
      "text/plain": [
       "<Figure size 432x288 with 1 Axes>"
      ]
     },
     "metadata": {
      "needs_background": "light"
     },
     "output_type": "display_data"
    },
    {
     "data": {
      "image/png": "[encoded data removed]",
      "text/plain": [
       "<Figure size 432x288 with 1 Axes>"
      ]
     },
     "metadata": {
      "needs_background": "light"
     },
     "output_type": "display_data"
    },
    {
     "data": {
      "image/png": "[encoded data removed]",
      "text/plain": [
       "<Figure size 432x288 with 1 Axes>"
      ]
     },
     "metadata": {
      "needs_background": "light"
     },
     "output_type": "display_data"
    },
    {
     "data": {
      "image/png": "[encoded data removed]",
      "text/plain": [
       "<Figure size 432x288 with 1 Axes>"
      ]
     },
     "metadata": {
      "needs_background": "light"
     },
     "output_type": "display_data"
    }
   ],
   "source": [
    "for i in scaled_train_df:\n",
    "    scaled_train_df[i].hist()\n",
    "    plt.show()"
   ]
  },
  {
   "cell_type": "markdown",
   "metadata": {},
   "source": [
    "Nueral Networks generally are one of the slowest methods, thus a full CV is not always feasable.  FOr this example, it is not nessecary, but will be done for practice.  Large samples generally have 2 splits: training and validation.  Using this nominclature, validation is your \"test\" set there is NEVER used to build a model"
   ]
  },
  {
   "cell_type": "code",
   "execution_count": 15,
   "metadata": {},
   "outputs": [],
   "source": [
    "from sklearn.model_selection import train_test_split\n",
    "x_train, x_test, y_train, y_test = train_test_split(scaled_train_df, y, test_size=0.20, random_state=1776)"
   ]
  },
  {
   "cell_type": "markdown",
   "metadata": {},
   "source": [
    "## Model \n",
    "Alright lets get down to business.  We will use the Sequential() class to build a model.  This means we just add layer after layer to the model (in order).\n",
    "\n",
    "Note that this is NOT the keras package proper.  This is an implementation of the Keras API in tensorflow.  THey are closely related, but this IS Tensorflow (package), not Keras (package)"
   ]
  },
  {
   "cell_type": "code",
   "execution_count": 16,
   "metadata": {},
   "outputs": [
    {
     "data": {
      "text/html": [
       "<div>\n",
       "<style scoped>\n",
       "    .dataframe tbody tr th:only-of-type {\n",
       "        vertical-align: middle;\n",
       "    }\n",
       "\n",
       "    .dataframe tbody tr th {\n",
       "        vertical-align: top;\n",
       "    }\n",
       "\n",
       "    .dataframe thead th {\n",
       "        text-align: right;\n",
       "    }\n",
       "</style>\n",
       "<table border=\"1\" class=\"dataframe\">\n",
       "  <thead>\n",
       "    <tr style=\"text-align: right;\">\n",
       "      <th></th>\n",
       "      <th>MedInc</th>\n",
       "      <th>HouseAge</th>\n",
       "      <th>AveRooms</th>\n",
       "      <th>AveBedrms</th>\n",
       "      <th>Population</th>\n",
       "      <th>AveOccup</th>\n",
       "      <th>Latitude</th>\n",
       "      <th>Longitude</th>\n",
       "    </tr>\n",
       "  </thead>\n",
       "  <tbody>\n",
       "    <tr>\n",
       "      <th>12289</th>\n",
       "      <td>0.099812</td>\n",
       "      <td>0.764706</td>\n",
       "      <td>0.029635</td>\n",
       "      <td>0.022708</td>\n",
       "      <td>0.038902</td>\n",
       "      <td>0.001914</td>\n",
       "      <td>0.147715</td>\n",
       "      <td>0.734064</td>\n",
       "    </tr>\n",
       "    <tr>\n",
       "      <th>7858</th>\n",
       "      <td>0.167536</td>\n",
       "      <td>0.627451</td>\n",
       "      <td>0.022830</td>\n",
       "      <td>0.023169</td>\n",
       "      <td>0.049637</td>\n",
       "      <td>0.001468</td>\n",
       "      <td>0.143464</td>\n",
       "      <td>0.618526</td>\n",
       "    </tr>\n",
       "    <tr>\n",
       "      <th>11190</th>\n",
       "      <td>0.126536</td>\n",
       "      <td>0.549020</td>\n",
       "      <td>0.019849</td>\n",
       "      <td>0.021207</td>\n",
       "      <td>0.029541</td>\n",
       "      <td>0.001624</td>\n",
       "      <td>0.136026</td>\n",
       "      <td>0.638446</td>\n",
       "    </tr>\n",
       "    <tr>\n",
       "      <th>12759</th>\n",
       "      <td>0.123067</td>\n",
       "      <td>0.509804</td>\n",
       "      <td>0.023099</td>\n",
       "      <td>0.021900</td>\n",
       "      <td>0.065333</td>\n",
       "      <td>0.000797</td>\n",
       "      <td>0.646121</td>\n",
       "      <td>0.294821</td>\n",
       "    </tr>\n",
       "    <tr>\n",
       "      <th>10433</th>\n",
       "      <td>0.155488</td>\n",
       "      <td>0.450980</td>\n",
       "      <td>0.019035</td>\n",
       "      <td>0.021136</td>\n",
       "      <td>0.023739</td>\n",
       "      <td>0.001307</td>\n",
       "      <td>0.094580</td>\n",
       "      <td>0.670319</td>\n",
       "    </tr>\n",
       "    <tr>\n",
       "      <th>...</th>\n",
       "      <td>...</td>\n",
       "      <td>...</td>\n",
       "      <td>...</td>\n",
       "      <td>...</td>\n",
       "      <td>...</td>\n",
       "      <td>...</td>\n",
       "      <td>...</td>\n",
       "      <td>...</td>\n",
       "    </tr>\n",
       "    <tr>\n",
       "      <th>4735</th>\n",
       "      <td>0.362133</td>\n",
       "      <td>0.901961</td>\n",
       "      <td>0.030951</td>\n",
       "      <td>0.020049</td>\n",
       "      <td>0.020208</td>\n",
       "      <td>0.001316</td>\n",
       "      <td>0.160468</td>\n",
       "      <td>0.593625</td>\n",
       "    </tr>\n",
       "    <tr>\n",
       "      <th>14266</th>\n",
       "      <td>0.109661</td>\n",
       "      <td>0.647059</td>\n",
       "      <td>0.020855</td>\n",
       "      <td>0.019076</td>\n",
       "      <td>0.035539</td>\n",
       "      <td>0.002830</td>\n",
       "      <td>0.015940</td>\n",
       "      <td>0.721116</td>\n",
       "    </tr>\n",
       "    <tr>\n",
       "      <th>9635</th>\n",
       "      <td>0.104943</td>\n",
       "      <td>0.313725</td>\n",
       "      <td>0.026483</td>\n",
       "      <td>0.022922</td>\n",
       "      <td>0.015611</td>\n",
       "      <td>0.001290</td>\n",
       "      <td>0.483528</td>\n",
       "      <td>0.331673</td>\n",
       "    </tr>\n",
       "    <tr>\n",
       "      <th>10988</th>\n",
       "      <td>0.331023</td>\n",
       "      <td>0.568627</td>\n",
       "      <td>0.041117</td>\n",
       "      <td>0.020536</td>\n",
       "      <td>0.043079</td>\n",
       "      <td>0.001751</td>\n",
       "      <td>0.127524</td>\n",
       "      <td>0.652390</td>\n",
       "    </tr>\n",
       "    <tr>\n",
       "      <th>4590</th>\n",
       "      <td>0.042227</td>\n",
       "      <td>1.000000</td>\n",
       "      <td>0.012745</td>\n",
       "      <td>0.028137</td>\n",
       "      <td>0.027663</td>\n",
       "      <td>0.001693</td>\n",
       "      <td>0.161530</td>\n",
       "      <td>0.604582</td>\n",
       "    </tr>\n",
       "  </tbody>\n",
       "</table>\n",
       "<p>16512 rows × 8 columns</p>\n",
       "</div>"
      ],
      "text/plain": [
       "         MedInc  HouseAge  AveRooms  AveBedrms  Population  AveOccup  \\\n",
       "12289  0.099812  0.764706  0.029635   0.022708    0.038902  0.001914   \n",
       "7858   0.167536  0.627451  0.022830   0.023169    0.049637  0.001468   \n",
       "11190  0.126536  0.549020  0.019849   0.021207    0.029541  0.001624   \n",
       "12759  0.123067  0.509804  0.023099   0.021900    0.065333  0.000797   \n",
       "10433  0.155488  0.450980  0.019035   0.021136    0.023739  0.001307   \n",
       "...         ...       ...       ...        ...         ...       ...   \n",
       "4735   0.362133  0.901961  0.030951   0.020049    0.020208  0.001316   \n",
       "14266  0.109661  0.647059  0.020855   0.019076    0.035539  0.002830   \n",
       "9635   0.104943  0.313725  0.026483   0.022922    0.015611  0.001290   \n",
       "10988  0.331023  0.568627  0.041117   0.020536    0.043079  0.001751   \n",
       "4590   0.042227  1.000000  0.012745   0.028137    0.027663  0.001693   \n",
       "\n",
       "       Latitude  Longitude  \n",
       "12289  0.147715   0.734064  \n",
       "7858   0.143464   0.618526  \n",
       "11190  0.136026   0.638446  \n",
       "12759  0.646121   0.294821  \n",
       "10433  0.094580   0.670319  \n",
       "...         ...        ...  \n",
       "4735   0.160468   0.593625  \n",
       "14266  0.015940   0.721116  \n",
       "9635   0.483528   0.331673  \n",
       "10988  0.127524   0.652390  \n",
       "4590   0.161530   0.604582  \n",
       "\n",
       "[16512 rows x 8 columns]"
      ]
     },
     "execution_count": 16,
     "metadata": {},
     "output_type": "execute_result"
    }
   ],
   "source": [
    "x_train"
   ]
  },
  {
   "cell_type": "markdown",
   "metadata": {},
   "source": [
    "Sequential allows use to build a network layer by layer.  It automatically assumes that any layer you add is connected to the previous layer.  Notice we do not specify the input size.  Until we run the .fit() method, the full \"graph\" or set of matrix operations is not built.  \n",
    "\n",
    "Once we have fit the model, we can call the .summary() method to get details about our model."
   ]
  },
  {
   "cell_type": "code",
   "execution_count": 17,
   "metadata": {},
   "outputs": [
    {
     "name": "stdout",
     "output_type": "stream",
     "text": [
      "WARNING:tensorflow:Please add `keras.layers.InputLayer` instead of `keras.Input` to Sequential model. `keras.Input` is intended to be used by Functional model.\n"
     ]
    }
   ],
   "source": [
    "model = tf.keras.Sequential()\n",
    "model.add(tf.keras.Input(shape=(8,)))\n",
    "model.add(layers.Dense(100,activation='sigmoid'))  # adds a layer with 100 neurons, tanh activation\n",
    "model.add(layers.Dense(503, activation='sigmoid'))   # adds a layer with 50 neurons, tanh activation\n",
    "model.add(layers.Dense(1, activation='linear'))  # adds a layer with 1 neurons, linear (aka NO) activation\n",
    "\n"
   ]
  },
  {
   "cell_type": "markdown",
   "metadata": {},
   "source": [
    "## Compile Model\n",
    "\n",
    "The compile step adds an optimizer (solver) and your loss metrics."
   ]
  },
  {
   "cell_type": "code",
   "execution_count": 18,
   "metadata": {},
   "outputs": [],
   "source": [
    "model.compile(optimizer='sgd',\n",
    "              loss='mean_squared_error',\n",
    "              metrics=['mean_squared_error','mean_absolute_error'])"
   ]
  },
  {
   "cell_type": "markdown",
   "metadata": {},
   "source": [
    "## Fit model\n",
    "Now it is time to train"
   ]
  },
  {
   "cell_type": "code",
   "execution_count": 19,
   "metadata": {},
   "outputs": [
    {
     "name": "stdout",
     "output_type": "stream",
     "text": [
      "Epoch 1/10\n",
      "516/516 [==============================] - 3s 3ms/step - loss: 3.7633 - mean_squared_error: 3.7633 - mean_absolute_error: 1.0912 - val_loss: 1.2989 - val_mean_squared_error: 1.2989 - val_mean_absolute_error: 0.8989\n",
      "Epoch 2/10\n",
      "516/516 [==============================] - 1s 3ms/step - loss: 1.3889 - mean_squared_error: 1.3889 - mean_absolute_error: 0.9323 - val_loss: 1.3325 - val_mean_squared_error: 1.3325 - val_mean_absolute_error: 0.9405\n",
      "Epoch 3/10\n",
      "516/516 [==============================] - 1s 3ms/step - loss: 1.3812 - mean_squared_error: 1.3812 - mean_absolute_error: 0.9296 - val_loss: 1.2878 - val_mean_squared_error: 1.2878 - val_mean_absolute_error: 0.8928\n",
      "Epoch 4/10\n",
      "516/516 [==============================] - 1s 3ms/step - loss: 1.3711 - mean_squared_error: 1.3711 - mean_absolute_error: 0.9251 - val_loss: 1.3157 - val_mean_squared_error: 1.3157 - val_mean_absolute_error: 0.8625\n",
      "Epoch 5/10\n",
      "516/516 [==============================] - 1s 3ms/step - loss: 1.3581 - mean_squared_error: 1.3581 - mean_absolute_error: 0.9212 - val_loss: 1.4553 - val_mean_squared_error: 1.4553 - val_mean_absolute_error: 1.0224\n",
      "Epoch 6/10\n",
      "516/516 [==============================] - 1s 3ms/step - loss: 1.3485 - mean_squared_error: 1.3485 - mean_absolute_error: 0.9173 - val_loss: 1.3081 - val_mean_squared_error: 1.3081 - val_mean_absolute_error: 0.9362\n",
      "Epoch 7/10\n",
      "516/516 [==============================] - 1s 3ms/step - loss: 1.3299 - mean_squared_error: 1.3299 - mean_absolute_error: 0.9114 - val_loss: 1.3046 - val_mean_squared_error: 1.3046 - val_mean_absolute_error: 0.9399\n",
      "Epoch 8/10\n",
      "516/516 [==============================] - 1s 3ms/step - loss: 1.3123 - mean_squared_error: 1.3123 - mean_absolute_error: 0.9055 - val_loss: 1.2460 - val_mean_squared_error: 1.2460 - val_mean_absolute_error: 0.9038\n",
      "Epoch 9/10\n",
      "516/516 [==============================] - 1s 3ms/step - loss: 1.2796 - mean_squared_error: 1.2796 - mean_absolute_error: 0.8955 - val_loss: 1.2104 - val_mean_squared_error: 1.2104 - val_mean_absolute_error: 0.8346- mean_squared_error: 1.2833 - mean_absolu\n",
      "Epoch 10/10\n",
      "516/516 [==============================] - 1s 3ms/step - loss: 1.2376 - mean_squared_error: 1.2376 - mean_absolute_error: 0.8796 - val_loss: 1.1559 - val_mean_squared_error: 1.1559 - val_mean_absolute_error: 0.8677\n"
     ]
    },
    {
     "data": {
      "text/plain": [
       "<tensorflow.python.keras.callbacks.History at 0x121be488eb0>"
      ]
     },
     "execution_count": 19,
     "metadata": {},
     "output_type": "execute_result"
    }
   ],
   "source": [
    "model.fit(x_train, y_train, epochs=10, validation_data=(x_test,y_test), batch_size=32)"
   ]
  },
  {
   "cell_type": "markdown",
   "metadata": {},
   "source": [
    "Now look at the history of the model--your train/test (aka validation) curves"
   ]
  },
  {
   "cell_type": "code",
   "execution_count": 20,
   "metadata": {},
   "outputs": [
    {
     "name": "stdout",
     "output_type": "stream",
     "text": [
      "Model: \"sequential\"\n",
      "_________________________________________________________________\n",
      "Layer (type)                 Output Shape              Param #   \n",
      "=================================================================\n",
      "dense (Dense)                (None, 100)               900       \n",
      "_________________________________________________________________\n",
      "dense_1 (Dense)              (None, 503)               50803     \n",
      "_________________________________________________________________\n",
      "dense_2 (Dense)              (None, 1)                 504       \n",
      "=================================================================\n",
      "Total params: 52,207\n",
      "Trainable params: 52,207\n",
      "Non-trainable params: 0\n",
      "_________________________________________________________________\n"
     ]
    }
   ],
   "source": [
    "model.summary()\n",
    "somthing = model.weights"
   ]
  },
  {
   "cell_type": "code",
   "execution_count": 21,
   "metadata": {},
   "outputs": [],
   "source": [
    "w = somthing[0].numpy()"
   ]
  },
  {
   "cell_type": "code",
   "execution_count": 22,
   "metadata": {},
   "outputs": [],
   "source": [
    "x = np.array(x_train.loc[0,:])"
   ]
  },
  {
   "cell_type": "code",
   "execution_count": 23,
   "metadata": {},
   "outputs": [
    {
     "data": {
      "text/plain": [
       "TensorShape([100])"
      ]
     },
     "execution_count": 23,
     "metadata": {},
     "output_type": "execute_result"
    }
   ],
   "source": [
    "somthing[1].shape  # w * x -> 8x100   * 8 x 1  x^T * w   1x8  8x100   1x100  +  1x100"
   ]
  },
  {
   "cell_type": "code",
   "execution_count": 24,
   "metadata": {},
   "outputs": [],
   "source": [
    "import matplotlib.pyplot as plt\n",
    "%matplotlib inline"
   ]
  },
  {
   "cell_type": "code",
   "execution_count": 25,
   "metadata": {},
   "outputs": [
    {
     "data": {
      "image/png": "[encoded data removed]",
      "text/plain": [
       "<Figure size 432x288 with 1 Axes>"
      ]
     },
     "metadata": {
      "needs_background": "light"
     },
     "output_type": "display_data"
    }
   ],
   "source": [
    "train_loss = model.history.history['loss']\n",
    "val_loss = model.history.history['val_loss']\n",
    "plt.plot(train_loss)\n",
    "plt.plot(val_loss)\n",
    "plt.show()"
   ]
  },
  {
   "cell_type": "code",
   "execution_count": null,
   "metadata": {},
   "outputs": [],
   "source": []
  },
  {
   "cell_type": "code",
   "execution_count": 26,
   "metadata": {},
   "outputs": [
    {
     "name": "stdout",
     "output_type": "stream",
     "text": [
      "Model: \"sequential\"\n",
      "_________________________________________________________________\n",
      "Layer (type)                 Output Shape              Param #   \n",
      "=================================================================\n",
      "dense (Dense)                (None, 100)               900       \n",
      "_________________________________________________________________\n",
      "dense_1 (Dense)              (None, 503)               50803     \n",
      "_________________________________________________________________\n",
      "dense_2 (Dense)              (None, 1)                 504       \n",
      "=================================================================\n",
      "Total params: 52,207\n",
      "Trainable params: 52,207\n",
      "Non-trainable params: 0\n",
      "_________________________________________________________________\n"
     ]
    }
   ],
   "source": [
    "model.summary()"
   ]
  },
  {
   "cell_type": "markdown",
   "metadata": {},
   "source": [
    "## Visualize that data\n",
    "Tensorboard allows you to look at your training curves in real time.  All we need to do here is add a \"callback\" that is executed every epoch end.  Tensorboard writes a summary of the model output.  If you manually build a neural network, you need to add tf.summary operations.\n",
    "\n",
    "To run tensorboard type\n",
    "\n",
    "`tensorboard --logdir logs`\n",
    "\n",
    "Then go to localhost:6006 in your web browser \n",
    "\n",
    "or use the \"magic\" commands in jupyter below"
   ]
  },
  {
   "cell_type": "code",
   "execution_count": 27,
   "metadata": {},
   "outputs": [
    {
     "data": {
      "text/html": [
       "\n",
       "      <iframe id=\"tensorboard-frame-800c771e3618ac01\" width=\"100%\" height=\"800\" frameborder=\"0\">\n",
       "      </iframe>\n",
       "      <script>\n",
       "        (function() {\n",
       "          const frame = document.getElementById(\"tensorboard-frame-800c771e3618ac01\");\n",
       "          const url = new URL(\"/\", window.location);\n",
       "          const port = 6006;\n",
       "          if (port) {\n",
       "            url.port = port;\n",
       "          }\n",
       "          frame.src = url;\n",
       "        })();\n",
       "      </script>\n",
       "    "
      ],
      "text/plain": [
       "<IPython.core.display.HTML object>"
      ]
     },
     "metadata": {},
     "output_type": "display_data"
    }
   ],
   "source": [
    "from time import time\n",
    "from tensorflow.keras.callbacks import TensorBoard\n",
    "tb = TensorBoard(log_dir=f\"logs\\\\{time()}\")\n",
    "%load_ext tensorboard\n",
    "%tensorboard --logdir logs"
   ]
  },
  {
   "cell_type": "code",
   "execution_count": null,
   "metadata": {},
   "outputs": [],
   "source": [
    "\n"
   ]
  },
  {
   "cell_type": "code",
   "execution_count": 28,
   "metadata": {},
   "outputs": [],
   "source": [
    "model.compile(optimizer='rmsprop',\n",
    "              loss='mean_squared_error',\n",
    "              metrics=['mean_squared_error'])"
   ]
  },
  {
   "cell_type": "code",
   "execution_count": 29,
   "metadata": {
    "scrolled": false
   },
   "outputs": [
    {
     "name": "stdout",
     "output_type": "stream",
     "text": [
      "Epoch 1/10\n",
      "1652/1652 [==============================] - 9s 5ms/step - loss: 0.8801 - mean_squared_error: 0.8801 - val_loss: 0.9644 - val_mean_squared_error: 0.9644\n",
      "Epoch 2/10\n",
      "1652/1652 [==============================] - 7s 4ms/step - loss: 0.6607 - mean_squared_error: 0.6607 - val_loss: 0.8863 - val_mean_squared_error: 0.8863TA: 4s - loss: 0.6610 - mean_squared_error: 0. - ETA: 4s - loss: 0.6639 - mean - ETA: 3s - loss: 0.6602 - me - ETA: 3s - loss: 0.6626 - mean_squared_error:  - E - ETA: 0s - loss: 0.6616 - mean_squar\n",
      "Epoch 3/10\n",
      "1652/1652 [==============================] - 7s 4ms/step - loss: 0.6258 - mean_squared_error: 0.6258 - val_loss: 0.7924 - val_mean_squared_error: 0.7924\n",
      "Epoch 4/10\n",
      "1652/1652 [==============================] - 7s 4ms/step - loss: 0.5979 - mean_squared_error: 0.5979 - val_loss: 1.3761 - val_mean_squared_error: 1.3761 loss: 0.5973 - me\n",
      "Epoch 5/10\n",
      "1652/1652 [==============================] - 7s 4ms/step - loss: 0.5843 - mean_squared_error: 0.5843 - val_loss: 0.5337 - val_mean_squared_error: 0.5337- mean_squared_e - ETA: 5s - loss: 0.5641 - mean_squared_error:  - ETA: 4s - loss: 0.5608 - mean_squared_error: 0. - ETA: 4s - loss: 0.5586 - me\n",
      "Epoch 6/10\n",
      "1652/1652 [==============================] - 8s 5ms/step - loss: 0.5725 - mean_squared_error: 0.5725 - val_loss: 0.5228 - val_mean_squared_error: 0.5228\n",
      "Epoch 7/10\n",
      "1652/1652 [==============================] - 7s 5ms/step - loss: 0.5633 - mean_squared_error: 0.5633 - val_loss: 0.5767 - val_mean_squared_error: 0.5767\n",
      "Epoch 8/10\n",
      "1652/1652 [==============================] - 8s 5ms/step - loss: 0.5560 - mean_squared_error: 0.5560 - val_loss: 0.6367 - val_mean_squared_error: 0.6367\n",
      "Epoch 9/10\n",
      "1652/1652 [==============================] - 7s 4ms/step - loss: 0.5486 - mean_squared_error: 0.5486 - val_loss: 0.5420 - val_mean_squared_error: 0.5420 - ETA: 3s - loss: 0.5550 - mean_squar\n",
      "Epoch 10/10\n",
      "1652/1652 [==============================] - 7s 4ms/step - loss: 0.5412 - mean_squared_error: 0.5412 - val_loss: 0.7614 - val_mean_squared_error: 0.7614379 - me - ETA: 0s - loss: 0.5361 - mean_squared_error:  - ETA: 0s - loss: 0.5374 - mean_squared_error - ETA: 0s - loss: 0.5380 - me\n"
     ]
    },
    {
     "data": {
      "text/plain": [
       "<tensorflow.python.keras.callbacks.History at 0x121b6c06250>"
      ]
     },
     "execution_count": 29,
     "metadata": {},
     "output_type": "execute_result"
    }
   ],
   "source": [
    "model.fit(x_train, y_train, epochs=10, validation_data=(x_test,y_test), batch_size=10, callbacks=[tb])"
   ]
  },
  {
   "cell_type": "code",
   "execution_count": 30,
   "metadata": {},
   "outputs": [
    {
     "data": {
      "image/png": "[encoded data removed]",
      "text/plain": [
       "<Figure size 432x288 with 1 Axes>"
      ]
     },
     "metadata": {
      "needs_background": "light"
     },
     "output_type": "display_data"
    }
   ],
   "source": [
    "train_loss = model.history.history['loss']\n",
    "val_loss = model.history.history['val_loss']\n",
    "plt.plot(train_loss)\n",
    "plt.plot(val_loss)\n",
    "plt.show()"
   ]
  },
  {
   "cell_type": "markdown",
   "metadata": {},
   "source": [
    "## Classification?\n",
    "The only thing we really need to change is the final layer to predict classes"
   ]
  },
  {
   "cell_type": "code",
   "execution_count": 31,
   "metadata": {},
   "outputs": [],
   "source": [
    "model_iris = tf.keras.Sequential()\n",
    "\n",
    "model_iris.add(layers.Dense(100, activation='tanh',kernel_initializer='zeros'))\n",
    "model_iris.add(layers.Dense(3 ,activation='sigmoid'),)\n",
    "\n",
    "model_iris.compile(optimizer='sgd',\n",
    "              loss=tf.keras.losses.SparseCategoricalCrossentropy(),\n",
    "              metrics=['accuracy'])"
   ]
  },
  {
   "cell_type": "code",
   "execution_count": 32,
   "metadata": {},
   "outputs": [],
   "source": [
    "iris = datasets.load_iris()"
   ]
  },
  {
   "cell_type": "code",
   "execution_count": 33,
   "metadata": {},
   "outputs": [],
   "source": [
    "x= iris['data']\n",
    "y = iris['target']\n",
    "# Why do I not have to scale?\n",
    "x_train, x_test, y_train, y_test = train_test_split(x, y, test_size=0.20, random_state=1776)"
   ]
  },
  {
   "cell_type": "code",
   "execution_count": 34,
   "metadata": {},
   "outputs": [
    {
     "data": {
      "text/plain": [
       "array([0, 0, 0, 0, 0, 0, 0, 0, 0, 0, 0, 0, 0, 0, 0, 0, 0, 0, 0, 0, 0, 0,\n",
       "       0, 0, 0, 0, 0, 0, 0, 0, 0, 0, 0, 0, 0, 0, 0, 0, 0, 0, 0, 0, 0, 0,\n",
       "       0, 0, 0, 0, 0, 0, 1, 1, 1, 1, 1, 1, 1, 1, 1, 1, 1, 1, 1, 1, 1, 1,\n",
       "       1, 1, 1, 1, 1, 1, 1, 1, 1, 1, 1, 1, 1, 1, 1, 1, 1, 1, 1, 1, 1, 1,\n",
       "       1, 1, 1, 1, 1, 1, 1, 1, 1, 1, 1, 1, 2, 2, 2, 2, 2, 2, 2, 2, 2, 2,\n",
       "       2, 2, 2, 2, 2, 2, 2, 2, 2, 2, 2, 2, 2, 2, 2, 2, 2, 2, 2, 2, 2, 2,\n",
       "       2, 2, 2, 2, 2, 2, 2, 2, 2, 2, 2, 2, 2, 2, 2, 2, 2, 2])"
      ]
     },
     "execution_count": 34,
     "metadata": {},
     "output_type": "execute_result"
    }
   ],
   "source": [
    "y"
   ]
  },
  {
   "cell_type": "code",
   "execution_count": 38,
   "metadata": {
    "scrolled": true
   },
   "outputs": [
    {
     "name": "stdout",
     "output_type": "stream",
     "text": [
      "Epoch 1/100\n",
      "30/30 [==============================] - 0s 5ms/step - loss: 99.5508 - accuracy: 0.3333 - val_loss: 88.0896 - val_accuracy: 0.3333\n",
      "Epoch 2/100\n",
      "30/30 [==============================] - 0s 4ms/step - loss: 79.4715 - accuracy: 0.3333 - val_loss: 68.0388 - val_accuracy: 0.3333\n",
      "Epoch 3/100\n",
      "30/30 [==============================] - 0s 4ms/step - loss: 59.3998 - accuracy: 0.3333 - val_loss: 47.9861 - val_accuracy: 0.3333\n",
      "Epoch 4/100\n",
      "30/30 [==============================] - 0s 4ms/step - loss: 39.3066 - accuracy: 0.3333 - val_loss: 27.9374 - val_accuracy: 0.3333\n",
      "Epoch 5/100\n",
      "30/30 [==============================] - 0s 4ms/step - loss: 19.2453 - accuracy: 0.3333 - val_loss: 7.9307 - val_accuracy: 0.3333\n",
      "Epoch 6/100\n",
      "30/30 [==============================] - 0s 4ms/step - loss: 4.9122 - accuracy: 0.6083 - val_loss: 1.7306 - val_accuracy: 0.7000\n",
      "Epoch 7/100\n",
      "30/30 [==============================] - 0s 4ms/step - loss: 0.8293 - accuracy: 0.6417 - val_loss: 0.4655 - val_accuracy: 0.7000\n",
      "Epoch 8/100\n",
      "30/30 [==============================] - 0s 5ms/step - loss: 0.4718 - accuracy: 0.7750 - val_loss: 0.3851 - val_accuracy: 0.9333\n",
      "Epoch 9/100\n",
      "30/30 [==============================] - 0s 4ms/step - loss: 0.3903 - accuracy: 0.9417 - val_loss: 0.3661 - val_accuracy: 0.9000\n",
      "Epoch 10/100\n",
      "30/30 [==============================] - 0s 4ms/step - loss: 0.3859 - accuracy: 0.9000 - val_loss: 0.3927 - val_accuracy: 0.9667\n",
      "Epoch 11/100\n",
      "30/30 [==============================] - 0s 4ms/step - loss: 0.3767 - accuracy: 0.9250 - val_loss: 0.3637 - val_accuracy: 0.9000\n",
      "Epoch 12/100\n",
      "30/30 [==============================] - 0s 4ms/step - loss: 0.3731 - accuracy: 0.9250 - val_loss: 0.3814 - val_accuracy: 0.8333\n",
      "Epoch 13/100\n",
      "30/30 [==============================] - 0s 4ms/step - loss: 0.3838 - accuracy: 0.9083 - val_loss: 0.3574 - val_accuracy: 0.9333\n",
      "Epoch 14/100\n",
      "30/30 [==============================] - 0s 4ms/step - loss: 0.3980 - accuracy: 0.9083 - val_loss: 0.3792 - val_accuracy: 0.8333\n",
      "Epoch 15/100\n",
      "30/30 [==============================] - ETA: 0s - loss: 0.3747 - accuracy: 0.92 - 0s 4ms/step - loss: 0.3723 - accuracy: 0.9333 - val_loss: 0.3595 - val_accuracy: 0.9333\n"
     ]
    },
    {
     "data": {
      "text/plain": [
       "<tensorflow.python.keras.callbacks.History at 0x123867436d0>"
      ]
     },
     "execution_count": 38,
     "metadata": {},
     "output_type": "execute_result"
    }
   ],
   "source": [
    "from tensorflow.keras.callbacks import EarlyStopping\n",
    "es = EarlyStopping(patience=2)\n",
    "model_iris.fit(x_train, y_train, validation_data=(x_test,y_test), epochs=100, batch_size=4, callbacks=[es])"
   ]
  },
  {
   "cell_type": "code",
   "execution_count": 39,
   "metadata": {},
   "outputs": [
    {
     "data": {
      "image/png": "[encoded data removed]",
      "text/plain": [
       "<Figure size 432x288 with 1 Axes>"
      ]
     },
     "metadata": {
      "needs_background": "light"
     },
     "output_type": "display_data"
    }
   ],
   "source": [
    "train_loss = model_iris.history.history['loss']\n",
    "val_loss = model_iris.history.history['val_loss']\n",
    "plt.plot(train_loss)\n",
    "plt.plot(val_loss)\n",
    "plt.show()"
   ]
  },
  {
   "cell_type": "code",
   "execution_count": 40,
   "metadata": {},
   "outputs": [
    {
     "data": {
      "image/png": "[encoded data removed]",
      "text/plain": [
       "<Figure size 432x288 with 1 Axes>"
      ]
     },
     "metadata": {
      "needs_background": "light"
     },
     "output_type": "display_data"
    }
   ],
   "source": [
    "train_acc = model_iris.history.history['accuracy']\n",
    "val_acc = model_iris.history.history['val_accuracy']\n",
    "plt.plot(train_acc)\n",
    "plt.plot(val_acc)\n",
    "plt.show()"
   ]
  },
  {
   "cell_type": "markdown",
   "metadata": {},
   "source": [
    "#### But WAIT!! There's more\n",
    "Tensorflow has a ton of options to build a model.  The other useful way is called \"model\"  It allows a bit more fine grained control.  Notice how I created a \"skip layer\" that takes the output of layer1 and layer2, combines them and sends them to the output.  This is traditionally used more in Advanced Neural Networks with Convolutional or Recurrent architectures.  This is just a toy example."
   ]
  },
  {
   "cell_type": "code",
   "execution_count": 41,
   "metadata": {},
   "outputs": [
    {
     "name": "stdout",
     "output_type": "stream",
     "text": [
      "Epoch 1/100\n",
      "30/30 [==============================] - 1s 9ms/step - loss: 1.4133 - accuracy: 0.3333 - val_loss: 1.1627 - val_accuracy: 0.3333\n",
      "Epoch 2/100\n",
      "30/30 [==============================] - 0s 5ms/step - loss: 1.0371 - accuracy: 0.3333 - val_loss: 0.9563 - val_accuracy: 0.3667\n",
      "Epoch 3/100\n",
      "30/30 [==============================] - 0s 5ms/step - loss: 0.9005 - accuracy: 0.6167 - val_loss: 0.8407 - val_accuracy: 0.8667\n",
      "Epoch 4/100\n",
      "30/30 [==============================] - 0s 5ms/step - loss: 0.8068 - accuracy: 0.7917 - val_loss: 0.7539 - val_accuracy: 0.7333\n",
      "Epoch 5/100\n",
      "30/30 [==============================] - 0s 5ms/step - loss: 0.7278 - accuracy: 0.7167 - val_loss: 0.6695 - val_accuracy: 0.7000\n",
      "Epoch 6/100\n",
      "30/30 [==============================] - 0s 5ms/step - loss: 0.6557 - accuracy: 0.7667 - val_loss: 0.5988 - val_accuracy: 0.7333\n",
      "Epoch 7/100\n",
      "30/30 [==============================] - 0s 5ms/step - loss: 0.5969 - accuracy: 0.8000 - val_loss: 0.5470 - val_accuracy: 0.7333\n",
      "Epoch 8/100\n",
      "30/30 [==============================] - 0s 5ms/step - loss: 0.5509 - accuracy: 0.7417 - val_loss: 0.5056 - val_accuracy: 0.7333\n",
      "Epoch 9/100\n",
      "30/30 [==============================] - 0s 5ms/step - loss: 0.5153 - accuracy: 0.7833 - val_loss: 0.4752 - val_accuracy: 0.7333\n",
      "Epoch 10/100\n",
      "30/30 [==============================] - 0s 5ms/step - loss: 0.4893 - accuracy: 0.8417 - val_loss: 0.4520 - val_accuracy: 0.8667\n",
      "Epoch 11/100\n",
      "30/30 [==============================] - 0s 5ms/step - loss: 0.4678 - accuracy: 0.8500 - val_loss: 0.4326 - val_accuracy: 0.9333\n",
      "Epoch 12/100\n",
      "30/30 [==============================] - 0s 5ms/step - loss: 0.4513 - accuracy: 0.8833 - val_loss: 0.4188 - val_accuracy: 0.8667\n",
      "Epoch 13/100\n",
      "30/30 [==============================] - 0s 5ms/step - loss: 0.4361 - accuracy: 0.8750 - val_loss: 0.4033 - val_accuracy: 0.9333\n",
      "Epoch 14/100\n",
      "30/30 [==============================] - 0s 5ms/step - loss: 0.4267 - accuracy: 0.9417 - val_loss: 0.3917 - val_accuracy: 0.9333\n",
      "Epoch 15/100\n",
      "30/30 [==============================] - 0s 5ms/step - loss: 0.4129 - accuracy: 0.8750 - val_loss: 0.3818 - val_accuracy: 0.9000\n",
      "Epoch 16/100\n",
      "30/30 [==============================] - 0s 4ms/step - loss: 0.4005 - accuracy: 0.8667 - val_loss: 0.3691 - val_accuracy: 0.9333\n",
      "Epoch 17/100\n",
      "30/30 [==============================] - 0s 4ms/step - loss: 0.3949 - accuracy: 0.9083 - val_loss: 0.3594 - val_accuracy: 0.9333\n",
      "Epoch 18/100\n",
      "30/30 [==============================] - 0s 4ms/step - loss: 0.3859 - accuracy: 0.8917 - val_loss: 0.3471 - val_accuracy: 0.9667\n",
      "Epoch 19/100\n",
      "30/30 [==============================] - 0s 4ms/step - loss: 0.3739 - accuracy: 0.9250 - val_loss: 0.3394 - val_accuracy: 0.9333\n",
      "Epoch 20/100\n",
      "30/30 [==============================] - 0s 4ms/step - loss: 0.3619 - accuracy: 0.9167 - val_loss: 0.3311 - val_accuracy: 0.9333\n",
      "Epoch 21/100\n",
      "30/30 [==============================] - 0s 4ms/step - loss: 0.3516 - accuracy: 0.9333 - val_loss: 0.3187 - val_accuracy: 0.9667\n",
      "Epoch 22/100\n",
      "30/30 [==============================] - 0s 4ms/step - loss: 0.3415 - accuracy: 0.9000 - val_loss: 0.3059 - val_accuracy: 0.9667\n",
      "Epoch 23/100\n",
      "30/30 [==============================] - 0s 4ms/step - loss: 0.3330 - accuracy: 0.9417 - val_loss: 0.2974 - val_accuracy: 0.9667\n",
      "Epoch 24/100\n",
      "30/30 [==============================] - 0s 4ms/step - loss: 0.3210 - accuracy: 0.9333 - val_loss: 0.2910 - val_accuracy: 0.9333\n",
      "Epoch 25/100\n",
      "30/30 [==============================] - 0s 5ms/step - loss: 0.3104 - accuracy: 0.9167 - val_loss: 0.2761 - val_accuracy: 0.9667\n",
      "Epoch 26/100\n",
      "30/30 [==============================] - 0s 4ms/step - loss: 0.3029 - accuracy: 0.9417 - val_loss: 0.2705 - val_accuracy: 0.9667\n",
      "Epoch 27/100\n",
      "30/30 [==============================] - 0s 4ms/step - loss: 0.2924 - accuracy: 0.9417 - val_loss: 0.2549 - val_accuracy: 0.9667\n",
      "Epoch 28/100\n",
      "30/30 [==============================] - 0s 5ms/step - loss: 0.2801 - accuracy: 0.9583 - val_loss: 0.2484 - val_accuracy: 0.9667\n",
      "Epoch 29/100\n",
      "30/30 [==============================] - 0s 5ms/step - loss: 0.2696 - accuracy: 0.9667 - val_loss: 0.2367 - val_accuracy: 0.9667\n",
      "Epoch 30/100\n",
      "30/30 [==============================] - 0s 4ms/step - loss: 0.2606 - accuracy: 0.9667 - val_loss: 0.2251 - val_accuracy: 0.9667\n",
      "Epoch 31/100\n",
      "30/30 [==============================] - 0s 3ms/step - loss: 0.2531 - accuracy: 0.9583 - val_loss: 0.2282 - val_accuracy: 0.9333\n",
      "Epoch 32/100\n",
      "30/30 [==============================] - 0s 4ms/step - loss: 0.2475 - accuracy: 0.9500 - val_loss: 0.2199 - val_accuracy: 0.9333\n",
      "Epoch 33/100\n",
      "30/30 [==============================] - 0s 4ms/step - loss: 0.2358 - accuracy: 0.9417 - val_loss: 0.1975 - val_accuracy: 0.9667\n",
      "Epoch 34/100\n",
      "30/30 [==============================] - 0s 4ms/step - loss: 0.2282 - accuracy: 0.9583 - val_loss: 0.1916 - val_accuracy: 0.9667\n",
      "Epoch 35/100\n",
      "30/30 [==============================] - 0s 4ms/step - loss: 0.2214 - accuracy: 0.9583 - val_loss: 0.1812 - val_accuracy: 0.9667\n",
      "Epoch 36/100\n",
      "30/30 [==============================] - 0s 4ms/step - loss: 0.2140 - accuracy: 0.9750 - val_loss: 0.1740 - val_accuracy: 0.9667\n",
      "Epoch 37/100\n",
      "30/30 [==============================] - 0s 4ms/step - loss: 0.2084 - accuracy: 0.9583 - val_loss: 0.1724 - val_accuracy: 0.9667\n",
      "Epoch 38/100\n",
      "30/30 [==============================] - 0s 5ms/step - loss: 0.2042 - accuracy: 0.9500 - val_loss: 0.1874 - val_accuracy: 0.9333\n",
      "Epoch 39/100\n",
      "30/30 [==============================] - 0s 4ms/step - loss: 0.2019 - accuracy: 0.9667 - val_loss: 0.1663 - val_accuracy: 0.9667\n",
      "Epoch 40/100\n",
      "30/30 [==============================] - 0s 4ms/step - loss: 0.1917 - accuracy: 0.9667 - val_loss: 0.1485 - val_accuracy: 0.9667\n",
      "Epoch 41/100\n",
      "30/30 [==============================] - ETA: 0s - loss: 0.1616 - accuracy: 0.96 - 0s 4ms/step - loss: 0.1941 - accuracy: 0.9583 - val_loss: 0.1428 - val_accuracy: 0.9667\n",
      "Epoch 42/100\n",
      "30/30 [==============================] - 0s 4ms/step - loss: 0.1799 - accuracy: 0.9667 - val_loss: 0.1450 - val_accuracy: 0.9667\n",
      "Epoch 43/100\n",
      "30/30 [==============================] - 0s 4ms/step - loss: 0.1731 - accuracy: 0.9583 - val_loss: 0.1460 - val_accuracy: 0.9667\n",
      "Epoch 44/100\n",
      "30/30 [==============================] - 0s 4ms/step - loss: 0.1674 - accuracy: 0.9583 - val_loss: 0.1295 - val_accuracy: 0.9667\n",
      "Epoch 45/100\n",
      "30/30 [==============================] - 0s 4ms/step - loss: 0.1607 - accuracy: 0.9667 - val_loss: 0.1298 - val_accuracy: 0.9667\n",
      "Epoch 46/100\n",
      "30/30 [==============================] - 0s 4ms/step - loss: 0.1578 - accuracy: 0.9583 - val_loss: 0.1289 - val_accuracy: 0.9667\n",
      "Epoch 47/100\n",
      "30/30 [==============================] - 0s 4ms/step - loss: 0.1531 - accuracy: 0.9583 - val_loss: 0.1159 - val_accuracy: 0.9667\n",
      "Epoch 48/100\n",
      "30/30 [==============================] - 0s 4ms/step - loss: 0.1519 - accuracy: 0.9750 - val_loss: 0.1198 - val_accuracy: 0.9667\n",
      "Epoch 49/100\n",
      "30/30 [==============================] - 0s 4ms/step - loss: 0.1509 - accuracy: 0.9500 - val_loss: 0.1197 - val_accuracy: 0.9667\n",
      "Epoch 50/100\n",
      "30/30 [==============================] - 0s 4ms/step - loss: 0.1570 - accuracy: 0.9500 - val_loss: 0.1125 - val_accuracy: 0.9667\n",
      "Epoch 51/100\n",
      "30/30 [==============================] - 0s 4ms/step - loss: 0.1426 - accuracy: 0.9750 - val_loss: 0.1117 - val_accuracy: 0.9667\n",
      "Epoch 52/100\n",
      "30/30 [==============================] - 0s 4ms/step - loss: 0.1371 - accuracy: 0.9833 - val_loss: 0.1152 - val_accuracy: 0.9667\n",
      "Epoch 53/100\n",
      "30/30 [==============================] - 0s 4ms/step - loss: 0.1335 - accuracy: 0.9750 - val_loss: 0.1045 - val_accuracy: 0.9667\n",
      "Epoch 54/100\n",
      "30/30 [==============================] - 0s 4ms/step - loss: 0.1314 - accuracy: 0.9833 - val_loss: 0.1003 - val_accuracy: 0.9667\n",
      "Epoch 55/100\n",
      "30/30 [==============================] - 0s 4ms/step - loss: 0.1275 - accuracy: 0.9750 - val_loss: 0.1084 - val_accuracy: 0.9667\n",
      "Epoch 56/100\n",
      "30/30 [==============================] - 0s 4ms/step - loss: 0.1291 - accuracy: 0.9750 - val_loss: 0.0901 - val_accuracy: 0.9667\n",
      "Epoch 57/100\n",
      "30/30 [==============================] - 0s 4ms/step - loss: 0.1457 - accuracy: 0.9583 - val_loss: 0.0888 - val_accuracy: 0.9667\n",
      "Epoch 58/100\n",
      "30/30 [==============================] - 0s 4ms/step - loss: 0.1269 - accuracy: 0.9667 - val_loss: 0.1249 - val_accuracy: 0.9667\n",
      "Epoch 59/100\n",
      "30/30 [==============================] - 0s 4ms/step - loss: 0.1343 - accuracy: 0.9417 - val_loss: 0.1059 - val_accuracy: 0.9667\n",
      "Epoch 60/100\n",
      "30/30 [==============================] - 0s 4ms/step - loss: 0.1266 - accuracy: 0.9750 - val_loss: 0.1038 - val_accuracy: 0.9667\n",
      "Epoch 61/100\n",
      "30/30 [==============================] - 0s 4ms/step - loss: 0.1198 - accuracy: 0.9833 - val_loss: 0.0828 - val_accuracy: 0.9667\n",
      "Epoch 62/100\n",
      "30/30 [==============================] - 0s 4ms/step - loss: 0.1161 - accuracy: 0.9750 - val_loss: 0.0851 - val_accuracy: 0.9667\n",
      "Epoch 63/100\n",
      "30/30 [==============================] - 0s 4ms/step - loss: 0.1168 - accuracy: 0.9833 - val_loss: 0.0982 - val_accuracy: 0.9667\n",
      "Epoch 64/100\n",
      "30/30 [==============================] - 0s 4ms/step - loss: 0.1137 - accuracy: 0.9750 - val_loss: 0.0863 - val_accuracy: 0.9667\n",
      "Epoch 65/100\n",
      "30/30 [==============================] - 0s 4ms/step - loss: 0.1106 - accuracy: 0.9833 - val_loss: 0.0864 - val_accuracy: 0.9667\n",
      "Epoch 66/100\n",
      "30/30 [==============================] - 0s 4ms/step - loss: 0.1121 - accuracy: 0.9833 - val_loss: 0.0992 - val_accuracy: 0.9667\n",
      "Epoch 67/100\n",
      "30/30 [==============================] - 0s 4ms/step - loss: 0.1087 - accuracy: 0.9833 - val_loss: 0.0887 - val_accuracy: 0.9667\n",
      "Epoch 68/100\n",
      "30/30 [==============================] - 0s 4ms/step - loss: 0.1099 - accuracy: 0.9833 - val_loss: 0.0789 - val_accuracy: 0.9667\n",
      "Epoch 69/100\n",
      "30/30 [==============================] - 0s 4ms/step - loss: 0.1139 - accuracy: 0.9583 - val_loss: 0.0974 - val_accuracy: 0.9667\n",
      "Epoch 70/100\n",
      "30/30 [==============================] - 0s 4ms/step - loss: 0.1202 - accuracy: 0.9583 - val_loss: 0.0989 - val_accuracy: 0.9667\n",
      "Epoch 71/100\n",
      "30/30 [==============================] - 0s 4ms/step - loss: 0.1023 - accuracy: 0.9833 - val_loss: 0.0707 - val_accuracy: 0.9667\n",
      "Epoch 72/100\n",
      "30/30 [==============================] - 0s 4ms/step - loss: 0.1009 - accuracy: 0.9750 - val_loss: 0.0897 - val_accuracy: 0.9667\n",
      "Epoch 73/100\n",
      "30/30 [==============================] - 0s 4ms/step - loss: 0.1046 - accuracy: 0.9750 - val_loss: 0.0692 - val_accuracy: 0.9667\n",
      "Epoch 74/100\n",
      "30/30 [==============================] - 0s 4ms/step - loss: 0.1047 - accuracy: 0.9667 - val_loss: 0.0722 - val_accuracy: 0.9667\n",
      "Epoch 75/100\n",
      "30/30 [==============================] - 0s 4ms/step - loss: 0.1076 - accuracy: 0.9667 - val_loss: 0.0848 - val_accuracy: 0.9667\n",
      "Epoch 76/100\n",
      "30/30 [==============================] - 0s 4ms/step - loss: 0.1020 - accuracy: 0.9750 - val_loss: 0.0775 - val_accuracy: 0.9667\n",
      "Epoch 77/100\n",
      "30/30 [==============================] - 0s 4ms/step - loss: 0.0975 - accuracy: 0.9833 - val_loss: 0.0927 - val_accuracy: 0.9667\n",
      "Epoch 78/100\n",
      "30/30 [==============================] - 0s 4ms/step - loss: 0.1022 - accuracy: 0.9750 - val_loss: 0.0736 - val_accuracy: 0.9667\n",
      "Epoch 79/100\n",
      "30/30 [==============================] - 0s 4ms/step - loss: 0.0951 - accuracy: 0.9750 - val_loss: 0.0918 - val_accuracy: 0.9667\n",
      "Epoch 80/100\n",
      "30/30 [==============================] - 0s 3ms/step - loss: 0.0999 - accuracy: 0.9833 - val_loss: 0.0653 - val_accuracy: 0.9667\n",
      "Epoch 81/100\n",
      "30/30 [==============================] - 0s 4ms/step - loss: 0.1013 - accuracy: 0.9750 - val_loss: 0.0727 - val_accuracy: 0.9667\n",
      "Epoch 82/100\n",
      "30/30 [==============================] - 0s 4ms/step - loss: 0.1089 - accuracy: 0.9500 - val_loss: 0.0799 - val_accuracy: 0.9667\n",
      "Epoch 83/100\n",
      "30/30 [==============================] - 0s 4ms/step - loss: 0.0936 - accuracy: 0.9750 - val_loss: 0.0742 - val_accuracy: 0.9667\n",
      "Epoch 84/100\n",
      "30/30 [==============================] - 0s 4ms/step - loss: 0.0911 - accuracy: 0.9833 - val_loss: 0.0777 - val_accuracy: 0.9667\n",
      "Epoch 85/100\n",
      "30/30 [==============================] - 0s 4ms/step - loss: 0.0934 - accuracy: 0.9750 - val_loss: 0.0556 - val_accuracy: 0.9667\n",
      "Epoch 86/100\n",
      "30/30 [==============================] - 0s 4ms/step - loss: 0.0951 - accuracy: 0.9583 - val_loss: 0.0979 - val_accuracy: 0.9667\n",
      "Epoch 87/100\n",
      "30/30 [==============================] - 0s 4ms/step - loss: 0.0918 - accuracy: 0.9833 - val_loss: 0.0619 - val_accuracy: 0.9667\n",
      "Epoch 88/100\n",
      "30/30 [==============================] - 0s 4ms/step - loss: 0.0962 - accuracy: 0.9833 - val_loss: 0.0627 - val_accuracy: 0.9667\n",
      "Epoch 89/100\n",
      "30/30 [==============================] - 0s 4ms/step - loss: 0.0904 - accuracy: 0.9750 - val_loss: 0.0702 - val_accuracy: 0.9667\n",
      "Epoch 90/100\n",
      "30/30 [==============================] - 0s 4ms/step - loss: 0.1022 - accuracy: 0.9500 - val_loss: 0.0833 - val_accuracy: 0.9667\n",
      "Epoch 91/100\n",
      "30/30 [==============================] - 0s 4ms/step - loss: 0.0948 - accuracy: 0.9750 - val_loss: 0.0699 - val_accuracy: 0.9667\n",
      "Epoch 92/100\n",
      "30/30 [==============================] - 0s 4ms/step - loss: 0.0932 - accuracy: 0.9833 - val_loss: 0.0682 - val_accuracy: 0.9667\n",
      "Epoch 93/100\n",
      "30/30 [==============================] - 0s 4ms/step - loss: 0.0865 - accuracy: 0.9833 - val_loss: 0.0630 - val_accuracy: 0.9667\n",
      "Epoch 94/100\n",
      "30/30 [==============================] - 0s 4ms/step - loss: 0.0890 - accuracy: 0.9667 - val_loss: 0.0771 - val_accuracy: 0.9667\n",
      "Epoch 95/100\n",
      "30/30 [==============================] - 0s 4ms/step - loss: 0.0918 - accuracy: 0.9750 - val_loss: 0.0610 - val_accuracy: 0.9667\n",
      "Epoch 96/100\n",
      "30/30 [==============================] - 0s 4ms/step - loss: 0.0878 - accuracy: 0.9833 - val_loss: 0.0790 - val_accuracy: 0.9667\n",
      "Epoch 97/100\n",
      "30/30 [==============================] - 0s 4ms/step - loss: 0.0890 - accuracy: 0.9750 - val_loss: 0.0736 - val_accuracy: 0.9667\n",
      "Epoch 98/100\n",
      "30/30 [==============================] - 0s 4ms/step - loss: 0.0884 - accuracy: 0.9750 - val_loss: 0.0617 - val_accuracy: 0.9667\n",
      "Epoch 99/100\n",
      "30/30 [==============================] - 0s 3ms/step - loss: 0.0857 - accuracy: 0.9833 - val_loss: 0.0690 - val_accuracy: 0.9667\n",
      "Epoch 100/100\n",
      "30/30 [==============================] - 0s 4ms/step - loss: 0.0852 - accuracy: 0.9833 - val_loss: 0.0662 - val_accuracy: 0.9667\n"
     ]
    },
    {
     "data": {
      "text/plain": [
       "<tensorflow.python.keras.callbacks.History at 0x123869837f0>"
      ]
     },
     "execution_count": 41,
     "metadata": {},
     "output_type": "execute_result"
    }
   ],
   "source": [
    "model_new = tf.keras.Model()\n",
    "inputs = tf.keras.Input(shape=(4,))  #notice i have to tell the input shape. I got away with NOT doing that in sequential\n",
    "x = tf.keras.layers.Dense(4, activation=tf.nn.relu)(inputs)\n",
    "layer1 = tf.keras.layers.Dense(10, activation=tf.nn.relu)(x)\n",
    "layer2 = tf.keras.layers.Dense(10, activation=tf.nn.relu)(layer1)\n",
    "joined = tf.keras.layers.Concatenate(axis=1)([layer1,layer2])\n",
    "outputs = tf.keras.layers.Dense(3, activation=tf.nn.softmax)(joined)\n",
    "model_new = tf.keras.Model(inputs=inputs, outputs=outputs)\n",
    "model_new.compile(optimizer='adam',\n",
    "              loss=tf.keras.losses.SparseCategoricalCrossentropy(),\n",
    "              metrics=['accuracy'])\n",
    "model_new.fit(x_train, y_train, validation_data=(x_test,y_test), epochs=100, batch_size=4)"
   ]
  },
  {
   "cell_type": "code",
   "execution_count": 42,
   "metadata": {},
   "outputs": [
    {
     "name": "stdout",
     "output_type": "stream",
     "text": [
      "Model: \"model_1\"\n",
      "__________________________________________________________________________________________________\n",
      "Layer (type)                    Output Shape         Param #     Connected to                     \n",
      "==================================================================================================\n",
      "input_2 (InputLayer)            [(None, 4)]          0                                            \n",
      "__________________________________________________________________________________________________\n",
      "dense_5 (Dense)                 (None, 4)            20          input_2[0][0]                    \n",
      "__________________________________________________________________________________________________\n",
      "dense_6 (Dense)                 (None, 10)           50          dense_5[0][0]                    \n",
      "__________________________________________________________________________________________________\n",
      "dense_7 (Dense)                 (None, 10)           110         dense_6[0][0]                    \n",
      "__________________________________________________________________________________________________\n",
      "concatenate (Concatenate)       (None, 20)           0           dense_6[0][0]                    \n",
      "                                                                 dense_7[0][0]                    \n",
      "__________________________________________________________________________________________________\n",
      "dense_8 (Dense)                 (None, 3)            63          concatenate[0][0]                \n",
      "==================================================================================================\n",
      "Total params: 243\n",
      "Trainable params: 243\n",
      "Non-trainable params: 0\n",
      "__________________________________________________________________________________________________\n"
     ]
    }
   ],
   "source": [
    "model_new.summary()"
   ]
  },
  {
   "cell_type": "markdown",
   "metadata": {},
   "source": [
    "### Lets go Crazy.  \n",
    "\n",
    "You can control EVERY part of the loop.  USually not nessecary, but be aware \\\n"
   ]
  },
  {
   "cell_type": "code",
   "execution_count": 43,
   "metadata": {},
   "outputs": [],
   "source": [
    "BATCH_SIZE = 32\n",
    "SHUFFLE_BUFFER_SIZE = 120\n",
    "train_dataset = tf.data.Dataset.from_tensor_slices((iris['data'],iris['target']))\n",
    "train_dataset = train_dataset.shuffle(SHUFFLE_BUFFER_SIZE).batch(BATCH_SIZE)"
   ]
  },
  {
   "cell_type": "code",
   "execution_count": 44,
   "metadata": {},
   "outputs": [],
   "source": [
    "class_names = ['Iris setosa', 'Iris versicolor', 'Iris virginica']"
   ]
  },
  {
   "cell_type": "code",
   "execution_count": null,
   "metadata": {},
   "outputs": [],
   "source": []
  },
  {
   "cell_type": "code",
   "execution_count": 45,
   "metadata": {},
   "outputs": [
    {
     "data": {
      "image/png": "[encoded data removed]",
      "text/plain": [
       "<Figure size 432x288 with 1 Axes>"
      ]
     },
     "metadata": {
      "needs_background": "light"
     },
     "output_type": "display_data"
    }
   ],
   "source": [
    "features, labels = next(iter(train_dataset))\n",
    "plt.scatter(features[:,0],\n",
    "            features[:,2],\n",
    "            c=labels,\n",
    "            cmap='viridis')\n",
    "\n",
    "plt.xlabel(\"Petal length\")\n",
    "plt.ylabel(\"Sepal length\")\n",
    "plt.show()\n",
    "\n",
    "   "
   ]
  },
  {
   "cell_type": "code",
   "execution_count": 46,
   "metadata": {},
   "outputs": [],
   "source": [
    "model = tf.keras.Sequential([\n",
    "  tf.keras.layers.Dense(10, activation=tf.nn.relu, input_shape=(4,)),  # input shape required\n",
    "  tf.keras.layers.Dense(10, activation=tf.nn.relu),\n",
    "  tf.keras.layers.Dense(3)\n",
    "])\n",
    "\n"
   ]
  },
  {
   "cell_type": "code",
   "execution_count": 47,
   "metadata": {},
   "outputs": [
    {
     "data": {
      "text/plain": [
       "<tf.Tensor: shape=(5, 3), dtype=float32, numpy=\n",
       "array([[ 1.8738345 ,  1.7218388 , -0.1419865 ],\n",
       "       [ 1.2177174 ,  1.2045068 ,  0.41946828],\n",
       "       [ 2.302784  ,  2.113599  , -0.45279226],\n",
       "       [ 1.4333742 ,  1.4242414 ,  0.5925067 ],\n",
       "       [ 2.0031247 ,  1.8367372 , -0.20091091]], dtype=float32)>"
      ]
     },
     "execution_count": 47,
     "metadata": {},
     "output_type": "execute_result"
    }
   ],
   "source": [
    "predictions = model(features)\n",
    "predictions[:5]"
   ]
  },
  {
   "cell_type": "code",
   "execution_count": 48,
   "metadata": {},
   "outputs": [
    {
     "data": {
      "text/plain": [
       "<tf.Tensor: shape=(5, 3), dtype=float32, numpy=\n",
       "array([[0.5019569 , 0.43117693, 0.06686618],\n",
       "       [0.41034183, 0.4049566 , 0.18470158],\n",
       "       [0.5287632 , 0.4376221 , 0.03361473],\n",
       "       [0.41284016, 0.40908694, 0.1780729 ],\n",
       "       [0.5109666 , 0.43264467, 0.0563887 ]], dtype=float32)>"
      ]
     },
     "execution_count": 48,
     "metadata": {},
     "output_type": "execute_result"
    }
   ],
   "source": [
    "tf.nn.softmax(predictions[:5])\n"
   ]
  },
  {
   "cell_type": "code",
   "execution_count": 49,
   "metadata": {},
   "outputs": [
    {
     "name": "stdout",
     "output_type": "stream",
     "text": [
      "Prediction: [0 0 0 0 0 0 0 0 0 0 0 0 0 0 0 0 0 0 0 0 0 0 0 0 0 0 0 0 0 0 0 1]\n",
      "    Labels: [1 0 2 0 1 0 1 1 2 0 0 0 1 2 0 0 1 1 0 2 0 2 2 2 2 1 1 2 2 0 2 0]\n"
     ]
    }
   ],
   "source": [
    "print(\"Prediction: {}\".format(tf.argmax(predictions, axis=1)))\n",
    "print(\"    Labels: {}\".format(labels))"
   ]
  },
  {
   "cell_type": "code",
   "execution_count": 50,
   "metadata": {},
   "outputs": [],
   "source": [
    "loss_object = tf.keras.losses.SparseCategoricalCrossentropy(from_logits=True)"
   ]
  },
  {
   "cell_type": "code",
   "execution_count": 51,
   "metadata": {},
   "outputs": [
    {
     "name": "stdout",
     "output_type": "stream",
     "text": [
      "Loss test: 1.7346655130386353\n"
     ]
    }
   ],
   "source": [
    "\n",
    "def loss(model, x, y, training):\n",
    "  # training=training is needed only if there are layers with different\n",
    "  # behavior during training versus inference (e.g. Dropout).\n",
    "  y_ = model(x, training=training)\n",
    "\n",
    "  return loss_object(y_true=y, y_pred=y_)\n",
    "\n",
    "\n",
    "l = loss(model, features, labels, training=False)\n",
    "print(\"Loss test: {}\".format(l))"
   ]
  },
  {
   "cell_type": "code",
   "execution_count": 52,
   "metadata": {},
   "outputs": [],
   "source": [
    "\n",
    "def grad(model, inputs, targets):\n",
    "  with tf.GradientTape() as tape:\n",
    "    loss_value = loss(model, inputs, targets, training=True)\n",
    "  return loss_value, tape.gradient(loss_value, model.trainable_variables)"
   ]
  },
  {
   "cell_type": "code",
   "execution_count": 53,
   "metadata": {},
   "outputs": [],
   "source": [
    "optimizer = tf.keras.optimizers.SGD(learning_rate=0.01)"
   ]
  },
  {
   "cell_type": "code",
   "execution_count": 54,
   "metadata": {},
   "outputs": [
    {
     "name": "stdout",
     "output_type": "stream",
     "text": [
      "Step: 0, Initial Loss: 1.7346655130386353\n",
      "Step: 1,         Loss: 1.6080455780029297\n"
     ]
    }
   ],
   "source": [
    "loss_value, grads = grad(model, features, labels)\n",
    "\n",
    "print(\"Step: {}, Initial Loss: {}\".format(optimizer.iterations.numpy(),\n",
    "                                          loss_value.numpy()))\n",
    "\n",
    "optimizer.apply_gradients(zip(grads, model.trainable_variables))\n",
    "\n",
    "print(\"Step: {},         Loss: {}\".format(optimizer.iterations.numpy(),\n",
    "                                          loss(model, features, labels, training=True).numpy()))"
   ]
  },
  {
   "cell_type": "code",
   "execution_count": 56,
   "metadata": {},
   "outputs": [
    {
     "name": "stdout",
     "output_type": "stream",
     "text": [
      "Epoch 000: Loss: 1.453, Accuracy: 33.333%\n",
      "Epoch 050: Loss: 0.420, Accuracy: 92.000%\n",
      "Epoch 100: Loss: 0.206, Accuracy: 97.333%\n",
      "Epoch 150: Loss: 0.135, Accuracy: 97.333%\n",
      "Epoch 200: Loss: 0.094, Accuracy: 98.000%\n"
     ]
    }
   ],
   "source": [
    "## Note: Rerunning this cell uses the same model variables\n",
    "\n",
    "# Keep results for plotting\n",
    "train_loss_results = []\n",
    "train_accuracy_results = []\n",
    "\n",
    "num_epochs = 201\n",
    "\n",
    "for epoch in range(num_epochs):\n",
    "  epoch_loss_avg = tf.keras.metrics.Mean()\n",
    "  epoch_accuracy = tf.keras.metrics.SparseCategoricalAccuracy()\n",
    "\n",
    "  # Training loop - using batches of 32\n",
    "  for x, y in train_dataset:\n",
    "    # Optimize the model\n",
    "    loss_value, grads = grad(model, x, y)\n",
    "    optimizer.apply_gradients(zip(grads, model.trainable_variables))\n",
    "\n",
    "    # Track progress\n",
    "    epoch_loss_avg.update_state(loss_value)  # Add current batch loss\n",
    "    # Compare predicted label to actual label\n",
    "    # training=True is needed only if there are layers with different\n",
    "    # behavior during training versus inference (e.g. Dropout).\n",
    "    epoch_accuracy.update_state(y, model(x, training=True))\n",
    "\n",
    "  # End epoch\n",
    "  train_loss_results.append(epoch_loss_avg.result())\n",
    "  train_accuracy_results.append(epoch_accuracy.result())\n",
    "\n",
    "  if epoch % 50 == 0:\n",
    "    print(\"Epoch {:03d}: Loss: {:.3f}, Accuracy: {:.3%}\".format(epoch,\n",
    "                                                                epoch_loss_avg.result(),\n",
    "                                                                epoch_accuracy.result()))"
   ]
  },
  {
   "cell_type": "code",
   "execution_count": null,
   "metadata": {},
   "outputs": [],
   "source": []
  }
 ],
 "metadata": {
  "kernelspec": {
   "display_name": "Python 3",
   "language": "python",
   "name": "python3"
  },
  "language_info": {
   "codemirror_mode": {
    "name": "ipython",
    "version": 3
   },
   "file_extension": ".py",
   "mimetype": "text/x-python",
   "name": "python",
   "nbconvert_exporter": "python",
   "pygments_lexer": "ipython3",
   "version": "3.8.8"
  }
 },
 "nbformat": 4,
 "nbformat_minor": 2
}
