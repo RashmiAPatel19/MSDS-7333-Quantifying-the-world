{
 "cells": [
  {
   "cell_type": "markdown",
   "id": "64ec6474",
   "metadata": {},
   "source": [
    "# SMU-MSDS-7333-Quantifying the World\n",
    "\n",
    "## Case Study 3- Email Classification as Span or Ham \n",
    "\n",
    "By Rashmi Patel\n",
    "\n"
   ]
  },
  {
   "cell_type": "markdown",
   "id": "bada6f64",
   "metadata": {},
   "source": [
    "# Introduction\n",
    "\n",
    "In this case study, we will build a classifier using clustering and naive bayes classifier that classifies whether the email given is spam or ham. We will perform analysis by dividing this case study into 6 parts:\n",
    "\n",
    "* Business Understanding\n",
    "\n",
    "* Data Evaluation / Engineering\n",
    "\n",
    "* Modeling Preparations\n",
    "\n",
    "* Model Building & Evaluation\n",
    "\n",
    "* Model Interpretability & Explainability\n",
    "\n",
    "* Case Conclusions"
   ]
  },
  {
   "cell_type": "code",
   "execution_count": 1,
   "id": "621cc262",
   "metadata": {},
   "outputs": [],
   "source": [
    "#Import required libraries\n",
    "import pandas as pd\n",
    "import numpy as np\n",
    "import matplotlib.pyplot as plt\n",
    "import seaborn as sns\n",
    "from wordcloud import WordCloud\n",
    "import sklearn as sk\n",
    "import re\n",
    "import os\n",
    "\n",
    "#NLP\n",
    "import nltk\n",
    "import re \n",
    "from sklearn.feature_extraction.text import TfidfVectorizer\n",
    "from sklearn.feature_extraction.text import CountVectorizer\n",
    "from sklearn.cluster import KMeans\n",
    "from sklearn.metrics import silhouette_samples, silhouette_score\n",
    "from sklearn import feature_extraction, model_selection, naive_bayes, metrics\n",
    "from sklearn.metrics import classification_report\n",
    "from sklearn.metrics import confusion_matrix\n",
    "from sklearn.model_selection import train_test_split\n",
    "\n",
    "#Email Parser \n",
    "import email\n",
    "from html.parser import HTMLParser\n",
    "from bs4 import BeautifulSoup"
   ]
  },
  {
   "cell_type": "markdown",
   "id": "057c92ca",
   "metadata": {},
   "source": [
    "## Business Understanding"
   ]
  },
  {
   "cell_type": "markdown",
   "id": "e7b218bf",
   "metadata": {},
   "source": [
    "## Data Evaluation/ Engineering"
   ]
  },
  {
   "cell_type": "code",
   "execution_count": 2,
   "id": "4f496cdb",
   "metadata": {},
   "outputs": [
    {
     "data": {
      "text/plain": [
       "['spam',\n",
       " 'hard_ham',\n",
       " 'spam_2',\n",
       " '.DS_Store',\n",
       " 'Email Parsing and Word Vector Demo.ipynb',\n",
       " '~$DS7333_CaseStudy_2_RPatel.pptx',\n",
       " 'easy_ham',\n",
       " 'DS7333_CaseStudy_2_RPatel.pptx',\n",
       " 'RP_SR_7333_CaseStudy3.ipynb',\n",
       " 'demo reference cs3.ipynb',\n",
       " '.ipynb_checkpoints',\n",
       " 'easy_ham_2',\n",
       " 'MasterCopy.ipynb']"
      ]
     },
     "execution_count": 2,
     "metadata": {},
     "output_type": "execute_result"
    }
   ],
   "source": [
    "os.listdir()"
   ]
  },
  {
   "cell_type": "code",
   "execution_count": 3,
   "id": "150de299",
   "metadata": {
    "scrolled": true
   },
   "outputs": [
    {
     "name": "stdout",
     "output_type": "stream",
     "text": [
      "Email Parsing and Word Vector Demo.ipynb\n",
      "~$DS7333_CaseStudy_2_RPatel.pptx\n",
      "DS7333_CaseStudy_2_RPatel.pptx\n",
      "RP_SR_7333_CaseStudy3.ipynb\n",
      "demo reference cs3.ipynb\n",
      "MasterCopy.ipynb\n"
     ]
    }
   ],
   "source": [
    "root = '/Users/arth/Desktop/RP-MSDS/Spring2022/QTW/CaseStudy3'\n",
    "for item in os.listdir(root):\n",
    "    if not item.startswith('.') and os.path.isfile(os.path.join(root, item)):\n",
    "        print(item)"
   ]
  },
  {
   "cell_type": "code",
   "execution_count": 4,
   "id": "556c1779",
   "metadata": {},
   "outputs": [
    {
     "data": {
      "text/plain": [
       "['spam', 'hard_ham', 'spam_2', 'easy_ham', 'easy_ham_2']"
      ]
     },
     "execution_count": 4,
     "metadata": {},
     "output_type": "execute_result"
    }
   ],
   "source": [
    "folder=[fdr for fdr in os.listdir('.') if(re.match(r'easy',fdr)) or (re.match(r'hard',fdr)) or (re.match(r'spam',fdr))]\n",
    "folder"
   ]
  },
  {
   "cell_type": "code",
   "execution_count": 5,
   "id": "5e4309b5",
   "metadata": {},
   "outputs": [
    {
     "name": "stdout",
     "output_type": "stream",
     "text": [
      "spam : 1001\n",
      "hard_ham : 501\n",
      "spam_2 : 934\n",
      "easy_ham : 5052\n",
      "easy_ham_2 : 1401\n"
     ]
    }
   ],
   "source": [
    "directory = []\n",
    "for i in range(len(folder)):\n",
    "    directory = folder[i]\n",
    "    print(directory,':',len([name for name in os.listdir(directory) if os.path.isfile(os.path.join(directory, name))]))\n"
   ]
  },
  {
   "cell_type": "code",
   "execution_count": 6,
   "id": "52fdaaa4",
   "metadata": {},
   "outputs": [],
   "source": [
    "def strip_head(text):\n",
    "    tmp=[]\n",
    "    flag = False\n",
    "    for i in text:\n",
    "        if i=='':\n",
    "            flag = True\n",
    "        if flag == True:\n",
    "            tmp.append(i)\n",
    "    return tmp"
   ]
  },
  {
   "cell_type": "code",
   "execution_count": 7,
   "id": "7a70faf0",
   "metadata": {},
   "outputs": [],
   "source": [
    "def get_text(email):\n",
    "    if email.is_multipart():\n",
    "        tmp = email.get_payload()[0]\n",
    "        return get_text(tmp)\n",
    "    elif email.is_multipart() == False:\n",
    "        return email"
   ]
  },
  {
   "cell_type": "markdown",
   "id": "f01f363a",
   "metadata": {},
   "source": [
    "### Parsing the Easy Ham folder"
   ]
  },
  {
   "cell_type": "code",
   "execution_count": 8,
   "id": "8eabc08a",
   "metadata": {},
   "outputs": [
    {
     "name": "stdout",
     "output_type": "stream",
     "text": [
      "Total emails parsed in easy_ham: 5052\n",
      "Total targets for easy_ham: 5052\n"
     ]
    }
   ],
   "source": [
    "targets_eh = []\n",
    "data_eh = []\n",
    "count_eh = 0\n",
    "not_spamList = os.listdir(\"./easy_ham/\")\n",
    "for i in not_spamList:\n",
    "    with open(\"./easy_ham/\"+i, \"r\",encoding= 'utf-8', errors='ignore') as f:\n",
    "        x = email.message_from_file(f)\n",
    "    x = get_text(x)\n",
    "    mailType = x.get_content_type()\n",
    "    if mailType == \"text/plain\":\n",
    "        tmp = x.get_payload()\n",
    "        tmp = tmp.replace(\"\\n\",\" \")\n",
    "        tmp = tmp.replace(r'http\\S+', ' ')\n",
    "        tmp = re.sub(r'[^\\w\\s]', ' ',tmp)\n",
    "        data_eh.append(tmp)\n",
    "        targets_eh.append(0)\n",
    "    elif mailType == \"text/html\":\n",
    "        tmp = BeautifulSoup(x.get_payload(), 'html.parser')\n",
    "        tmp = tmp.text.replace(\"\\n\",\" \")\n",
    "        tmp = tmp.replace(r'http\\S+', ' ')\n",
    "        tmp = tmp.replace(\"-\",\" \")\n",
    "        data_eh.append(tmp)\n",
    "        targets_eh.append(0)\n",
    "    else:\n",
    "        print(f\"msg {i} not parsed\")\n",
    "        print(x.get_content_type())\n",
    "print('Total emails parsed in easy_ham:',len(data_eh))\n",
    "print('Total targets for easy_ham:',len(targets_eh))\n"
   ]
  },
  {
   "cell_type": "markdown",
   "id": "2ccee8f8",
   "metadata": {},
   "source": [
    "### Parsing the Easy Ham 2 folder"
   ]
  },
  {
   "cell_type": "code",
   "execution_count": 9,
   "id": "70eb14cb",
   "metadata": {},
   "outputs": [
    {
     "name": "stdout",
     "output_type": "stream",
     "text": [
      "Total emails parsed in easy_ham_2: 1401\n",
      "Total targets for easy_ham_2: 1401\n"
     ]
    }
   ],
   "source": [
    "targets_eh2 = []\n",
    "data_eh2 = []\n",
    "count_eh2 = 0\n",
    "not_spamList = os.listdir(\"./easy_ham_2/\")\n",
    "for i in not_spamList:\n",
    "    with open(\"./easy_ham_2/\"+i, \"r\",encoding= 'utf-8', errors='ignore') as f:\n",
    "        x = email.message_from_file(f)\n",
    "    x = get_text(x)\n",
    "    mailType = x.get_content_type()\n",
    "    if mailType == \"text/plain\":\n",
    "        tmp = x.get_payload()\n",
    "        tmp = tmp.replace(\"\\n\",\" \")\n",
    "        tmp = tmp.replace(r'http\\S+', ' ')\n",
    "        tmp = re.sub(r'[^\\w\\s]', ' ',tmp)\n",
    "        data_eh2.append(tmp)\n",
    "        targets_eh2.append(0)\n",
    "    elif mailType == \"text/html\":\n",
    "        tmp = BeautifulSoup(x.get_payload(), 'html.parser')\n",
    "        tmp = tmp.text.replace(\"\\n\",\" \")\n",
    "        tmp = tmp.replace(r'http\\S+', ' ')\n",
    "        tmp = re.sub(r'[^\\w\\s]', ' ',tmp)\n",
    "        data_eh2.append(tmp)\n",
    "        targets_eh2.append(0)\n",
    "    else:\n",
    "        print(f\"msg {i} not parsed\")\n",
    "        print(x.get_content_type())\n",
    "print('Total emails parsed in easy_ham_2:',len(data_eh2))\n",
    "print('Total targets for easy_ham_2:',len(targets_eh2))\n"
   ]
  },
  {
   "cell_type": "markdown",
   "id": "c41dfdf8",
   "metadata": {},
   "source": [
    "### Parsing the Hard Ham folder"
   ]
  },
  {
   "cell_type": "code",
   "execution_count": 10,
   "id": "df92f69f",
   "metadata": {},
   "outputs": [
    {
     "name": "stdout",
     "output_type": "stream",
     "text": [
      "Total emails parsed in hard_ham: 501\n",
      "Total targets for easy_ham: 501\n"
     ]
    }
   ],
   "source": [
    "targets_hh = []\n",
    "data_hh = []\n",
    "count_hh = 0\n",
    "not_spamList = os.listdir(\"./hard_ham/\")\n",
    "for i in not_spamList:\n",
    "    with open(\"./hard_ham/\"+i, \"r\",encoding= 'utf-8', errors='ignore') as f:\n",
    "        x = email.message_from_file(f)\n",
    "    x = get_text(x)\n",
    "    mailType = x.get_content_type()\n",
    "    if mailType == \"text/plain\":\n",
    "        tmp = x.get_payload()\n",
    "        tmp = tmp.replace(\"\\n\",\" \")\n",
    "        tmp = tmp.replace(r'http\\S+', ' ')\n",
    "        tmp = re.sub(r'[^\\w\\s]', ' ',tmp)\n",
    "        data_hh.append(tmp)\n",
    "        targets_hh.append(0)\n",
    "    elif mailType == \"text/html\":\n",
    "        tmp = BeautifulSoup(x.get_payload(), 'html.parser')\n",
    "        tmp = tmp.text.replace(\"\\n\",\" \")\n",
    "        tmp = tmp.replace(r'http\\S+', ' ')\n",
    "        tmp = re.sub(r'[^\\w\\s]', ' ',tmp)\n",
    "        data_hh.append(tmp)\n",
    "        targets_hh.append(0)\n",
    "    else:\n",
    "        print(f\"msg {i} not parsed\")\n",
    "        print(x.get_content_type())\n",
    "print('Total emails parsed in hard_ham:',len(data_hh))\n",
    "print('Total targets for easy_ham:',len(targets_hh))"
   ]
  },
  {
   "cell_type": "markdown",
   "id": "5220f38a",
   "metadata": {},
   "source": [
    "### Parsing the Spam folder"
   ]
  },
  {
   "cell_type": "code",
   "execution_count": 11,
   "id": "1c63bce6",
   "metadata": {},
   "outputs": [
    {
     "name": "stdout",
     "output_type": "stream",
     "text": [
      "Total emails parsed in spam: 1001\n",
      "Total targets for spam: 1001\n"
     ]
    }
   ],
   "source": [
    "\n",
    "targets_sp = []\n",
    "data_sp = []\n",
    "count_sp = 0\n",
    "spamList = os.listdir(\"./spam/\")\n",
    "for i in spamList:\n",
    "    with open(\"./spam/\"+i, \"r\",encoding= 'utf-8' or 'us-ascii' or 'windows-1252' or 'iso-8859-1', errors='ignore') as f:\n",
    "        x = email.message_from_file(f)\n",
    "    x = get_text(x)\n",
    "    mailType = x.get_content_type()\n",
    "    if mailType == \"text/plain\":\n",
    "        tmp = x.get_payload()\n",
    "        tmp = tmp.replace(\"\\n\",\" \")\n",
    "        tmp = tmp.replace(r'http\\S+', ' ')\n",
    "        tmp = re.sub(r'[^\\w\\s]', ' ',tmp)\n",
    "        data_sp.append(tmp)\n",
    "        targets_sp.append(0)\n",
    "    elif mailType == \"text/html\":\n",
    "        tmp = BeautifulSoup(x.get_payload(), 'html.parser')\n",
    "        tmp = tmp.text.replace(\"\\n\",\" \")\n",
    "        tmp = tmp.replace(r'http\\S+', ' ')\n",
    "        tmp = re.sub(r'[^\\w\\s]', ' ',tmp)\n",
    "        data_sp.append(tmp)\n",
    "        targets_sp.append(1)\n",
    "    elif mailType == \"multipart/alternative\":\n",
    "        tmp = BeautifulSoup(x.get_payload())\n",
    "        tmp = tmp.text.replace(\"\\n\",\" \")\n",
    "        tmp = tmp.replace(r'http\\S+', ' ')\n",
    "        tmp = re.sub(r'[^\\w\\s]', ' ',tmp)\n",
    "        data_sp.append(tmp)\n",
    "        targets_sp.append(1)\n",
    "    else:\n",
    "        print(f\"msg {i} not parsed\")\n",
    "        print(x.get_content_type())\n",
    "print('Total emails parsed in spam:',len(data_sp))\n",
    "print('Total targets for spam:',len(targets_sp))"
   ]
  },
  {
   "cell_type": "markdown",
   "id": "6a575af5",
   "metadata": {},
   "source": [
    "### Parsing the Spam 2 folder"
   ]
  },
  {
   "cell_type": "code",
   "execution_count": 12,
   "id": "e050f170",
   "metadata": {},
   "outputs": [
    {
     "name": "stdout",
     "output_type": "stream",
     "text": [
      "Total emails parsed in spam_2: 934\n",
      "Total targets for spam_2: 934\n"
     ]
    }
   ],
   "source": [
    "import chardet\n",
    "\n",
    "targets_sp2 = []\n",
    "data_sp2 = []\n",
    "count_sp2 = 0\n",
    "spamList = os.listdir(\"./spam_2/\")\n",
    "for i in spamList:\n",
    "    with open(\"./spam_2/\"+i, \"r\",encoding = 'utf-8' or 'us-ascii' or 'windows-1252' or 'iso-8859-1', errors='ignore' or 'surrogateescape') as f:\n",
    "        x = email.message_from_file(f)\n",
    "    x = get_text(x)\n",
    "    mailType = x.get_content_type()\n",
    "    textType = x.get_content_charset()\n",
    "    if mailType == \"text/plain\":\n",
    "        tmp = x.get_payload()\n",
    "        tmp = tmp.replace(\"\\n\",\" \")\n",
    "        tmp = tmp.replace(r'http\\S+', ' ')\n",
    "        tmp = re.sub(r'[^\\w\\s]', ' ',tmp)\n",
    "        data_sp2.append(tmp)\n",
    "        targets_sp2.append(1)\n",
    "    elif mailType == \"text/plain charset=us-ascii\":\n",
    "        tmp = x.get_payload()\n",
    "        tmp = tmp.replace(\"\\n\",\" \")\n",
    "        tmp = tmp.replace(r'http\\S+', ' ')\n",
    "        tmp = re.sub(r'[^\\w\\s]', ' ',tmp)\n",
    "        data_sp2.append(tmp)\n",
    "        targets_sp2.append(1)\n",
    "    elif mailType == \"text/html\":\n",
    "        tmp = BeautifulSoup(x.get_payload(), 'html.parser')\n",
    "        tmp = tmp.text.replace(\"\\n\",\" \")\n",
    "        tmp = tmp.replace(r'http\\S+', ' ')\n",
    "        tmp = re.sub(r'[^\\w\\s]', ' ',tmp)\n",
    "        data_sp2.append(tmp)\n",
    "        targets_sp2.append(1)\n",
    "    else:\n",
    "        print(f\"msg {i} not parsed\")\n",
    "        print(x.get_content_type())\n",
    "print('Total emails parsed in spam_2:',len(data_sp2))\n",
    "print('Total targets for spam_2:',len(targets_sp2))\n"
   ]
  },
  {
   "cell_type": "code",
   "execution_count": 13,
   "id": "ceae2dca",
   "metadata": {},
   "outputs": [
    {
     "name": "stdout",
     "output_type": "stream",
     "text": [
      "True\n",
      "8889\n"
     ]
    }
   ],
   "source": [
    "data_total=len(data_sp2)+len(data_sp)+len(data_eh)+len(data_eh2)+len(data_hh)\n",
    "target_total=len(targets_sp2)+len(targets_sp)+len(targets_eh)+len(targets_eh2)+len(targets_hh)\n",
    "\n",
    "print(data_total==target_total)\n",
    "print(target_total)"
   ]
  },
  {
   "cell_type": "code",
   "execution_count": 14,
   "id": "757d418a",
   "metadata": {},
   "outputs": [
    {
     "name": "stdout",
     "output_type": "stream",
     "text": [
      "8889\n",
      "8889\n"
     ]
    }
   ],
   "source": [
    "data=data_sp2+data_sp+data_eh+data_eh2+data_hh\n",
    "targets=targets_sp2+targets_sp+targets_eh+targets_eh2+targets_hh\n",
    "\n",
    "print(len(data))\n",
    "print(len(targets))"
   ]
  },
  {
   "cell_type": "code",
   "execution_count": 15,
   "id": "09cf6082",
   "metadata": {},
   "outputs": [
    {
     "name": "stdout",
     "output_type": "stream",
     "text": [
      "The total files given for parsing from different folders was: 8889\n",
      "The total files parsed from different folders was: 8889\n",
      "There was 0 file/files which did not get parsed.\n"
     ]
    }
   ],
   "source": [
    "# Number of files parsed \n",
    "num=0\n",
    "for i in range(len(folder)):\n",
    "    t=len([name for name in os.listdir(folder[i]) if os.path.isfile(os.path.join(folder[i], name))])\n",
    "    num=num+t\n",
    "\n",
    "print('The total files given for parsing from different folders was:',num)\n",
    "print('The total files parsed from different folders was:',data_total)\n",
    "print('There was',num-data_total,'file/files which did not get parsed.')\n"
   ]
  },
  {
   "cell_type": "code",
   "execution_count": 16,
   "id": "12d11917",
   "metadata": {},
   "outputs": [
    {
     "name": "stdout",
     "output_type": "stream",
     "text": [
      "data 8889\n",
      "new_data 8889\n",
      "[0 1]\n",
      "8889\n"
     ]
    }
   ],
   "source": [
    "import nltk\n",
    "from nltk.corpus import stopwords\n",
    "from nltk.tokenize import word_tokenize\n",
    "stopset = set(stopwords.words('english'))\n",
    "def remove_stopwords(dt):\n",
    "    output_array=[]\n",
    "    for sen in dt:\n",
    "        temp_list=[]\n",
    "        for word in sen.split():\n",
    "            if word.lower() not in stopset:\n",
    "                temp_list.append(word)\n",
    "        output_array.append(' '.join(temp_list))\n",
    "    return output_array\n",
    "\n",
    "new_data = remove_stopwords(data)\n",
    "print(\"data\",len(data))\n",
    "print(\"new_data\",len(new_data))\n",
    "print(np.unique(targets))\n",
    "print(len(targets))"
   ]
  },
  {
   "cell_type": "code",
   "execution_count": 17,
   "id": "0e8be5f5",
   "metadata": {},
   "outputs": [
    {
     "data": {
      "text/html": [
       "<div>\n",
       "<style scoped>\n",
       "    .dataframe tbody tr th:only-of-type {\n",
       "        vertical-align: middle;\n",
       "    }\n",
       "\n",
       "    .dataframe tbody tr th {\n",
       "        vertical-align: top;\n",
       "    }\n",
       "\n",
       "    .dataframe thead th {\n",
       "        text-align: right;\n",
       "    }\n",
       "</style>\n",
       "<table border=\"1\" class=\"dataframe\">\n",
       "  <thead>\n",
       "    <tr style=\"text-align: right;\">\n",
       "      <th></th>\n",
       "      <th>Email</th>\n",
       "      <th>Spam/NotSpam</th>\n",
       "    </tr>\n",
       "  </thead>\n",
       "  <tbody>\n",
       "    <tr>\n",
       "      <th>0</th>\n",
       "      <td>Venez rencontrer l ame soeur sur LOVEIMPACT co...</td>\n",
       "      <td>1</td>\n",
       "    </tr>\n",
       "    <tr>\n",
       "      <th>1</th>\n",
       "      <td>man endowed 7 8 hammer simply better equipped ...</td>\n",
       "      <td>1</td>\n",
       "    </tr>\n",
       "    <tr>\n",
       "      <th>2</th>\n",
       "      <td>Date May 16 2002 Email edum hkem com Dear Sir ...</td>\n",
       "      <td>1</td>\n",
       "    </tr>\n",
       "    <tr>\n",
       "      <th>3</th>\n",
       "      <td>HTML BODY FREE CASINO SPORTSBOOK EARNING POTEN...</td>\n",
       "      <td>1</td>\n",
       "    </tr>\n",
       "    <tr>\n",
       "      <th>4</th>\n",
       "      <td>Hi make 50 000 next 90 days sending e mail See...</td>\n",
       "      <td>1</td>\n",
       "    </tr>\n",
       "  </tbody>\n",
       "</table>\n",
       "</div>"
      ],
      "text/plain": [
       "                                               Email  Spam/NotSpam\n",
       "0  Venez rencontrer l ame soeur sur LOVEIMPACT co...             1\n",
       "1  man endowed 7 8 hammer simply better equipped ...             1\n",
       "2  Date May 16 2002 Email edum hkem com Dear Sir ...             1\n",
       "3  HTML BODY FREE CASINO SPORTSBOOK EARNING POTEN...             1\n",
       "4  Hi make 50 000 next 90 days sending e mail See...             1"
      ]
     },
     "execution_count": 17,
     "metadata": {},
     "output_type": "execute_result"
    }
   ],
   "source": [
    "df=pd.DataFrame(data={'Email': new_data, 'Spam/NotSpam': targets})\n",
    "df.head()"
   ]
  },
  {
   "cell_type": "code",
   "execution_count": 18,
   "id": "edc3c287",
   "metadata": {},
   "outputs": [
    {
     "name": "stdout",
     "output_type": "stream",
     "text": [
      "<class 'pandas.core.frame.DataFrame'>\n",
      "RangeIndex: 8889 entries, 0 to 8888\n",
      "Data columns (total 2 columns):\n",
      " #   Column        Non-Null Count  Dtype \n",
      "---  ------        --------------  ----- \n",
      " 0   Email         8889 non-null   object\n",
      " 1   Spam/NotSpam  8889 non-null   int64 \n",
      "dtypes: int64(1), object(1)\n",
      "memory usage: 139.0+ KB\n"
     ]
    }
   ],
   "source": [
    "df.info()"
   ]
  },
  {
   "cell_type": "code",
   "execution_count": 19,
   "id": "7ff0200b",
   "metadata": {},
   "outputs": [
    {
     "data": {
      "text/html": [
       "<div>\n",
       "<style scoped>\n",
       "    .dataframe tbody tr th:only-of-type {\n",
       "        vertical-align: middle;\n",
       "    }\n",
       "\n",
       "    .dataframe tbody tr th {\n",
       "        vertical-align: top;\n",
       "    }\n",
       "\n",
       "    .dataframe thead th {\n",
       "        text-align: right;\n",
       "    }\n",
       "</style>\n",
       "<table border=\"1\" class=\"dataframe\">\n",
       "  <thead>\n",
       "    <tr style=\"text-align: right;\">\n",
       "      <th></th>\n",
       "      <th>Email</th>\n",
       "      <th>Spam/NotSpam</th>\n",
       "    </tr>\n",
       "  </thead>\n",
       "  <tbody>\n",
       "    <tr>\n",
       "      <th>492</th>\n",
       "      <td></td>\n",
       "      <td>1</td>\n",
       "    </tr>\n",
       "    <tr>\n",
       "      <th>3491</th>\n",
       "      <td>Sun 8 Sep 2002 Gordon Mohr wrote Gary Lawrence...</td>\n",
       "      <td>0</td>\n",
       "    </tr>\n",
       "    <tr>\n",
       "      <th>733</th>\n",
       "      <td>GiftCD Offer Newsletter Confirmation August 8t...</td>\n",
       "      <td>1</td>\n",
       "    </tr>\n",
       "    <tr>\n",
       "      <th>432</th>\n",
       "      <td>20 20 Feeling Exposed Cover Assets 09 Policies...</td>\n",
       "      <td>1</td>\n",
       "    </tr>\n",
       "    <tr>\n",
       "      <th>5015</th>\n",
       "      <td>Sat Sep 14 2002 04 27 47PM 0100 Justin Mason w...</td>\n",
       "      <td>0</td>\n",
       "    </tr>\n",
       "    <tr>\n",
       "      <th>3957</th>\n",
       "      <td>Hi Wed 4 Sep 2002 Yannick Gingras wrote BTW th...</td>\n",
       "      <td>0</td>\n",
       "    </tr>\n",
       "    <tr>\n",
       "      <th>6116</th>\n",
       "      <td>exmh problem interaction sendmail Solaris mh s...</td>\n",
       "      <td>0</td>\n",
       "    </tr>\n",
       "    <tr>\n",
       "      <th>6529</th>\n",
       "      <td>something crudely along lines VMS VAX maybe 13...</td>\n",
       "      <td>0</td>\n",
       "    </tr>\n",
       "    <tr>\n",
       "      <th>4626</th>\n",
       "      <td>URL http www newsisfree com click 2 8668042 14...</td>\n",
       "      <td>0</td>\n",
       "    </tr>\n",
       "    <tr>\n",
       "      <th>1040</th>\n",
       "      <td>Help wanted 14 year old fortune 500 company gr...</td>\n",
       "      <td>0</td>\n",
       "    </tr>\n",
       "  </tbody>\n",
       "</table>\n",
       "</div>"
      ],
      "text/plain": [
       "                                                  Email  Spam/NotSpam\n",
       "492                                                                 1\n",
       "3491  Sun 8 Sep 2002 Gordon Mohr wrote Gary Lawrence...             0\n",
       "733   GiftCD Offer Newsletter Confirmation August 8t...             1\n",
       "432   20 20 Feeling Exposed Cover Assets 09 Policies...             1\n",
       "5015  Sat Sep 14 2002 04 27 47PM 0100 Justin Mason w...             0\n",
       "3957  Hi Wed 4 Sep 2002 Yannick Gingras wrote BTW th...             0\n",
       "6116  exmh problem interaction sendmail Solaris mh s...             0\n",
       "6529  something crudely along lines VMS VAX maybe 13...             0\n",
       "4626  URL http www newsisfree com click 2 8668042 14...             0\n",
       "1040  Help wanted 14 year old fortune 500 company gr...             0"
      ]
     },
     "execution_count": 19,
     "metadata": {},
     "output_type": "execute_result"
    }
   ],
   "source": [
    "#Shuffle the data frame\n",
    "df = df.sample(frac=1)\n",
    "df.head(n=10)"
   ]
  },
  {
   "cell_type": "code",
   "execution_count": 20,
   "id": "a9e933b6",
   "metadata": {},
   "outputs": [
    {
     "data": {
      "image/png": "[encoded data removed]",
      "text/plain": [
       "<Figure size 432x288 with 1 Axes>"
      ]
     },
     "metadata": {
      "needs_background": "light"
     },
     "output_type": "display_data"
    }
   ],
   "source": [
    "count_Class=pd.value_counts(df[\"Spam/NotSpam\"])\n",
    "count_Class.plot(kind= 'bar', color= [\"blue\", \"orange\"])\n",
    "plt.title('Bar chart')\n",
    "plt.show()"
   ]
  },
  {
   "cell_type": "code",
   "execution_count": 21,
   "id": "13d89889",
   "metadata": {},
   "outputs": [
    {
     "data": {
      "image/png": "[encoded data removed]",
      "text/plain": [
       "<Figure size 432x288 with 1 Axes>"
      ]
     },
     "metadata": {},
     "output_type": "display_data"
    }
   ],
   "source": [
    "count_Class.plot(kind = 'pie',  autopct='%1.0f%%')\n",
    "plt.title('Pie chart')\n",
    "plt.ylabel('')\n",
    "plt.show()"
   ]
  },
  {
   "cell_type": "markdown",
   "id": "c7edb552",
   "metadata": {},
   "source": [
    "## Modeling Preparations"
   ]
  },
  {
   "cell_type": "markdown",
   "id": "d1ae78e3",
   "metadata": {},
   "source": [
    "## Model building & Evaluations"
   ]
  },
  {
   "cell_type": "code",
   "execution_count": 22,
   "id": "c9fd79f0",
   "metadata": {},
   "outputs": [
    {
     "name": "stderr",
     "output_type": "stream",
     "text": [
      "/Users/arth/opt/anaconda3/lib/python3.8/site-packages/sklearn/feature_extraction/text.py:388: UserWarning: Your stop_words may be inconsistent with your preprocessing. Tokenizing the stop words generated tokens [\"'d\", \"'ll\", \"'re\", \"'s\", \"'ve\", 'could', 'might', 'must', \"n't\", 'need', 'sha', 'wo', 'would'] not in stop_words.\n",
      "  warnings.warn('Your stop_words may be inconsistent with '\n"
     ]
    }
   ],
   "source": [
    "#Model using Count Vectorizer\n",
    "cv = CountVectorizer(tokenizer = nltk.word_tokenize,stop_words = nltk.corpus.stopwords.words(\"english\"))\n",
    "X_cv = cv.fit_transform(df['Email'].values).toarray()\n",
    "y_cv = df.iloc[:, 1].values"
   ]
  },
  {
   "cell_type": "code",
   "execution_count": 23,
   "id": "62b88123",
   "metadata": {},
   "outputs": [
    {
     "data": {
      "text/plain": [
       "(8889, 84448)"
      ]
     },
     "execution_count": 23,
     "metadata": {},
     "output_type": "execute_result"
    }
   ],
   "source": [
    "X_cv.shape"
   ]
  },
  {
   "cell_type": "code",
   "execution_count": 24,
   "id": "b58262cc",
   "metadata": {},
   "outputs": [
    {
     "data": {
      "text/plain": [
       "(8889,)"
      ]
     },
     "execution_count": 24,
     "metadata": {},
     "output_type": "execute_result"
    }
   ],
   "source": [
    "y_cv.shape"
   ]
  },
  {
   "cell_type": "code",
   "execution_count": 25,
   "id": "96c8e97f",
   "metadata": {},
   "outputs": [],
   "source": [
    "# Splitting the dataset into the Training set and Test set\n",
    "X_train, X_test, y_train, y_test = train_test_split(X_cv, y_cv, test_size = 0.30, random_state=42)"
   ]
  },
  {
   "cell_type": "code",
   "execution_count": 26,
   "id": "7a0c0021",
   "metadata": {},
   "outputs": [
    {
     "data": {
      "text/plain": [
       "array([1, 1, 0, ..., 1, 0, 0])"
      ]
     },
     "execution_count": 26,
     "metadata": {},
     "output_type": "execute_result"
    }
   ],
   "source": [
    "from sklearn.naive_bayes import MultinomialNB\n",
    "classifier = MultinomialNB(alpha=0.001, class_prior=None, fit_prior=True)\n",
    "classifier.fit(X_train , y_train)\n",
    "# Predicting the Test set results\n",
    "y_pred = classifier.predict(X_test)\n",
    "y_pred"
   ]
  },
  {
   "cell_type": "code",
   "execution_count": 27,
   "id": "56fc1bff",
   "metadata": {},
   "outputs": [
    {
     "name": "stdout",
     "output_type": "stream",
     "text": [
      "[[2198   54]\n",
      " [  59  356]]\n",
      "              precision    recall  f1-score   support\n",
      "\n",
      "    Not Spam       0.97      0.98      0.97      2252\n",
      "        Spam       0.87      0.86      0.86       415\n",
      "\n",
      "    accuracy                           0.96      2667\n",
      "   macro avg       0.92      0.92      0.92      2667\n",
      "weighted avg       0.96      0.96      0.96      2667\n",
      "\n"
     ]
    }
   ],
   "source": [
    "cm_cv = metrics.confusion_matrix(y_test, y_pred)\n",
    "print(cm_cv)\n",
    "print(classification_report(y_test,y_pred,target_names=['Not Spam', 'Spam']))"
   ]
  },
  {
   "cell_type": "code",
   "execution_count": 28,
   "id": "ab9e2725",
   "metadata": {},
   "outputs": [
    {
     "data": {
      "text/plain": [
       "<function matplotlib.pyplot.show(close=None, block=None)>"
      ]
     },
     "execution_count": 28,
     "metadata": {},
     "output_type": "execute_result"
    },
    {
     "data": {
      "image/png": "[encoded data removed]",
      "text/plain": [
       "<Figure size 432x288 with 2 Axes>"
      ]
     },
     "metadata": {
      "needs_background": "light"
     },
     "output_type": "display_data"
    }
   ],
   "source": [
    "ax = plt.axes()\n",
    "x_axis_labels = ['Not Spam', 'Spam']\n",
    "y_axis_labels = ['Not Spam', 'Spam']\n",
    "sns.heatmap(cm_cv, cmap='Blues', annot=True, fmt='d',xticklabels=x_axis_labels,\n",
    "            yticklabels=y_axis_labels, ax=ax, cbar_kws={'label': 'Email Count',})\n",
    "ax.set_title('Email Classification Spam/Not Spam - CountVectorizer')\n",
    "plt.xlabel(\"Predicted Email Classification\")\n",
    "plt.ylabel(\"True Email Classification\") \n",
    "plt.show"
   ]
  },
  {
   "cell_type": "code",
   "execution_count": 29,
   "id": "516ddc95",
   "metadata": {},
   "outputs": [
    {
     "data": {
      "image/png": "[encoded data removed]",
      "text/plain": [
       "<Figure size 432x288 with 1 Axes>"
      ]
     },
     "metadata": {
      "needs_background": "light"
     },
     "output_type": "display_data"
    }
   ],
   "source": [
    "import sklearn.metrics as metrics\n",
    "# calculate the fpr and tpr for all thresholds of the classification\n",
    "y_pred_proba = classifier.predict_proba(X_test)[::,1]\n",
    "fpr, tpr, _ = metrics.roc_curve(y_test,  y_pred_proba)\n",
    "auc = metrics.roc_auc_score(y_test, y_pred_proba)\n",
    "\n",
    "# method I: plt\n",
    "import matplotlib.pyplot as plt\n",
    "plt.title('Receiver Operating Characteristic')\n",
    "plt.plot(fpr,tpr,label=\"data 1, auc=\"+str(auc))\n",
    "plt.legend(loc = 'lower right')\n",
    "plt.plot([0, 1], [0, 1],'r--')\n",
    "plt.xlim([0, 1])\n",
    "plt.ylim([0, 1])\n",
    "plt.ylabel('True Positive Rate')\n",
    "plt.xlabel('False Positive Rate')\n",
    "plt.show()\n"
   ]
  },
  {
   "cell_type": "code",
   "execution_count": 30,
   "id": "ba5ad9f1",
   "metadata": {},
   "outputs": [
    {
     "name": "stderr",
     "output_type": "stream",
     "text": [
      "/Users/arth/opt/anaconda3/lib/python3.8/site-packages/sklearn/feature_extraction/text.py:388: UserWarning: Your stop_words may be inconsistent with your preprocessing. Tokenizing the stop words generated tokens [\"'d\", \"'ll\", \"'re\", \"'s\", \"'ve\", 'could', 'might', 'must', \"n't\", 'need', 'sha', 'wo', 'would'] not in stop_words.\n",
      "  warnings.warn('Your stop_words may be inconsistent with '\n"
     ]
    }
   ],
   "source": [
    "tfIdf = TfidfVectorizer(tokenizer = nltk.word_tokenize, stop_words = nltk.corpus.stopwords.words(\"english\"))\n",
    "X_tf = tfIdf.fit_transform(df['Email'].values).toarray()\n",
    "y_tf = df.iloc[:, 1].values"
   ]
  },
  {
   "cell_type": "code",
   "execution_count": 31,
   "id": "d5dba3e4",
   "metadata": {},
   "outputs": [],
   "source": [
    "# Splitting the dataset into the Training set and Test set\n",
    "X_train_tf, X_test_tf, y_train_tf, y_test_tf = train_test_split(X_tf, y_tf, test_size = 0.30, random_state=42)"
   ]
  },
  {
   "cell_type": "code",
   "execution_count": 32,
   "id": "53d38e2b",
   "metadata": {},
   "outputs": [
    {
     "name": "stdout",
     "output_type": "stream",
     "text": [
      "(6222, 84448)\n",
      "(2667, 84448)\n",
      "(6222,)\n",
      "(2667,)\n"
     ]
    }
   ],
   "source": [
    "print(X_train_tf.shape)\n",
    "print(X_test_tf.shape)\n",
    "print(y_train_tf.shape)\n",
    "print(y_test_tf.shape)"
   ]
  },
  {
   "cell_type": "code",
   "execution_count": 33,
   "id": "5381fdd6",
   "metadata": {},
   "outputs": [
    {
     "data": {
      "text/plain": [
       "array([1, 1, 0, ..., 1, 0, 0])"
      ]
     },
     "execution_count": 33,
     "metadata": {},
     "output_type": "execute_result"
    }
   ],
   "source": [
    "from sklearn.naive_bayes import MultinomialNB\n",
    "classifier_tfIdf = MultinomialNB(alpha=0.001, class_prior=None, fit_prior=True)\n",
    "classifier_tfIdf.fit(X_train_tf , y_train_tf)\n",
    "# Predicting the Test set results\n",
    "y_pred_tf = classifier_tfIdf.predict(X_test_tf)\n",
    "y_pred_tf"
   ]
  },
  {
   "cell_type": "code",
   "execution_count": 34,
   "id": "cc18f2c2",
   "metadata": {},
   "outputs": [
    {
     "name": "stdout",
     "output_type": "stream",
     "text": [
      "[[2195   57]\n",
      " [  47  368]]\n",
      "              precision    recall  f1-score   support\n",
      "\n",
      "    Not Spam       0.97      0.98      0.97      2252\n",
      "        Spam       0.87      0.86      0.86       415\n",
      "\n",
      "    accuracy                           0.96      2667\n",
      "   macro avg       0.92      0.92      0.92      2667\n",
      "weighted avg       0.96      0.96      0.96      2667\n",
      "\n"
     ]
    }
   ],
   "source": [
    "cm_tfidf = metrics.confusion_matrix(y_test_tf, y_pred_tf)\n",
    "print(cm_tfidf)\n",
    "print(classification_report(y_test,y_pred,target_names=['Not Spam', 'Spam']))"
   ]
  },
  {
   "cell_type": "code",
   "execution_count": 35,
   "id": "ee6b2d37",
   "metadata": {},
   "outputs": [
    {
     "data": {
      "text/plain": [
       "<function matplotlib.pyplot.show(close=None, block=None)>"
      ]
     },
     "execution_count": 35,
     "metadata": {},
     "output_type": "execute_result"
    },
    {
     "data": {
      "image/png": "[encoded data removed]",
      "text/plain": [
       "<Figure size 432x288 with 2 Axes>"
      ]
     },
     "metadata": {
      "needs_background": "light"
     },
     "output_type": "display_data"
    }
   ],
   "source": [
    "ax = plt.axes()\n",
    "x_axis_labels = ['Not Spam', 'Spam']\n",
    "y_axis_labels = ['Not Spam', 'Spam']\n",
    "sns.heatmap(cm_tfidf, cmap='Blues', annot=True, fmt='d',xticklabels=x_axis_labels,\n",
    "            yticklabels=y_axis_labels, ax=ax, cbar_kws={'label': 'Email Count',})\n",
    "ax.set_title('Email Classification Spam/Not Spam - TFIDF')\n",
    "plt.xlabel(\"Predicted Email Classification\")\n",
    "plt.ylabel(\"True Email Classification\") \n",
    "plt.show"
   ]
  },
  {
   "cell_type": "code",
   "execution_count": 36,
   "id": "c3caf28f",
   "metadata": {},
   "outputs": [
    {
     "data": {
      "image/png": "[encoded data removed]",
      "text/plain": [
       "<Figure size 432x288 with 1 Axes>"
      ]
     },
     "metadata": {
      "needs_background": "light"
     },
     "output_type": "display_data"
    }
   ],
   "source": [
    "import sklearn.metrics as metrics\n",
    "# calculate the fpr and tpr for all thresholds of the classification\n",
    "y_pred_proba = classifier_tfIdf.predict_proba(X_test)[::,1]\n",
    "fpr, tpr, _ = metrics.roc_curve(y_test,  y_pred_proba)\n",
    "auc = metrics.roc_auc_score(y_test, y_pred_proba)\n",
    "\n",
    "# method I: plt\n",
    "import matplotlib.pyplot as plt\n",
    "plt.title('Receiver Operating Characteristic')\n",
    "plt.plot(fpr,tpr,label=\"data 1, auc=\"+str(auc))\n",
    "plt.legend(loc = 'lower right')\n",
    "plt.plot([0, 1], [0, 1],'r--')\n",
    "plt.xlim([0, 1])\n",
    "plt.ylim([0, 1])\n",
    "plt.ylabel('True Positive Rate')\n",
    "plt.xlabel('False Positive Rate')\n",
    "plt.show()\n",
    "\n",
    "\n"
   ]
  },
  {
   "cell_type": "markdown",
   "id": "bf037ea3",
   "metadata": {},
   "source": [
    "## Clustering on TF-IDF"
   ]
  },
  {
   "cell_type": "markdown",
   "id": "37f09990",
   "metadata": {},
   "source": [
    "### K-Means Clustering"
   ]
  },
  {
   "cell_type": "code",
   "execution_count": 43,
   "id": "7a24655e",
   "metadata": {},
   "outputs": [],
   "source": [
    "from sklearn.cluster import KMeans\n",
    "kmeans = KMeans(n_clusters=2, random_state=1234).fit(X_train_tf)"
   ]
  },
  {
   "cell_type": "code",
   "execution_count": 53,
   "id": "be6091a2",
   "metadata": {},
   "outputs": [],
   "source": [
    "k_cluster = kmeans.labels_\n",
    "cluster_kmean = pd.DataFrame()\n",
    "cluster_kmean['clusters'] = k_cluster\n",
    "cluster_kmean['is_spam'] = y_train_tf\n"
   ]
  },
  {
   "cell_type": "code",
   "execution_count": 45,
   "id": "f6d090fb",
   "metadata": {},
   "outputs": [
    {
     "data": {
      "text/html": [
       "<div>\n",
       "<style scoped>\n",
       "    .dataframe tbody tr th:only-of-type {\n",
       "        vertical-align: middle;\n",
       "    }\n",
       "\n",
       "    .dataframe tbody tr th {\n",
       "        vertical-align: top;\n",
       "    }\n",
       "\n",
       "    .dataframe thead th {\n",
       "        text-align: right;\n",
       "    }\n",
       "</style>\n",
       "<table border=\"1\" class=\"dataframe\">\n",
       "  <thead>\n",
       "    <tr style=\"text-align: right;\">\n",
       "      <th>is_spam</th>\n",
       "      <th>0</th>\n",
       "      <th>1</th>\n",
       "    </tr>\n",
       "    <tr>\n",
       "      <th>clusters</th>\n",
       "      <th></th>\n",
       "      <th></th>\n",
       "    </tr>\n",
       "  </thead>\n",
       "  <tbody>\n",
       "    <tr>\n",
       "      <th>0</th>\n",
       "      <td>4362</td>\n",
       "      <td>896</td>\n",
       "    </tr>\n",
       "    <tr>\n",
       "      <th>1</th>\n",
       "      <td>918</td>\n",
       "      <td>46</td>\n",
       "    </tr>\n",
       "  </tbody>\n",
       "</table>\n",
       "</div>"
      ],
      "text/plain": [
       "is_spam      0    1\n",
       "clusters           \n",
       "0         4362  896\n",
       "1          918   46"
      ]
     },
     "execution_count": 45,
     "metadata": {},
     "output_type": "execute_result"
    }
   ],
   "source": [
    "cluster_kmean.groupby(['clusters','is_spam']).size().unstack(fill_value=0)"
   ]
  },
  {
   "cell_type": "code",
   "execution_count": 55,
   "id": "c3c7abc6",
   "metadata": {},
   "outputs": [],
   "source": [
    "label=kmeans.fit_predict(X_test_tf)\n"
   ]
  },
  {
   "cell_type": "markdown",
   "id": "79edca53",
   "metadata": {},
   "source": [
    "### DBSCAN Clustering"
   ]
  },
  {
   "cell_type": "code",
   "execution_count": 40,
   "id": "31c9f25c",
   "metadata": {},
   "outputs": [
    {
     "data": {
      "text/plain": [
       "DBSCAN(eps=5, min_samples=10)"
      ]
     },
     "execution_count": 40,
     "metadata": {},
     "output_type": "execute_result"
    }
   ],
   "source": [
    "from sklearn.cluster import DBSCAN\n",
    "dbscan = DBSCAN(eps=5, min_samples=10)\n",
    "dbscan.fit(X_train_tf)"
   ]
  },
  {
   "cell_type": "code",
   "execution_count": 41,
   "id": "7f17c789",
   "metadata": {},
   "outputs": [],
   "source": [
    "dbscan_cluster=dbscan.labels_\n",
    "cluster_dbscan = pd.DataFrame()\n",
    "cluster_dbscan['clusters'] = dbscan_cluster\n",
    "cluster_dbscan['is_spam'] = y_train_tf\n"
   ]
  },
  {
   "cell_type": "code",
   "execution_count": 42,
   "id": "c6af4b32",
   "metadata": {},
   "outputs": [
    {
     "data": {
      "text/html": [
       "<div>\n",
       "<style scoped>\n",
       "    .dataframe tbody tr th:only-of-type {\n",
       "        vertical-align: middle;\n",
       "    }\n",
       "\n",
       "    .dataframe tbody tr th {\n",
       "        vertical-align: top;\n",
       "    }\n",
       "\n",
       "    .dataframe thead th {\n",
       "        text-align: right;\n",
       "    }\n",
       "</style>\n",
       "<table border=\"1\" class=\"dataframe\">\n",
       "  <thead>\n",
       "    <tr style=\"text-align: right;\">\n",
       "      <th>is_spam</th>\n",
       "      <th>0</th>\n",
       "      <th>1</th>\n",
       "    </tr>\n",
       "    <tr>\n",
       "      <th>clusters</th>\n",
       "      <th></th>\n",
       "      <th></th>\n",
       "    </tr>\n",
       "  </thead>\n",
       "  <tbody>\n",
       "    <tr>\n",
       "      <th>0</th>\n",
       "      <td>7532</td>\n",
       "      <td>1357</td>\n",
       "    </tr>\n",
       "  </tbody>\n",
       "</table>\n",
       "</div>"
      ],
      "text/plain": [
       "is_spam      0     1\n",
       "clusters            \n",
       "0         7532  1357"
      ]
     },
     "execution_count": 42,
     "metadata": {},
     "output_type": "execute_result"
    }
   ],
   "source": [
    "cluster_dbscan.groupby(['clusters','is_spam']).size().unstack(fill_value=0)\n"
   ]
  },
  {
   "cell_type": "code",
   "execution_count": null,
   "id": "4a89c7f4",
   "metadata": {},
   "outputs": [],
   "source": []
  }
 ],
 "metadata": {
  "kernelspec": {
   "display_name": "Python 3",
   "language": "python",
   "name": "python3"
  },
  "language_info": {
   "codemirror_mode": {
    "name": "ipython",
    "version": 3
   },
   "file_extension": ".py",
   "mimetype": "text/x-python",
   "name": "python",
   "nbconvert_exporter": "python",
   "pygments_lexer": "ipython3",
   "version": "3.8.8"
  }
 },
 "nbformat": 4,
 "nbformat_minor": 5
}
