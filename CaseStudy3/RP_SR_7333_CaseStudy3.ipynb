{
 "cells": [
  {
   "cell_type": "markdown",
   "id": "d679f22d",
   "metadata": {},
   "source": [
    "# SMU-MSDS-7333-Quantifying the World\n",
    "\n",
    "## Case Study 3- Email Classification as Span or Ham \n",
    "\n",
    "Team Members:\n",
    "* Rashmi Patel\n",
    "* Simarpreet Reddy\n"
   ]
  },
  {
   "cell_type": "markdown",
   "id": "f53ed3e8",
   "metadata": {},
   "source": [
    "# Introduction\n",
    "\n",
    "In this case study, we will build a classifier using clustering and naive bayes classifier that classifies whether the email given is spam or ham. We will perform analysis by dividing this case study into 6 parts:\n",
    "\n",
    "* Business Understanding\n",
    "\n",
    "* Data Evaluation / Engineering\n",
    "\n",
    "* Modeling Preparations\n",
    "\n",
    "* Model Building & Evaluation\n",
    "\n",
    "* Model Interpretability & Explainability\n",
    "\n",
    "* Case Conclusions"
   ]
  },
  {
   "cell_type": "code",
   "execution_count": 5,
   "id": "9e798e9d",
   "metadata": {},
   "outputs": [],
   "source": [
    "#Import required libraries\n",
    "import pandas as pd\n",
    "import numpy as np\n",
    "import matplotlib as plt\n",
    "import seaborn as sns\n",
    "import sklearn as sk\n",
    "import re\n",
    "import os\n",
    "\n",
    "#NLP\n",
    "import nltk\n",
    "import re \n",
    "from sklearn.feature_extraction.text import TfidfVectorizer\n",
    "from sklearn.feature_extraction.text import CountVectorizer\n",
    "from sklearn.cluster import KMeans\n",
    "from sklearn.metrics import silhouette_samples, silhouette_score\n",
    "\n",
    "#Email Parser \n",
    "import email\n",
    "from html.parser import HTMLParser\n",
    "from bs4 import BeautifulSoup"
   ]
  },
  {
   "cell_type": "markdown",
   "id": "fbcd8c53",
   "metadata": {},
   "source": [
    "## Business Understanding"
   ]
  },
  {
   "cell_type": "markdown",
   "id": "b951f01a",
   "metadata": {},
   "source": [
    "## Data Evaluation/ Engineering"
   ]
  },
  {
   "cell_type": "code",
   "execution_count": 7,
   "id": "d62ec3a6",
   "metadata": {},
   "outputs": [
    {
     "data": {
      "text/plain": [
       "['spam',\n",
       " 'hard_ham',\n",
       " 'spam_2',\n",
       " '.DS_Store',\n",
       " 'easy_ham',\n",
       " 'RP_SR_7333_CaseStudy3.ipynb',\n",
       " '.ipynb_checkpoints',\n",
       " 'easy_ham_2']"
      ]
     },
     "execution_count": 7,
     "metadata": {},
     "output_type": "execute_result"
    }
   ],
   "source": [
    "os.listdir()"
   ]
  },
  {
   "cell_type": "code",
   "execution_count": 24,
   "id": "b557d5b9",
   "metadata": {},
   "outputs": [
    {
     "name": "stdout",
     "output_type": "stream",
     "text": [
      "RP_SR_7333_CaseStudy3.ipynb\n"
     ]
    }
   ],
   "source": [
    "root = '/Users/arth/Desktop/RP-MSDS/Spring2022/QTW/CaseStudy3'\n",
    "for item in os.listdir(root):\n",
    "    if not item.startswith('.') and os.path.isfile(os.path.join(root, item)):\n",
    "        print(item)"
   ]
  },
  {
   "cell_type": "code",
   "execution_count": 25,
   "id": "baa1068f",
   "metadata": {},
   "outputs": [
    {
     "data": {
      "text/plain": [
       "['spam', 'hard_ham', 'spam_2', 'easy_ham', 'easy_ham_2']"
      ]
     },
     "execution_count": 25,
     "metadata": {},
     "output_type": "execute_result"
    }
   ],
   "source": [
    "folder = [fdr for fdr in os.listdir('.') if (re.match(r'easy', fdr)) or (re.match(r'hard', fdr)) or (re.match(r'spam', fdr))]\n",
    "folder"
   ]
  },
  {
   "cell_type": "code",
   "execution_count": 30,
   "id": "50bb0a0d",
   "metadata": {},
   "outputs": [
    {
     "name": "stdout",
     "output_type": "stream",
     "text": [
      "spam : 1001\n",
      "hard_ham : 501\n",
      "spam_2 : 934\n",
      "easy_ham : 5052\n",
      "easy_ham_2 : 1401\n"
     ]
    }
   ],
   "source": [
    "directory = []\n",
    "for i in range(len(folder)):\n",
    "    directory = folder[i]\n",
    "    print(directory,':',len([name for name in os.listdir(directory) if os.path.isfile(os.path.join(directory, name))]))\n"
   ]
  },
  {
   "cell_type": "code",
   "execution_count": 70,
   "id": "c66cce4d",
   "metadata": {},
   "outputs": [],
   "source": [
    "# for SAPM MAILS\n",
    "\n",
    "spam_root = '/Users/arth/Desktop/RP-MSDS/Spring2022/QTW/CaseStudy3/spam/'\n",
    "\n",
    "spam_files=[name for name in os.listdir(folder[0]) if os.path.isfile(os.path.join(folder[0], name))]\n",
    "#print(spam_files)\n",
    "\n",
    "for file in spam_files:\n",
    "            with open(spam_root+ file, encoding='latin1') as f:\n",
    "                lines = f.readlines()\n",
    "                f.close()\n",
    "            \n",
    "            with open(spam_root+ file, encoding='latin1') as f:\n",
    "                body = f.read()\n",
    "                f.close()\n",
    "                \n",
    "       "
   ]
  },
  {
   "cell_type": "code",
   "execution_count": 71,
   "id": "005a5cde",
   "metadata": {},
   "outputs": [
    {
     "name": "stdout",
     "output_type": "stream",
     "text": [
      "Return-Path: <aileen@email2.qves.net>\n",
      "Delivered-To: zzzz@localhost.spamassassin.taint.org\n",
      "Received: from localhost (localhost [127.0.0.1])\n",
      "\tby phobos.labs.spamassassin.taint.org (Postfix) with ESMTP id 9EA0044157\n",
      "\tfor <zzzz@localhost>; Fri, 23 Aug 2002 06:02:51 -0400 (EDT)\n",
      "Received: from mail.webnote.net [193.120.211.219]\n",
      "\tby localhost with POP3 (fetchmail-5.9.0)\n",
      "\tfor zzzz@localhost (single-drop); Fri, 23 Aug 2002 11:02:51 +0100 (IST)\n",
      "Received: from email.qves.com ([67.104.83.251])\n",
      "\tby webnote.net (8.9.3/8.9.3) with ESMTP id WAA06881\n",
      "\tfor <zzzz@spamassassin.taint.org>; Thu, 22 Aug 2002 22:34:30 +0100\n",
      "Received: from qvp0087 ([169.254.6.20]) by email.qves.com with Microsoft SMTPSVC(5.0.2195.2966);\n",
      "\t Thu, 22 Aug 2002 15:09:13 -0600\n",
      "From: \"FreeLegal Advice\" <aileen@email2.qves.net>\n",
      "To: <zzzz@spamassassin.taint.org>\n",
      "Subject: Get the Child Support You Deserve                            11.180\n",
      "Date: Thu, 22 Aug 2002 15:09:11 -0600\n",
      "Message-ID: <110d1201c24a20$29b657e0$1406fea9@freeyankeedom.com>\n",
      "MIME-Version: 1.0\n",
      "Content-Type: text/plain;\n",
      "\tcharset=\"iso-8859-1\"\n",
      "Content-Transfer-Encoding: 7bit\n",
      "X-Mailer: Microsoft CDO for Windows 2000\n",
      "Thread-Index: AcJKICm0SPU/10nGTaOUfZRvzeDhdw==\n",
      "Content-Class: urn:content-classes:message\n",
      "X-MimeOLE: Produced By Microsoft MimeOLE V6.00.2462.0000\n",
      "X-OriginalArrivalTime: 22 Aug 2002 21:09:14.0437 (UTC) FILETIME=[2B392750:01C24A20]\n",
      "\n",
      "1) Fight The Risk of Cancer!\n",
      "http://www.adclick.ws/p.cfm?o=315&s=pk007\n",
      "\n",
      "2) Slim Down - Guaranteed to lose 10-12 lbs in 30 days\n",
      "http://www.adclick.ws/p.cfm?o=249&s=pk007\n",
      "\n",
      "3) Get the Child Support You Deserve - Free Legal Advice\n",
      "http://www.adclick.ws/p.cfm?o=245&s=pk002\n",
      "\n",
      "4) Join the Web's Fastest Growing Singles Community\n",
      "http://www.adclick.ws/p.cfm?o=259&s=pk007\n",
      "\n",
      "5) Start Your Private Photo Album Online!\n",
      "http://www.adclick.ws/p.cfm?o=283&s=pk007\n",
      "\n",
      "Have a Wonderful Day,\n",
      "Offer Manager\n",
      "PrizeMama\n",
      "\n",
      "\n",
      "\n",
      "\n",
      "\n",
      "\n",
      "\n",
      "\n",
      "\n",
      "\n",
      "\n",
      "\n",
      "\n",
      "If you wish to leave this list please use the link below.\n",
      "http://www.qves.com/trim/?zzzz@spamassassin.taint.org%7C17%7C308417\n",
      "\n",
      "\n"
     ]
    }
   ],
   "source": [
    "msg = email.message_from_string(str(body))\n",
    "#print(msg)\n",
    "            "
   ]
  },
  {
   "cell_type": "code",
   "execution_count": 74,
   "id": "534a500b",
   "metadata": {},
   "outputs": [
    {
     "ename": "NameError",
     "evalue": "name 'bodies' is not defined",
     "output_type": "error",
     "traceback": [
      "\u001b[0;31m---------------------------------------------------------------------------\u001b[0m",
      "\u001b[0;31mNameError\u001b[0m                                 Traceback (most recent call last)",
      "\u001b[0;32m<ipython-input-74-767a601df3ff>\u001b[0m in \u001b[0;36m<module>\u001b[0;34m\u001b[0m\n\u001b[1;32m      5\u001b[0m         \u001b[0mtmpStr\u001b[0m \u001b[0;34m=\u001b[0m \u001b[0;34m' '\u001b[0m\u001b[0;34m.\u001b[0m\u001b[0mjoin\u001b[0m\u001b[0;34m(\u001b[0m\u001b[0mstr\u001b[0m\u001b[0;34m(\u001b[0m\u001b[0mpayload\u001b[0m\u001b[0;34m.\u001b[0m\u001b[0mget_payload\u001b[0m\u001b[0;34m(\u001b[0m\u001b[0;34m)\u001b[0m\u001b[0;34m)\u001b[0m\u001b[0;34m)\u001b[0m\u001b[0;34m\u001b[0m\u001b[0;34m\u001b[0m\u001b[0m\n\u001b[1;32m      6\u001b[0m \u001b[0;32melse\u001b[0m\u001b[0;34m:\u001b[0m\u001b[0;34m\u001b[0m\u001b[0;34m\u001b[0m\u001b[0m\n\u001b[0;32m----> 7\u001b[0;31m     \u001b[0mbodies\u001b[0m\u001b[0;34m.\u001b[0m\u001b[0mappend\u001b[0m\u001b[0;34m(\u001b[0m\u001b[0mstr\u001b[0m\u001b[0;34m(\u001b[0m\u001b[0mmsg\u001b[0m\u001b[0;34m.\u001b[0m\u001b[0mget_payload\u001b[0m\u001b[0;34m(\u001b[0m\u001b[0;34m)\u001b[0m\u001b[0;34m)\u001b[0m\u001b[0;34m)\u001b[0m\u001b[0;34m\u001b[0m\u001b[0;34m\u001b[0m\u001b[0m\n\u001b[0m\u001b[1;32m      8\u001b[0m \u001b[0;34m\u001b[0m\u001b[0m\n",
      "\u001b[0;31mNameError\u001b[0m: name 'bodies' is not defined"
     ]
    }
   ],
   "source": [
    "tmpStr = ''\n",
    "            \n",
    "if msg.is_multipart():\n",
    "    for payload in msg.get_payload():\n",
    "        tmpStr = ' '.join(str(payload.get_payload()))\n",
    "else:\n",
    "    bodies.append(str(msg.get_payload()))\n",
    "    "
   ]
  },
  {
   "cell_type": "code",
   "execution_count": 81,
   "id": "b724be21",
   "metadata": {},
   "outputs": [],
   "source": [
    "if msg.get_payload():\n",
    "    msg.get_payload()"
   ]
  },
  {
   "cell_type": "code",
   "execution_count": null,
   "id": "10662cc9",
   "metadata": {},
   "outputs": [],
   "source": [
    "targets = []\n",
    "data = []\n",
    "count = 0\n",
    "not_spamList = os.listdir(\"./easy_ham/\")\n",
    "for i in not_spamList:\n",
    "    with open(\"./easy_ham/\"+i, \"r\",encoding= 'utf-8', errors='ignore') as f:\n",
    "        x = email.message_from_file(f)\n",
    "    x = return_text(x)\n",
    "    mailType = x.get_content_type()\n",
    "    if mailType == \"text/plain\":\n",
    "        tmp = x.get_payload()\n",
    "        tmp = tmp.replace(\"\\n\",\" \")\n",
    "        tmp = tmp.replace(r'http\\S+', ' ')\n",
    "        tmp = tmp.replace(\"-\",\" \")\n",
    "        data.append(tmp)\n",
    "        targets.append(0)\n",
    "    elif mailType == \"text/html\":\n",
    "        tmp = BeautifulSoup(x.get_payload(), 'html.parser')\n",
    "        tmp = tmp.text.replace(\"\\n\",\" \")\n",
    "        tmp = tmp.replace(r'http\\S+', ' ')\n",
    "        tmp = tmp.replace(\"-\",\" \")\n",
    "        data.append(tmp)\n",
    "        targets.append(0)\n",
    "    else:\n",
    "        print(f\"msg {i} not parsed\")\n",
    "        print(x.get_content_type())\n",
    "print('Number of emails parsed in easy_ham:',len(data))\n",
    "print('Number of targets for easy_ham:',len(targets))"
   ]
  },
  {
   "cell_type": "code",
   "execution_count": null,
   "id": "a0b44d67",
   "metadata": {},
   "outputs": [],
   "source": [
    "def return_text(mail):\n",
    "    if mail.is_multipart():\n",
    "        tmp = mail.get_payload()[0]\n",
    "        return return_text(tmp)\n",
    "    elif mail.is_multipart() == False:\n",
    "        return mail"
   ]
  },
  {
   "cell_type": "code",
   "execution_count": 99,
   "id": "372d3358",
   "metadata": {},
   "outputs": [
    {
     "name": "stdout",
     "output_type": "stream",
     "text": [
      "Content-Type: text/plain;\n",
      "\tcharset=\"Windows-1252\"\n",
      "Content-Transfer-Encoding: 7bit\n",
      "\n",
      " PruLife Universal Protector\n",
      " - and -\n",
      " Prulife Universal Plus\n",
      "\n",
      "  ROCK!\n",
      "  \n",
      "\n",
      "Case Closed! Permanent Life Insurance at Affordable Rates\n",
      "\n",
      "Whether your clients are looking to pay the Minimum Premiums needed to\n",
      "Endow* a policy at a specific age or pay sufficient premiums needed to\n",
      "guarantee** a death benefit for\n",
      "life, Prudential has the answer.\n",
      "\n",
      "PruLife Universal ProtectorSM offers competitive lifetime death benefit\n",
      "guarantee premiums. PruLife Universal PlusSM offers competitive minimum\n",
      "premiums to endow and competitive long term cash value accumulation.\n",
      "\n",
      "And that's not all. Look what else Prudential+ has to offer...\n",
      "\n",
      "  _____  \n",
      "\n",
      "COMPETITIVE COMPENSATION\t \n",
      " \t Rolling Commissionable Target Premiums (R-CTP)++.\n",
      "First year compensation will be paid until the R-CTP is reached during\n",
      "the first 24 policy months. \t\n",
      " \t First year commissions that do not reduce at any issue age. \t\n",
      " COMPETITIVE UNDERWRITING\t \n",
      " \t Issue ages 0-90\t \n",
      " \t Continuation of coverage beyond age 100 (policy has no maturity\n",
      "age).\t \n",
      " \t Preferred Non-Smoker category for cigar smokers, pipe smokers\n",
      "and smokeless tobacco users (nicotine patch and gum users also may be\n",
      "eligible if they have not smoked cigarettes in the last 12 months) \t\n",
      " \t Preferred Plus Smoker category for healthy Cigarette Smokers.\n",
      "\n",
      " \t Aviation: Preferred rates may be offered to commercial pilots\n",
      "and most student and private pilots who fly up to 200 hours per year,\n",
      "regardless of whether helicopters or fixed wing aircraft are flown. \t\n",
      " \t Treadmills not required for preferred rates for face amounts\n",
      "within our capacity limits\t \n",
      " \t Improved Ratings for Prostate Cancer, Hepatitis B & C\t \n",
      " \t Heart attack? Consider Prudential as soon as the prospect\n",
      "returns to normal activities\t \n",
      " \t Liberal Build Tables to qualify for Preferred rates\t \n",
      "INCREASED CAPACITY\t \n",
      " \t $70 million capacity without the need to discuss a risk with\n",
      "reinsurers.\t \n",
      " \t Facultative reinsurance may be available for cases in excess of\n",
      "$70 million.\t \n",
      "  _____  \n",
      "\n",
      "Click our logo for the BGA nearest you!\n",
      "Click here for the NBC BGA Locator!\n",
      "<http://www.insiq.com/resdir/special/nbc/> \n",
      "? or ?\n",
      "\n",
      "Please fill out the form below for more information\t \n",
      "Name:\t  \t \t\n",
      "E-mail:\t  \t\n",
      "Phone:\t  \t\n",
      "City:\t  \tState:\t  \t\n",
      " \t  \t \t   \t\n",
      " \n",
      "\n",
      " National Brokerage Consortium\n",
      "* Minimum Premium to Endow is a hypothetical, non-guaranteed premium\n",
      "that, based on current charges and the current interest rate, would keep\n",
      "the policy in force to age 100. Interest rates and charges will change\n",
      "over time, as will the Minimum Premium to Endow. These premiums are\n",
      "shown as hypothetical figures based on the stated assumptions and are\n",
      "shown for comparative purposes only. The actual premium needed to keep\n",
      "the policy in force is based on actual results and may be higher or\n",
      "lower. ** All guarantees are based on the claims-paying ability of the\n",
      "issuer. \n",
      "+ PruLife Universal Protector is issued by Pruco Life Insurance Company.\n",
      "PruLife Universal Plus also is issued by Pruco Life Insurance Company in\n",
      "all states except New Jersey and New York, where it is issued by Pruco\n",
      "Life Insurance Company of New Jersey, both Prudential Financial, Inc.\n",
      "companies located at 213 Washington Street, Newark, NJ 07102-2992. Each\n",
      "is solely responsible for its own financial condition and contractual\n",
      "obligations. \n",
      "++ Available on contracts dated Jan. 1, 2002 & later. Not available in\n",
      "New York & New Jersey.\n",
      "Prudential Financial is a service mark of The Prudential Insurance\n",
      "Company of America, Newark, NJ and its affiliates. For financial\n",
      "professional use only. Not for use with the public. \n",
      "IFS-A072238 Ed. 7/2002 Exp. 12/2003\t \n",
      "We don't want anyone to receive our mailings who does not wish to. This\n",
      "is professional communication sent to insurance professionals. To be\n",
      "removed from this mailing list, DO NOT REPLY to this message. Instead,\n",
      "go here: http://www.InsuranceIQ.com/optout\n",
      "<http://www.InsuranceIQ.com/optout> \n",
      "\n",
      "Legal Notice <http://www.insuranceiq.com/legal.htm>  \n",
      "\n",
      "=======================\n",
      "Return-Path: <aileen@email2.qves.net>\n",
      "Delivered-To: zzzz@localhost.spamassassin.taint.org\n",
      "Received: from localhost (localhost [127.0.0.1])\n",
      "\tby phobos.labs.spamassassin.taint.org (Postfix) with ESMTP id 9EA0044157\n",
      "\tfor <zzzz@localhost>; Fri, 23 Aug 2002 06:02:51 -0400 (EDT)\n",
      "Received: from mail.webnote.net [193.120.211.219]\n",
      "\tby localhost with POP3 (fetchmail-5.9.0)\n",
      "\tfor zzzz@localhost (single-drop); Fri, 23 Aug 2002 11:02:51 +0100 (IST)\n",
      "Received: from email.qves.com ([67.104.83.251])\n",
      "\tby webnote.net (8.9.3/8.9.3) with ESMTP id WAA06881\n",
      "\tfor <zzzz@spamassassin.taint.org>; Thu, 22 Aug 2002 22:34:30 +0100\n",
      "Received: from qvp0087 ([169.254.6.20]) by email.qves.com with Microsoft SMTPSVC(5.0.2195.2966);\n",
      "\t Thu, 22 Aug 2002 15:09:13 -0600\n",
      "From: \"FreeLegal Advice\" <aileen@email2.qves.net>\n",
      "To: <zzzz@spamassassin.taint.org>\n",
      "Subject: Get the Child Support You Deserve                            11.180\n",
      "Date: Thu, 22 Aug 2002 15:09:11 -0600\n",
      "Message-ID: <110d1201c24a20$29b657e0$1406fea9@freeyankeedom.com>\n",
      "MIME-Version: 1.0\n",
      "Content-Type: text/plain;\n",
      "\tcharset=\"iso-8859-1\"\n",
      "Content-Transfer-Encoding: 7bit\n",
      "X-Mailer: Microsoft CDO for Windows 2000\n",
      "Thread-Index: AcJKICm0SPU/10nGTaOUfZRvzeDhdw==\n",
      "Content-Class: urn:content-classes:message\n",
      "X-MimeOLE: Produced By Microsoft MimeOLE V6.00.2462.0000\n",
      "X-OriginalArrivalTime: 22 Aug 2002 21:09:14.0437 (UTC) FILETIME=[2B392750:01C24A20]\n",
      "\n",
      "1) Fight The Risk of Cancer!\n",
      "http://www.adclick.ws/p.cfm?o=315&s=pk007\n",
      "\n",
      "2) Slim Down - Guaranteed to lose 10-12 lbs in 30 days\n",
      "http://www.adclick.ws/p.cfm?o=249&s=pk007\n",
      "\n",
      "3) Get the Child Support You Deserve - Free Legal Advice\n",
      "http://www.adclick.ws/p.cfm?o=245&s=pk002\n",
      "\n",
      "4) Join the Web's Fastest Growing Singles Community\n",
      "http://www.adclick.ws/p.cfm?o=259&s=pk007\n",
      "\n",
      "5) Start Your Private Photo Album Online!\n",
      "http://www.adclick.ws/p.cfm?o=283&s=pk007\n",
      "\n",
      "Have a Wonderful Day,\n",
      "Offer Manager\n",
      "PrizeMama\n",
      "\n",
      "\n",
      "\n",
      "\n",
      "\n",
      "\n",
      "\n",
      "\n",
      "\n",
      "\n",
      "\n",
      "\n",
      "\n",
      "If you wish to leave this list please use the link below.\n",
      "http://www.qves.com/trim/?zzzz@spamassassin.taint.org%7C17%7C308417\n",
      "\n",
      "\n"
     ]
    }
   ],
   "source": [
    "# for SAPM MAILS\n",
    "\n",
    "spam_root = '/Users/arth/Desktop/RP-MSDS/Spring2022/QTW/CaseStudy3/spam/'\n",
    "\n",
    "spam_files=[name for name in os.listdir(folder[0]) if os.path.isfile(os.path.join(folder[0], name))]\n",
    "#print(spam_files)\n",
    "\n",
    "for file in spam_files:\n",
    "    with open(spam_root+ file,'r', encoding='latin1') as f:\n",
    "        tmp= email.message_from_file(f)\n",
    "    if tmp.is_multipart():\n",
    "        x=tmp.get_payload()[0]\n",
    "    elif tmp.is_multipart()==False:\n",
    "        t= tmp\n",
    "print(x) \n",
    "print('=======================')\n",
    "print(t)"
   ]
  },
  {
   "cell_type": "code",
   "execution_count": 102,
   "id": "aea20543",
   "metadata": {},
   "outputs": [
    {
     "ename": "NameError",
     "evalue": "name 'unicode' is not defined",
     "output_type": "error",
     "traceback": [
      "\u001b[0;31m---------------------------------------------------------------------------\u001b[0m",
      "\u001b[0;31mNameError\u001b[0m                                 Traceback (most recent call last)",
      "\u001b[0;32m<ipython-input-102-c981e01c9621>\u001b[0m in \u001b[0;36m<module>\u001b[0;34m\u001b[0m\n\u001b[1;32m     11\u001b[0m     \u001b[0;32mwith\u001b[0m \u001b[0mopen\u001b[0m\u001b[0;34m(\u001b[0m\u001b[0mspam_root\u001b[0m\u001b[0;34m+\u001b[0m \u001b[0mfile\u001b[0m\u001b[0;34m,\u001b[0m\u001b[0;34m'r'\u001b[0m\u001b[0;34m,\u001b[0m \u001b[0mencoding\u001b[0m\u001b[0;34m=\u001b[0m\u001b[0;34m'latin1'\u001b[0m\u001b[0;34m)\u001b[0m \u001b[0;32mas\u001b[0m \u001b[0mf\u001b[0m\u001b[0;34m:\u001b[0m\u001b[0;34m\u001b[0m\u001b[0;34m\u001b[0m\u001b[0m\n\u001b[1;32m     12\u001b[0m         \u001b[0mtmp\u001b[0m\u001b[0;34m=\u001b[0m \u001b[0memail\u001b[0m\u001b[0;34m.\u001b[0m\u001b[0mmessage_from_file\u001b[0m\u001b[0;34m(\u001b[0m\u001b[0mf\u001b[0m\u001b[0;34m)\u001b[0m\u001b[0;34m\u001b[0m\u001b[0;34m\u001b[0m\u001b[0m\n\u001b[0;32m---> 13\u001b[0;31m         \u001b[0mtmp\u001b[0m\u001b[0;34m=\u001b[0m\u001b[0mget_text\u001b[0m\u001b[0;34m(\u001b[0m\u001b[0mtmp\u001b[0m\u001b[0;34m)\u001b[0m\u001b[0;34m\u001b[0m\u001b[0;34m\u001b[0m\u001b[0m\n\u001b[0m\u001b[1;32m     14\u001b[0m \u001b[0;34m\u001b[0m\u001b[0m\n\u001b[1;32m     15\u001b[0m \u001b[0;34m\u001b[0m\u001b[0m\n",
      "\u001b[0;32m<ipython-input-101-a3cac181b838>\u001b[0m in \u001b[0;36mget_text\u001b[0;34m(msg)\u001b[0m\n\u001b[1;32m     33\u001b[0m             \u001b[0;32mreturn\u001b[0m \u001b[0mhtml\u001b[0m\u001b[0;34m.\u001b[0m\u001b[0mstrip\u001b[0m\u001b[0;34m(\u001b[0m\u001b[0;34m)\u001b[0m\u001b[0;34m\u001b[0m\u001b[0;34m\u001b[0m\u001b[0m\n\u001b[1;32m     34\u001b[0m     \u001b[0;32melse\u001b[0m\u001b[0;34m:\u001b[0m\u001b[0;34m\u001b[0m\u001b[0;34m\u001b[0m\u001b[0m\n\u001b[0;32m---> 35\u001b[0;31m         \u001b[0mtext\u001b[0m \u001b[0;34m=\u001b[0m \u001b[0municode\u001b[0m\u001b[0;34m(\u001b[0m\u001b[0mmsg\u001b[0m\u001b[0;34m.\u001b[0m\u001b[0mget_payload\u001b[0m\u001b[0;34m(\u001b[0m\u001b[0mdecode\u001b[0m\u001b[0;34m=\u001b[0m\u001b[0;32mTrue\u001b[0m\u001b[0;34m)\u001b[0m\u001b[0;34m,\u001b[0m\u001b[0mmsg\u001b[0m\u001b[0;34m.\u001b[0m\u001b[0mget_content_charset\u001b[0m\u001b[0;34m(\u001b[0m\u001b[0;34m)\u001b[0m\u001b[0;34m,\u001b[0m\u001b[0;34m'ignore'\u001b[0m\u001b[0;34m)\u001b[0m\u001b[0;34m.\u001b[0m\u001b[0mencode\u001b[0m\u001b[0;34m(\u001b[0m\u001b[0;34m'utf8'\u001b[0m\u001b[0;34m,\u001b[0m\u001b[0;34m'replace'\u001b[0m\u001b[0;34m)\u001b[0m\u001b[0;34m\u001b[0m\u001b[0;34m\u001b[0m\u001b[0m\n\u001b[0m\u001b[1;32m     36\u001b[0m         \u001b[0;32mreturn\u001b[0m \u001b[0mtext\u001b[0m\u001b[0;34m.\u001b[0m\u001b[0mstrip\u001b[0m\u001b[0;34m(\u001b[0m\u001b[0;34m)\u001b[0m\u001b[0;34m\u001b[0m\u001b[0;34m\u001b[0m\u001b[0m\n\u001b[1;32m     37\u001b[0m \u001b[0;34m\u001b[0m\u001b[0m\n",
      "\u001b[0;31mNameError\u001b[0m: name 'unicode' is not defined"
     ]
    }
   ],
   "source": [
    "import chardet\n",
    "\n",
    "# for SAPM MAILS\n",
    "\n",
    "spam_root = '/Users/arth/Desktop/RP-MSDS/Spring2022/QTW/CaseStudy3/spam/'\n",
    "\n",
    "spam_files=[name for name in os.listdir(folder[0]) if os.path.isfile(os.path.join(folder[0], name))]\n",
    "#print(spam_files)\n",
    "\n",
    "for file in spam_files:\n",
    "    with open(spam_root+ file,'r', encoding='latin1') as f:\n",
    "        tmp= email.message_from_file(f)\n",
    "        tmp=get_text(tmp)\n",
    "\n",
    "\n",
    "\n",
    "def get_text(msg):\n",
    "    \"\"\" Parses email message text, given message object\n",
    "    This doesn't support infinite recursive parts, but mail is usually not so naughty.\n",
    "    \"\"\"\n",
    "    text = \"\"\n",
    "    if msg.is_multipart():\n",
    "        html = None\n",
    "        for part in msg.get_payload():\n",
    "            if part.get_content_charset() is None:\n",
    "                charset = chardet.detect(str(part))['encoding']\n",
    "            else:\n",
    "                charset = part.get_content_charset()\n",
    "            if part.get_content_type() == 'text/plain':\n",
    "                text = unicode(part.get_payload(decode=True),str(charset),\"ignore\").encode('utf8','replace')\n",
    "            if part.get_content_type() == 'text/html':\n",
    "                html = unicode(part.get_payload(decode=True),str(charset),\"ignore\").encode('utf8','replace')\n",
    "            if part.get_content_type() == 'multipart/alternative':\n",
    "                for subpart in part.get_payload():\n",
    "                    if subpart.get_content_charset() is None:\n",
    "                        charset = chardet.detect(str(subpart))['encoding']\n",
    "                    else:\n",
    "                        charset = subpart.get_content_charset()\n",
    "                    if subpart.get_content_type() == 'text/plain':\n",
    "                        text = unicode(subpart.get_payload(decode=True),str(charset),\"ignore\").encode('utf8','replace')\n",
    "                    if subpart.get_content_type() == 'text/html':\n",
    "                        html = unicode(subpart.get_payload(decode=True),str(charset),\"ignore\").encode('utf8','replace')\n",
    "\n",
    "        if html is None:\n",
    "            return text.strip()\n",
    "        else:\n",
    "            return html.strip()\n",
    "    else:\n",
    "        text = unicode(msg.get_payload(decode=True),msg.get_content_charset(),'ignore').encode('utf8','replace')\n",
    "        return text.strip()\n",
    "    \n",
    "    \n",
    "print(msg)\n"
   ]
  },
  {
   "cell_type": "markdown",
   "id": "f9da6c3f",
   "metadata": {},
   "source": [
    "## Modeling Preparations"
   ]
  },
  {
   "cell_type": "markdown",
   "id": "a0afd121",
   "metadata": {},
   "source": [
    "## Model building & Evaluations"
   ]
  },
  {
   "cell_type": "markdown",
   "id": "bca468fa",
   "metadata": {},
   "source": [
    "## Model Interpretabilty & EDxplainability"
   ]
  },
  {
   "cell_type": "markdown",
   "id": "13711418",
   "metadata": {},
   "source": [
    "## Case Conclusions"
   ]
  }
 ],
 "metadata": {
  "kernelspec": {
   "display_name": "Python 3",
   "language": "python",
   "name": "python3"
  },
  "language_info": {
   "codemirror_mode": {
    "name": "ipython",
    "version": 3
   },
   "file_extension": ".py",
   "mimetype": "text/x-python",
   "name": "python",
   "nbconvert_exporter": "python",
   "pygments_lexer": "ipython3",
   "version": "3.8.8"
  }
 },
 "nbformat": 4,
 "nbformat_minor": 5
}
