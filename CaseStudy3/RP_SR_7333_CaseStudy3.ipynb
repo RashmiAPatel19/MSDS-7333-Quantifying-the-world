{
 "cells": [
  {
   "cell_type": "markdown",
   "id": "a16f9987",
   "metadata": {},
   "source": [
    "# SMU-MSDS-7333-Quantifying the World\n",
    "\n",
    "## Case Study 3- Email Classification as Span or Ham \n",
    "\n",
    "Team Members:\n",
    "* Rashmi Patel\n",
    "* Simarpreet Reddy\n"
   ]
  },
  {
   "cell_type": "markdown",
   "id": "4f309783",
   "metadata": {},
   "source": [
    "# Introduction\n",
    "\n",
    "In this case study, we will build a classifier using clustering and naive bayes classifier that classifies whether the email given is spam or ham. We will perform analysis by dividing this case study into 6 parts:\n",
    "\n",
    "* Business Understanding\n",
    "\n",
    "* Data Evaluation / Engineering\n",
    "\n",
    "* Modeling Preparations\n",
    "\n",
    "* Model Building & Evaluation\n",
    "\n",
    "* Model Interpretability & Explainability\n",
    "\n",
    "* Case Conclusions"
   ]
  },
  {
   "cell_type": "code",
   "execution_count": 103,
   "id": "7fda3daa",
   "metadata": {},
   "outputs": [],
   "source": [
    "#Import required libraries\n",
    "import pandas as pd\n",
    "import numpy as np\n",
    "import matplotlib.pyplot as plt\n",
    "import seaborn as sns\n",
    "from wordcloud import WordCloud\n",
    "import sklearn as sk\n",
    "import re\n",
    "import os\n",
    "\n",
    "#NLP\n",
    "import nltk\n",
    "import re \n",
    "from sklearn.feature_extraction.text import TfidfVectorizer\n",
    "from sklearn.feature_extraction.text import CountVectorizer\n",
    "from sklearn.cluster import KMeans\n",
    "from sklearn.metrics import silhouette_samples, silhouette_score\n",
    "from sklearn import feature_extraction, model_selection, naive_bayes, metrics\n",
    "from sklearn.metrics import classification_report\n",
    "from sklearn.metrics import confusion_matrix\n",
    "from sklearn.model_selection import train_test_split\n",
    "\n",
    "#Email Parser \n",
    "import email\n",
    "from html.parser import HTMLParser\n",
    "from bs4 import BeautifulSoup"
   ]
  },
  {
   "cell_type": "markdown",
   "id": "2aaccb79",
   "metadata": {},
   "source": [
    "## Business Understanding"
   ]
  },
  {
   "cell_type": "markdown",
   "id": "cf351a86",
   "metadata": {},
   "source": [
    "## Data Evaluation/ Engineering"
   ]
  },
  {
   "cell_type": "code",
   "execution_count": 104,
   "id": "ba2d85b4",
   "metadata": {},
   "outputs": [
    {
     "data": {
      "text/plain": [
       "['spam',\n",
       " 'hard_ham',\n",
       " 'spam_2',\n",
       " '.DS_Store',\n",
       " 'Email Parsing and Word Vector Demo.ipynb',\n",
       " 'easy_ham',\n",
       " 'RP_SR_7333_CaseStudy3.ipynb',\n",
       " 'demo reference cs3.ipynb',\n",
       " '.ipynb_checkpoints',\n",
       " 'easy_ham_2',\n",
       " 'MasterCopy.ipynb']"
      ]
     },
     "execution_count": 104,
     "metadata": {},
     "output_type": "execute_result"
    }
   ],
   "source": [
    "os.listdir()"
   ]
  },
  {
   "cell_type": "code",
   "execution_count": 105,
   "id": "c538b5eb",
   "metadata": {},
   "outputs": [
    {
     "name": "stdout",
     "output_type": "stream",
     "text": [
      "Email Parsing and Word Vector Demo.ipynb\n",
      "RP_SR_7333_CaseStudy3.ipynb\n",
      "demo reference cs3.ipynb\n",
      "MasterCopy.ipynb\n"
     ]
    }
   ],
   "source": [
    "root = '/Users/arth/Desktop/RP-MSDS/Spring2022/QTW/CaseStudy3'\n",
    "for item in os.listdir(root):\n",
    "    if not item.startswith('.') and os.path.isfile(os.path.join(root, item)):\n",
    "        print(item)"
   ]
  },
  {
   "cell_type": "code",
   "execution_count": 106,
   "id": "cd21e237",
   "metadata": {},
   "outputs": [
    {
     "data": {
      "text/plain": [
       "['spam', 'hard_ham', 'spam_2', 'easy_ham', 'easy_ham_2']"
      ]
     },
     "execution_count": 106,
     "metadata": {},
     "output_type": "execute_result"
    }
   ],
   "source": [
    "folder = [fdr for fdr in os.listdir('.') if (re.match(r'easy', fdr)) or (re.match(r'hard', fdr)) or (re.match(r'spam', fdr))]\n",
    "folder"
   ]
  },
  {
   "cell_type": "code",
   "execution_count": 107,
   "id": "6a8c0901",
   "metadata": {},
   "outputs": [
    {
     "name": "stdout",
     "output_type": "stream",
     "text": [
      "spam : 1001\n",
      "hard_ham : 501\n",
      "spam_2 : 934\n",
      "easy_ham : 5052\n",
      "easy_ham_2 : 1401\n"
     ]
    }
   ],
   "source": [
    "directory = []\n",
    "for i in range(len(folder)):\n",
    "    directory = folder[i]\n",
    "    print(directory,':',len([name for name in os.listdir(directory) if os.path.isfile(os.path.join(directory, name))]))\n"
   ]
  },
  {
   "cell_type": "code",
   "execution_count": 108,
   "id": "f3786d46",
   "metadata": {},
   "outputs": [],
   "source": [
    "def strip_head(text):\n",
    "    tmp=[]\n",
    "    flag = False\n",
    "    for i in text:\n",
    "        if i=='':\n",
    "            flag = True\n",
    "        if flag == True:\n",
    "            tmp.append(i)\n",
    "    return tmp"
   ]
  },
  {
   "cell_type": "code",
   "execution_count": 109,
   "id": "b36a3e45",
   "metadata": {},
   "outputs": [],
   "source": [
    "def get_text(email):\n",
    "    if email.is_multipart():\n",
    "        tmp = email.get_payload()[0]\n",
    "        return get_text(tmp)\n",
    "    elif email.is_multipart() == False:\n",
    "        return email"
   ]
  },
  {
   "cell_type": "code",
   "execution_count": 110,
   "id": "5f578ace",
   "metadata": {},
   "outputs": [
    {
     "name": "stdout",
     "output_type": "stream",
     "text": [
      "Number of emails parsed in easy_ham: 5052\n",
      "Number of targets for easy_ham: 5052\n"
     ]
    }
   ],
   "source": [
    "targets_eh = []\n",
    "data_eh = []\n",
    "count_eh = 0\n",
    "not_spamList = os.listdir(\"./easy_ham/\")\n",
    "for i in not_spamList:\n",
    "    with open(\"./easy_ham/\"+i, \"r\",encoding= 'utf-8', errors='ignore') as f:\n",
    "        x = email.message_from_file(f)\n",
    "    x = get_text(x)\n",
    "    mailType = x.get_content_type()\n",
    "    if mailType == \"text/plain\":\n",
    "        tmp = x.get_payload()\n",
    "        tmp = tmp.replace(\"\\n\",\" \")\n",
    "        tmp = tmp.replace(r'http\\S+', ' ')\n",
    "        tmp = tmp.replace(\"-\",\" \")\n",
    "        data_eh.append(tmp)\n",
    "        targets_eh.append(0)\n",
    "    elif mailType == \"text/html\":\n",
    "        tmp = BeautifulSoup(x.get_payload(), 'html.parser')\n",
    "        tmp = tmp.text.replace(\"\\n\",\" \")\n",
    "        tmp = tmp.replace(r'http\\S+', ' ')\n",
    "        tmp = tmp.replace(\"-\",\" \")\n",
    "        data_eh.append(tmp)\n",
    "        targets_eh.append(0)\n",
    "    else:\n",
    "        print(f\"msg {i} not parsed\")\n",
    "        print(x.get_content_type())\n",
    "print('Number of emails parsed in easy_ham:',len(data_eh))\n",
    "print('Number of targets for easy_ham:',len(targets_eh))\n",
    "\n"
   ]
  },
  {
   "cell_type": "code",
   "execution_count": 111,
   "id": "5d7bf5ab",
   "metadata": {},
   "outputs": [
    {
     "name": "stdout",
     "output_type": "stream",
     "text": [
      "Number of emails parsed in easy_ham: 1401\n",
      "Number of targets for easy_ham: 1401\n"
     ]
    }
   ],
   "source": [
    "targets_eh2 = []\n",
    "data_eh2 = []\n",
    "count_eh2 = 0\n",
    "not_spamList = os.listdir(\"./easy_ham_2/\")\n",
    "for i in not_spamList:\n",
    "    with open(\"./easy_ham_2/\"+i, \"r\",encoding= 'utf-8', errors='ignore') as f:\n",
    "        x = email.message_from_file(f)\n",
    "    x = get_text(x)\n",
    "    mailType = x.get_content_type()\n",
    "    if mailType == \"text/plain\":\n",
    "        tmp = x.get_payload()\n",
    "        tmp = tmp.replace(\"\\n\",\" \")\n",
    "        tmp = tmp.replace(r'http\\S+', ' ')\n",
    "        tmp = tmp.replace(\"-\",\" \")\n",
    "        data_eh2.append(tmp)\n",
    "        targets_eh2.append(0)\n",
    "    elif mailType == \"text/html\":\n",
    "        tmp = BeautifulSoup(x.get_payload(), 'html.parser')\n",
    "        tmp = tmp.text.replace(\"\\n\",\" \")\n",
    "        tmp = tmp.replace(r'http\\S+', ' ')\n",
    "        tmp = tmp.replace(\"-\",\" \")\n",
    "        data_eh2.append(tmp)\n",
    "        targets_eh2.append(0)\n",
    "    else:\n",
    "        print(f\"msg {i} not parsed\")\n",
    "        print(x.get_content_type())\n",
    "print('Number of emails parsed in easy_ham:',len(data_eh2))\n",
    "print('Number of targets for easy_ham:',len(targets_eh2))"
   ]
  },
  {
   "cell_type": "code",
   "execution_count": 112,
   "id": "7e72a87b",
   "metadata": {},
   "outputs": [
    {
     "name": "stdout",
     "output_type": "stream",
     "text": [
      "Number of emails parsed in easy_ham: 501\n",
      "Number of targets for easy_ham: 501\n"
     ]
    }
   ],
   "source": [
    "targets_hh = []\n",
    "data_hh = []\n",
    "count_hh = 0\n",
    "not_spamList = os.listdir(\"./hard_ham/\")\n",
    "for i in not_spamList:\n",
    "    with open(\"./hard_ham/\"+i, \"r\",encoding= 'utf-8', errors='ignore') as f:\n",
    "        x = email.message_from_file(f)\n",
    "    x = get_text(x)\n",
    "    mailType = x.get_content_type()\n",
    "    if mailType == \"text/plain\":\n",
    "        tmp = x.get_payload()\n",
    "        tmp = tmp.replace(\"\\n\",\" \")\n",
    "        tmp = tmp.replace(r'http\\S+', ' ')\n",
    "        tmp = tmp.replace(\"-\",\" \")\n",
    "        data_hh.append(tmp)\n",
    "        targets_hh.append(0)\n",
    "    elif mailType == \"text/html\":\n",
    "        tmp = BeautifulSoup(x.get_payload(), 'html.parser')\n",
    "        tmp = tmp.text.replace(\"\\n\",\" \")\n",
    "        tmp = tmp.replace(r'http\\S+', ' ')\n",
    "        tmp = tmp.replace(\"-\",\" \")\n",
    "        data_hh.append(tmp)\n",
    "        targets_hh.append(0)\n",
    "    else:\n",
    "        print(f\"msg {i} not parsed\")\n",
    "        print(x.get_content_type())\n",
    "print('Number of emails parsed in easy_ham:',len(data_hh))\n",
    "print('Number of targets for easy_ham:',len(targets_hh))"
   ]
  },
  {
   "cell_type": "code",
   "execution_count": 113,
   "id": "3d0cda8b",
   "metadata": {},
   "outputs": [
    {
     "name": "stdout",
     "output_type": "stream",
     "text": [
      "Number of emails parsed in easy_ham: 1001\n",
      "Number of targets for easy_ham: 1001\n"
     ]
    }
   ],
   "source": [
    "\n",
    "targets_sp = []\n",
    "data_sp = []\n",
    "count_sp = 0\n",
    "spamList = os.listdir(\"./spam/\")\n",
    "for i in spamList:\n",
    "    with open(\"./spam/\"+i, \"r\",encoding= 'utf-8' or 'us-ascii' or 'windows-1252' or 'iso-8859-1', errors='ignore') as f:\n",
    "        x = email.message_from_file(f)\n",
    "    x = get_text(x)\n",
    "    mailType = x.get_content_type()\n",
    "    if mailType == \"text/plain\":\n",
    "        tmp = x.get_payload()\n",
    "        tmp = tmp.replace(\"\\n\",\" \")\n",
    "        tmp = tmp.replace(r'http\\S+', ' ')\n",
    "        tmp = tmp.replace(\"-\",\" \")\n",
    "        data_sp.append(tmp)\n",
    "        targets_sp.append(0)\n",
    "    elif mailType == \"text/html\":\n",
    "        tmp = BeautifulSoup(x.get_payload(), 'html.parser')\n",
    "        tmp = tmp.text.replace(\"\\n\",\" \")\n",
    "        tmp = tmp.replace(r'http\\S+', ' ')\n",
    "        tmp = tmp.replace(\"-\",\" \")\n",
    "        data_sp.append(tmp)\n",
    "        targets_sp.append(1)\n",
    "    elif mailType == \"multipart/alternative\":\n",
    "        tmp = BeautifulSoup(x.get_payload())\n",
    "        tmp = tmp.text.replace(\"\\n\",\" \")\n",
    "        tmp = tmp.replace(r'http\\S+', ' ')\n",
    "        tmp = tmp.replace(\"-\",\" \")\n",
    "        data_sp.append(tmp)\n",
    "        targets_sp.append(1)\n",
    "    else:\n",
    "        print(f\"msg {i} not parsed\")\n",
    "        print(x.get_content_type())\n",
    "print('Number of emails parsed in easy_ham:',len(data_sp))\n",
    "print('Number of targets for easy_ham:',len(targets_sp))"
   ]
  },
  {
   "cell_type": "code",
   "execution_count": 114,
   "id": "da191583",
   "metadata": {},
   "outputs": [
    {
     "name": "stdout",
     "output_type": "stream",
     "text": [
      "Number of emails parsed in easy_ham: 934\n",
      "Number of targets for easy_ham: 934\n"
     ]
    }
   ],
   "source": [
    "# # 1 msg not parsed \n",
    "# # need to work on text/plain charset=us-ascii for parsing.\n",
    "import chardet\n",
    "\n",
    "targets_sp2 = []\n",
    "data_sp2 = []\n",
    "count_sp2 = 0\n",
    "spamList = os.listdir(\"./spam_2/\")\n",
    "for i in spamList:\n",
    "    with open(\"./spam_2/\"+i, \"r\",encoding = 'utf-8' or 'us-ascii' or 'windows-1252' or 'iso-8859-1', errors='ignore' or 'surrogateescape') as f:\n",
    "        x = email.message_from_file(f)\n",
    "    x = get_text(x)\n",
    "    mailType = x.get_content_type()\n",
    "    textType = x.get_content_charset()\n",
    "    if mailType == \"text/plain\":\n",
    "        tmp = x.get_payload()\n",
    "        data_sp2.append(tmp)\n",
    "        targets_sp2.append(1)\n",
    "    elif mailType == \"text/plain charset=us-ascii\":\n",
    "        tmp = x.get_payload()\n",
    "        data_sp2.append(tmp)\n",
    "        targets_sp2.append(1)\n",
    "    elif mailType == \"text/html\":\n",
    "        tmp = BeautifulSoup(x.get_payload(), 'html.parser')\n",
    "        tmp = tmp.text.replace(\"\\n\",\" \")\n",
    "        tmp = tmp.replace(r'http\\S+', ' ')\n",
    "        tmp = tmp.replace(\"-\",\" \")\n",
    "        data_sp2.append(tmp)\n",
    "        targets_sp2.append(1)\n",
    "    else:\n",
    "        print(f\"msg {i} not parsed\")\n",
    "        print(x.get_content_type())\n",
    "print('Number of emails parsed in easy_ham:',len(data_sp2))\n",
    "print('Number of targets for easy_ham:',len(targets_sp2))\n",
    "\n"
   ]
  },
  {
   "cell_type": "code",
   "execution_count": 115,
   "id": "cadfda27",
   "metadata": {},
   "outputs": [
    {
     "name": "stdout",
     "output_type": "stream",
     "text": [
      "8889\n"
     ]
    }
   ],
   "source": [
    "data_total=len(data_sp2)+len(data_sp)+len(data_eh)+len(data_eh2)+len(data_hh)\n",
    "target_total=len(targets_sp2)+len(targets_sp)+len(targets_eh)+len(targets_eh2)+len(targets_hh)\n",
    "\n",
    "data_total==target_total\n",
    "print(target_total)"
   ]
  },
  {
   "cell_type": "code",
   "execution_count": 116,
   "id": "4618a617",
   "metadata": {},
   "outputs": [
    {
     "name": "stdout",
     "output_type": "stream",
     "text": [
      "8889\n",
      "8889\n"
     ]
    }
   ],
   "source": [
    "data=data_sp2+data_sp+data_eh+data_eh2+data_hh\n",
    "targets=targets_sp2+targets_sp+targets_eh+targets_eh2+targets_hh\n",
    "\n",
    "print(len(data))\n",
    "print(len(targets))"
   ]
  },
  {
   "cell_type": "code",
   "execution_count": 117,
   "id": "1686dabe",
   "metadata": {},
   "outputs": [
    {
     "name": "stdout",
     "output_type": "stream",
     "text": [
      "The total files given for parsing from different folders was: 8889\n",
      "The total files parsed from different folders was: 8889\n",
      "There was 0 file/files which did not get parsed.\n"
     ]
    }
   ],
   "source": [
    "# Number of files parsed \n",
    "num=0\n",
    "for i in range(len(folder)):\n",
    "    t=len([name for name in os.listdir(folder[i]) if os.path.isfile(os.path.join(folder[i], name))])\n",
    "    num=num+t\n",
    "\n",
    "print('The total files given for parsing from different folders was:',num)\n",
    "print('The total files parsed from different folders was:',data_total)\n",
    "print('There was',num-data_total,'file/files which did not get parsed.')\n"
   ]
  },
  {
   "cell_type": "code",
   "execution_count": 118,
   "id": "137d535d",
   "metadata": {},
   "outputs": [
    {
     "name": "stdout",
     "output_type": "stream",
     "text": [
      "data 8889\n",
      "new_data 8889\n",
      "[0 1]\n"
     ]
    }
   ],
   "source": [
    "import nltk\n",
    "#nltk.download('stopwords')\n",
    "#nltk.download('punkt')\n",
    "from nltk.corpus import stopwords\n",
    "from nltk.tokenize import word_tokenize\n",
    "stopset = set(stopwords.words('english'))\n",
    "def remove_stopwords(dt):\n",
    "    output_array=[]\n",
    "    for sen in dt:\n",
    "        temp_list=[]\n",
    "        for word in sen.split():\n",
    "            if word.lower() not in stopset:\n",
    "                temp_list.append(word)\n",
    "        output_array.append(' '.join(temp_list))\n",
    "    return output_array\n",
    "\n",
    "new_data = remove_stopwords(data)\n",
    "print(\"data\",len(data))\n",
    "print(\"new_data\",len(new_data))\n",
    "print(np.unique(targets))"
   ]
  },
  {
   "cell_type": "code",
   "execution_count": 119,
   "id": "bb5bd767",
   "metadata": {},
   "outputs": [
    {
     "data": {
      "text/html": [
       "<div>\n",
       "<style scoped>\n",
       "    .dataframe tbody tr th:only-of-type {\n",
       "        vertical-align: middle;\n",
       "    }\n",
       "\n",
       "    .dataframe tbody tr th {\n",
       "        vertical-align: top;\n",
       "    }\n",
       "\n",
       "    .dataframe thead th {\n",
       "        text-align: right;\n",
       "    }\n",
       "</style>\n",
       "<table border=\"1\" class=\"dataframe\">\n",
       "  <thead>\n",
       "    <tr style=\"text-align: right;\">\n",
       "      <th></th>\n",
       "      <th>Email</th>\n",
       "      <th>Spam/NotSpam</th>\n",
       "    </tr>\n",
       "  </thead>\n",
       "  <tbody>\n",
       "    <tr>\n",
       "      <th>0</th>\n",
       "      <td>Venez rencontrer l'ame soeur sur LOVEIMPACT.co...</td>\n",
       "      <td>1</td>\n",
       "    </tr>\n",
       "    <tr>\n",
       "      <th>1</th>\n",
       "      <td>man endowed 7 8\" hammer simply better equipped...</td>\n",
       "      <td>1</td>\n",
       "    </tr>\n",
       "    <tr>\n",
       "      <th>2</th>\n",
       "      <td>Date:May 16,2002. Email:edum@hkem.com. Dear Si...</td>\n",
       "      <td>1</td>\n",
       "    </tr>\n",
       "    <tr>\n",
       "      <th>3</th>\n",
       "      <td>&lt;HTML&gt; &lt;BODY&gt; FREE CASINO SPORTSBOOK! EARNING ...</td>\n",
       "      <td>1</td>\n",
       "    </tr>\n",
       "    <tr>\n",
       "      <th>4</th>\n",
       "      <td>Hi, make $50,000 next 90 days sending e-mail. ...</td>\n",
       "      <td>1</td>\n",
       "    </tr>\n",
       "  </tbody>\n",
       "</table>\n",
       "</div>"
      ],
      "text/plain": [
       "                                               Email  Spam/NotSpam\n",
       "0  Venez rencontrer l'ame soeur sur LOVEIMPACT.co...             1\n",
       "1  man endowed 7 8\" hammer simply better equipped...             1\n",
       "2  Date:May 16,2002. Email:edum@hkem.com. Dear Si...             1\n",
       "3  <HTML> <BODY> FREE CASINO SPORTSBOOK! EARNING ...             1\n",
       "4  Hi, make $50,000 next 90 days sending e-mail. ...             1"
      ]
     },
     "execution_count": 119,
     "metadata": {},
     "output_type": "execute_result"
    }
   ],
   "source": [
    "d={'Email': new_data, 'Spam/NotSpam': targets}\n",
    "df=pd.DataFrame(data=d)\n",
    "df.head()"
   ]
  },
  {
   "cell_type": "code",
   "execution_count": 120,
   "id": "3e112c89",
   "metadata": {},
   "outputs": [
    {
     "data": {
      "image/png": "[encoded data removed]",
      "text/plain": [
       "<Figure size 432x288 with 1 Axes>"
      ]
     },
     "metadata": {
      "needs_background": "light"
     },
     "output_type": "display_data"
    }
   ],
   "source": [
    "count_Class=pd.value_counts(df[\"Spam/NotSpam\"])\n",
    "count_Class.plot(kind= 'bar', color= [\"blue\", \"orange\"])\n",
    "plt.title('Bar chart')\n",
    "plt.show()"
   ]
  },
  {
   "cell_type": "code",
   "execution_count": 121,
   "id": "891318ca",
   "metadata": {},
   "outputs": [
    {
     "data": {
      "image/png": "[encoded data removed]",
      "text/plain": [
       "<Figure size 432x288 with 1 Axes>"
      ]
     },
     "metadata": {},
     "output_type": "display_data"
    }
   ],
   "source": [
    "count_Class.plot(kind = 'pie',  autopct='%1.0f%%')\n",
    "plt.title('Pie chart')\n",
    "plt.ylabel('')\n",
    "plt.show()"
   ]
  },
  {
   "cell_type": "markdown",
   "id": "25afbb99",
   "metadata": {},
   "source": [
    "## Modeling Preparations"
   ]
  },
  {
   "cell_type": "markdown",
   "id": "fc8821d8",
   "metadata": {},
   "source": [
    "## Model building & Evaluations"
   ]
  },
  {
   "cell_type": "code",
   "execution_count": 122,
   "id": "50438381",
   "metadata": {},
   "outputs": [],
   "source": [
    "X_train, X_test, y_train, y_test = train_test_split(new_data, targets,test_size=0.30, shuffle=True, random_state=42)"
   ]
  },
  {
   "cell_type": "code",
   "execution_count": 123,
   "id": "1567f672",
   "metadata": {},
   "outputs": [
    {
     "name": "stderr",
     "output_type": "stream",
     "text": [
      "/Users/arth/opt/anaconda3/lib/python3.8/site-packages/sklearn/feature_extraction/text.py:388: UserWarning: Your stop_words may be inconsistent with your preprocessing. Tokenizing the stop words generated tokens [\"'d\", \"'ll\", \"'re\", \"'s\", \"'ve\", 'could', 'might', 'must', \"n't\", 'need', 'sha', 'wo', 'would'] not in stop_words.\n",
      "  warnings.warn('Your stop_words may be inconsistent with '\n"
     ]
    }
   ],
   "source": [
    "#Model using Count Vectorizer\n",
    "cv = CountVectorizer(tokenizer = nltk.word_tokenize,stop_words = nltk.corpus.stopwords.words(\"english\"))\n",
    "cv_data_train = cv.fit_transform(X_train)\n",
    "cv_data_test = cv.transform(X_test)"
   ]
  },
  {
   "cell_type": "code",
   "execution_count": 144,
   "id": "110899bc",
   "metadata": {},
   "outputs": [
    {
     "name": "stdout",
     "output_type": "stream",
     "text": [
      "Venez rencontrer l'ame soeur sur LOVEIMPACT.com > Inscription gratuite > Consultez les fiches > Dialoguez en direct Inscrivez-vous gratuitement en cliquant ici : http://www.imp20.com/loveimpact/loveimpact300702-2.htm Vous recevez cet e-mail en tant qu'abonn Oktomail Pour ne plus tre contact, cliquez ici : http://www.imp20.com/loveimpact/loveimpact300702-remove.htm\n"
     ]
    }
   ],
   "source": [
    "#print(df[0:1]['Email'].values[0])"
   ]
  },
  {
   "cell_type": "code",
   "execution_count": 124,
   "id": "6014bb48",
   "metadata": {},
   "outputs": [],
   "source": [
    "# Iterating through different values of aplha for builiding the model \n",
    "list_alpha = np.arange(1/100000, 10, 0.11)\n",
    "score_train = np.zeros(len(list_alpha))\n",
    "score_test = np.zeros(len(list_alpha))\n",
    "recall_test = np.zeros(len(list_alpha))\n",
    "f1score_test=np.zeros(len(list_alpha))\n",
    "precision_test= np.zeros(len(list_alpha))\n",
    "count = 0\n",
    "for alpha in list_alpha:\n",
    "    bayes = naive_bayes.MultinomialNB(alpha=alpha)\n",
    "    bayes.fit(cv_data_train, y_train)\n",
    "    score_train[count] = bayes.score(cv_data_train, y_train)\n",
    "    score_test[count]= bayes.score(cv_data_test, y_test)\n",
    "    recall_test[count] = metrics.recall_score(y_test, bayes.predict(cv_data_test))\n",
    "    f1score_test[count] = metrics.f1_score(y_test, bayes.predict(cv_data_test))\n",
    "    precision_test[count] = metrics.precision_score(y_test, bayes.predict(cv_data_test))\n",
    "    count = count + 1 "
   ]
  },
  {
   "cell_type": "code",
   "execution_count": 125,
   "id": "823ca093",
   "metadata": {},
   "outputs": [
    {
     "data": {
      "text/html": [
       "<div>\n",
       "<style scoped>\n",
       "    .dataframe tbody tr th:only-of-type {\n",
       "        vertical-align: middle;\n",
       "    }\n",
       "\n",
       "    .dataframe tbody tr th {\n",
       "        vertical-align: top;\n",
       "    }\n",
       "\n",
       "    .dataframe thead th {\n",
       "        text-align: right;\n",
       "    }\n",
       "</style>\n",
       "<table border=\"1\" class=\"dataframe\">\n",
       "  <thead>\n",
       "    <tr style=\"text-align: right;\">\n",
       "      <th></th>\n",
       "      <th>alpha</th>\n",
       "      <th>Train Accuracy</th>\n",
       "      <th>Test Accuracy</th>\n",
       "      <th>Test Recall</th>\n",
       "      <th>Test F1-Score</th>\n",
       "      <th>Test Precision</th>\n",
       "    </tr>\n",
       "  </thead>\n",
       "  <tbody>\n",
       "    <tr>\n",
       "      <th>0</th>\n",
       "      <td>0.00001</td>\n",
       "      <td>0.992125</td>\n",
       "      <td>0.957255</td>\n",
       "      <td>0.832134</td>\n",
       "      <td>0.858911</td>\n",
       "      <td>0.887468</td>\n",
       "    </tr>\n",
       "    <tr>\n",
       "      <th>1</th>\n",
       "      <td>0.11001</td>\n",
       "      <td>0.971070</td>\n",
       "      <td>0.948631</td>\n",
       "      <td>0.911271</td>\n",
       "      <td>0.847269</td>\n",
       "      <td>0.791667</td>\n",
       "    </tr>\n",
       "    <tr>\n",
       "      <th>2</th>\n",
       "      <td>0.22001</td>\n",
       "      <td>0.969463</td>\n",
       "      <td>0.947882</td>\n",
       "      <td>0.923261</td>\n",
       "      <td>0.847085</td>\n",
       "      <td>0.782520</td>\n",
       "    </tr>\n",
       "    <tr>\n",
       "      <th>3</th>\n",
       "      <td>0.33001</td>\n",
       "      <td>0.967695</td>\n",
       "      <td>0.944882</td>\n",
       "      <td>0.920863</td>\n",
       "      <td>0.839344</td>\n",
       "      <td>0.771084</td>\n",
       "    </tr>\n",
       "    <tr>\n",
       "      <th>4</th>\n",
       "      <td>0.44001</td>\n",
       "      <td>0.967535</td>\n",
       "      <td>0.943757</td>\n",
       "      <td>0.911271</td>\n",
       "      <td>0.835165</td>\n",
       "      <td>0.770791</td>\n",
       "    </tr>\n",
       "    <tr>\n",
       "      <th>5</th>\n",
       "      <td>0.55001</td>\n",
       "      <td>0.967695</td>\n",
       "      <td>0.943757</td>\n",
       "      <td>0.908873</td>\n",
       "      <td>0.834802</td>\n",
       "      <td>0.771894</td>\n",
       "    </tr>\n",
       "    <tr>\n",
       "      <th>6</th>\n",
       "      <td>0.66001</td>\n",
       "      <td>0.967535</td>\n",
       "      <td>0.943382</td>\n",
       "      <td>0.901679</td>\n",
       "      <td>0.832780</td>\n",
       "      <td>0.773663</td>\n",
       "    </tr>\n",
       "    <tr>\n",
       "      <th>7</th>\n",
       "      <td>0.77001</td>\n",
       "      <td>0.967695</td>\n",
       "      <td>0.942257</td>\n",
       "      <td>0.894484</td>\n",
       "      <td>0.828889</td>\n",
       "      <td>0.772257</td>\n",
       "    </tr>\n",
       "    <tr>\n",
       "      <th>8</th>\n",
       "      <td>0.88001</td>\n",
       "      <td>0.967213</td>\n",
       "      <td>0.941882</td>\n",
       "      <td>0.884892</td>\n",
       "      <td>0.826428</td>\n",
       "      <td>0.775210</td>\n",
       "    </tr>\n",
       "    <tr>\n",
       "      <th>9</th>\n",
       "      <td>0.99001</td>\n",
       "      <td>0.966410</td>\n",
       "      <td>0.942632</td>\n",
       "      <td>0.870504</td>\n",
       "      <td>0.825939</td>\n",
       "      <td>0.785714</td>\n",
       "    </tr>\n",
       "  </tbody>\n",
       "</table>\n",
       "</div>"
      ],
      "text/plain": [
       "     alpha  Train Accuracy  Test Accuracy  Test Recall  Test F1-Score  \\\n",
       "0  0.00001        0.992125       0.957255     0.832134       0.858911   \n",
       "1  0.11001        0.971070       0.948631     0.911271       0.847269   \n",
       "2  0.22001        0.969463       0.947882     0.923261       0.847085   \n",
       "3  0.33001        0.967695       0.944882     0.920863       0.839344   \n",
       "4  0.44001        0.967535       0.943757     0.911271       0.835165   \n",
       "5  0.55001        0.967695       0.943757     0.908873       0.834802   \n",
       "6  0.66001        0.967535       0.943382     0.901679       0.832780   \n",
       "7  0.77001        0.967695       0.942257     0.894484       0.828889   \n",
       "8  0.88001        0.967213       0.941882     0.884892       0.826428   \n",
       "9  0.99001        0.966410       0.942632     0.870504       0.825939   \n",
       "\n",
       "   Test Precision  \n",
       "0        0.887468  \n",
       "1        0.791667  \n",
       "2        0.782520  \n",
       "3        0.771084  \n",
       "4        0.770791  \n",
       "5        0.771894  \n",
       "6        0.773663  \n",
       "7        0.772257  \n",
       "8        0.775210  \n",
       "9        0.785714  "
      ]
     },
     "execution_count": 125,
     "metadata": {},
     "output_type": "execute_result"
    }
   ],
   "source": [
    "matrix_cv = np.matrix(np.c_[list_alpha, score_train, score_test, recall_test,f1score_test, precision_test])\n",
    "models_cv = pd.DataFrame(data = matrix_cv, columns = \n",
    "             ['alpha', 'Train Accuracy', 'Test Accuracy', 'Test Recall','Test F1-Score', 'Test Precision'])\n",
    "models_cv.head(n=10)"
   ]
  },
  {
   "cell_type": "code",
   "execution_count": 126,
   "id": "4601911f",
   "metadata": {},
   "outputs": [
    {
     "data": {
      "text/plain": [
       "alpha             0.000010\n",
       "Train Accuracy    0.992125\n",
       "Test Accuracy     0.957255\n",
       "Test Recall       0.832134\n",
       "Test F1-Score     0.858911\n",
       "Test Precision    0.887468\n",
       "Name: 0, dtype: float64"
      ]
     },
     "execution_count": 126,
     "metadata": {},
     "output_type": "execute_result"
    }
   ],
   "source": [
    "best_index = models_cv['Test Accuracy'].idxmax()\n",
    "models_cv.iloc[best_index, :]"
   ]
  },
  {
   "cell_type": "code",
   "execution_count": 127,
   "id": "5e000231",
   "metadata": {},
   "outputs": [
    {
     "name": "stdout",
     "output_type": "stream",
     "text": [
      "              precision    recall  f1-score   support\n",
      "\n",
      "    Not Spam       0.97      0.98      0.97      2250\n",
      "        Spam       0.89      0.83      0.86       417\n",
      "\n",
      "    accuracy                           0.96      2667\n",
      "   macro avg       0.93      0.91      0.92      2667\n",
      "weighted avg       0.96      0.96      0.96      2667\n",
      "\n"
     ]
    }
   ],
   "source": [
    "# Model for best aplha to see metrics for spam and not spam separately\n",
    "model = naive_bayes.MultinomialNB(alpha=0.00001)\n",
    "model.fit(cv_data_train, y_train)\n",
    "cv_preds = model.predict(cv_data_test) \n",
    "model.score(cv_data_train, y_train)\n",
    "model.score(cv_data_test, y_test)\n",
    "\n",
    "print(classification_report(y_test,cv_preds,target_names=['Not Spam', 'Spam']))"
   ]
  },
  {
   "cell_type": "code",
   "execution_count": 128,
   "id": "6c48f6f6",
   "metadata": {},
   "outputs": [
    {
     "data": {
      "text/plain": [
       "<function matplotlib.pyplot.show(close=None, block=None)>"
      ]
     },
     "execution_count": 128,
     "metadata": {},
     "output_type": "execute_result"
    },
    {
     "data": {
      "image/png": "[encoded data removed]",
      "text/plain": [
       "<Figure size 432x288 with 2 Axes>"
      ]
     },
     "metadata": {
      "needs_background": "light"
     },
     "output_type": "display_data"
    }
   ],
   "source": [
    "cm0 = confusion_matrix(y_test,cv_preds)\n",
    "x_axis_labels = ['Not Spam', 'Spam']\n",
    "y_axis_labels = ['Not Spam', 'Spam']\n",
    "ax = plt.axes()\n",
    "sns.heatmap(cm0, cmap='Blues', annot=True, fmt='d',xticklabels=x_axis_labels,\n",
    "            yticklabels=y_axis_labels, ax=ax, cbar_kws={'label': 'Email Count',})\n",
    "ax.set_title('Email Classification Spam/Not Spam - TFIDF')\n",
    "plt.xlabel(\"Predicted Email Classification\")\n",
    "plt.ylabel(\"True Email Classification\") \n",
    "plt.show"
   ]
  },
  {
   "cell_type": "code",
   "execution_count": 129,
   "id": "a0757101",
   "metadata": {},
   "outputs": [
    {
     "name": "stdout",
     "output_type": "stream",
     "text": [
      "              precision    recall  f1-score   support\n",
      "\n",
      "    Not Spam       0.97      0.98      0.97      2250\n",
      "        Spam       0.89      0.83      0.86       417\n",
      "\n",
      "    accuracy                           0.96      2667\n",
      "   macro avg       0.93      0.91      0.92      2667\n",
      "weighted avg       0.96      0.96      0.96      2667\n",
      "\n"
     ]
    }
   ],
   "source": [
    "from sklearn.metrics import classification_report\n",
    "print(classification_report(y_test,cv_preds,target_names=['Not Spam', 'Spam']))"
   ]
  },
  {
   "cell_type": "code",
   "execution_count": 130,
   "id": "9519511f",
   "metadata": {},
   "outputs": [],
   "source": [
    "tfIdf = TfidfVectorizer(tokenizer = nltk.word_tokenize, stop_words = nltk.corpus.stopwords.words(\"english\"))"
   ]
  },
  {
   "cell_type": "code",
   "execution_count": 131,
   "id": "6f724878",
   "metadata": {},
   "outputs": [
    {
     "name": "stderr",
     "output_type": "stream",
     "text": [
      "/Users/arth/opt/anaconda3/lib/python3.8/site-packages/sklearn/feature_extraction/text.py:388: UserWarning: Your stop_words may be inconsistent with your preprocessing. Tokenizing the stop words generated tokens [\"'d\", \"'ll\", \"'re\", \"'s\", \"'ve\", 'could', 'might', 'must', \"n't\", 'need', 'sha', 'wo', 'would'] not in stop_words.\n",
      "  warnings.warn('Your stop_words may be inconsistent with '\n"
     ]
    }
   ],
   "source": [
    "tf_data_train = tfIdf.fit_transform(X_train)\n",
    "tf_data_test = tfIdf.transform(X_test)"
   ]
  },
  {
   "cell_type": "code",
   "execution_count": 132,
   "id": "889f47e7",
   "metadata": {},
   "outputs": [],
   "source": [
    "# # Iterating through different values of aplha for builiding the model  using \n",
    "list_alpha = np.arange(1/100000, 5, 0.11)\n",
    "score_train = np.zeros(len(list_alpha))\n",
    "score_test = np.zeros(len(list_alpha))\n",
    "recall_test = np.zeros(len(list_alpha))\n",
    "f1score_test = np.zeros(len(list_alpha))\n",
    "precision_test= np.zeros(len(list_alpha))\n",
    "count = 0\n",
    "for alpha in list_alpha:\n",
    "    bayes = naive_bayes.MultinomialNB(alpha=alpha)\n",
    "    bayes.fit(tf_data_train, y_train)\n",
    "    score_train[count] = bayes.score(tf_data_train, y_train)\n",
    "    score_test[count]= bayes.score(tf_data_test, y_test)\n",
    "    recall_test[count] = metrics.recall_score(y_test, bayes.predict(tf_data_test))\n",
    "    f1score_test[count] = metrics.f1_score(y_test, bayes.predict(tf_data_test))\n",
    "    precision_test[count] = metrics.precision_score(y_test, bayes.predict(tf_data_test))\n",
    "    count = count + 1 "
   ]
  },
  {
   "cell_type": "code",
   "execution_count": 133,
   "id": "f2167b5b",
   "metadata": {},
   "outputs": [
    {
     "data": {
      "text/html": [
       "<div>\n",
       "<style scoped>\n",
       "    .dataframe tbody tr th:only-of-type {\n",
       "        vertical-align: middle;\n",
       "    }\n",
       "\n",
       "    .dataframe tbody tr th {\n",
       "        vertical-align: top;\n",
       "    }\n",
       "\n",
       "    .dataframe thead th {\n",
       "        text-align: right;\n",
       "    }\n",
       "</style>\n",
       "<table border=\"1\" class=\"dataframe\">\n",
       "  <thead>\n",
       "    <tr style=\"text-align: right;\">\n",
       "      <th></th>\n",
       "      <th>alpha</th>\n",
       "      <th>Train Accuracy</th>\n",
       "      <th>Test Accuracy</th>\n",
       "      <th>Test Recall</th>\n",
       "      <th>Test F1-Score</th>\n",
       "      <th>Test Precision</th>\n",
       "    </tr>\n",
       "  </thead>\n",
       "  <tbody>\n",
       "    <tr>\n",
       "      <th>0</th>\n",
       "      <td>0.00001</td>\n",
       "      <td>0.996464</td>\n",
       "      <td>0.961755</td>\n",
       "      <td>0.817746</td>\n",
       "      <td>0.869898</td>\n",
       "      <td>0.929155</td>\n",
       "    </tr>\n",
       "    <tr>\n",
       "      <th>1</th>\n",
       "      <td>0.11001</td>\n",
       "      <td>0.981356</td>\n",
       "      <td>0.943382</td>\n",
       "      <td>0.693046</td>\n",
       "      <td>0.792867</td>\n",
       "      <td>0.926282</td>\n",
       "    </tr>\n",
       "    <tr>\n",
       "      <th>2</th>\n",
       "      <td>0.22001</td>\n",
       "      <td>0.952427</td>\n",
       "      <td>0.915636</td>\n",
       "      <td>0.498801</td>\n",
       "      <td>0.648986</td>\n",
       "      <td>0.928571</td>\n",
       "    </tr>\n",
       "    <tr>\n",
       "      <th>3</th>\n",
       "      <td>0.33001</td>\n",
       "      <td>0.929926</td>\n",
       "      <td>0.898013</td>\n",
       "      <td>0.369305</td>\n",
       "      <td>0.531034</td>\n",
       "      <td>0.944785</td>\n",
       "    </tr>\n",
       "    <tr>\n",
       "      <th>4</th>\n",
       "      <td>0.44001</td>\n",
       "      <td>0.914979</td>\n",
       "      <td>0.886014</td>\n",
       "      <td>0.280576</td>\n",
       "      <td>0.434944</td>\n",
       "      <td>0.966942</td>\n",
       "    </tr>\n",
       "    <tr>\n",
       "      <th>5</th>\n",
       "      <td>0.55001</td>\n",
       "      <td>0.902604</td>\n",
       "      <td>0.881890</td>\n",
       "      <td>0.244604</td>\n",
       "      <td>0.393064</td>\n",
       "      <td>1.000000</td>\n",
       "    </tr>\n",
       "    <tr>\n",
       "      <th>6</th>\n",
       "      <td>0.66001</td>\n",
       "      <td>0.893121</td>\n",
       "      <td>0.874391</td>\n",
       "      <td>0.196643</td>\n",
       "      <td>0.328657</td>\n",
       "      <td>1.000000</td>\n",
       "    </tr>\n",
       "    <tr>\n",
       "      <th>7</th>\n",
       "      <td>0.77001</td>\n",
       "      <td>0.884442</td>\n",
       "      <td>0.869141</td>\n",
       "      <td>0.163070</td>\n",
       "      <td>0.280412</td>\n",
       "      <td>1.000000</td>\n",
       "    </tr>\n",
       "    <tr>\n",
       "      <th>8</th>\n",
       "      <td>0.88001</td>\n",
       "      <td>0.881067</td>\n",
       "      <td>0.866142</td>\n",
       "      <td>0.143885</td>\n",
       "      <td>0.251572</td>\n",
       "      <td>1.000000</td>\n",
       "    </tr>\n",
       "    <tr>\n",
       "      <th>9</th>\n",
       "      <td>0.99001</td>\n",
       "      <td>0.877853</td>\n",
       "      <td>0.865392</td>\n",
       "      <td>0.139089</td>\n",
       "      <td>0.244211</td>\n",
       "      <td>1.000000</td>\n",
       "    </tr>\n",
       "  </tbody>\n",
       "</table>\n",
       "</div>"
      ],
      "text/plain": [
       "     alpha  Train Accuracy  Test Accuracy  Test Recall  Test F1-Score  \\\n",
       "0  0.00001        0.996464       0.961755     0.817746       0.869898   \n",
       "1  0.11001        0.981356       0.943382     0.693046       0.792867   \n",
       "2  0.22001        0.952427       0.915636     0.498801       0.648986   \n",
       "3  0.33001        0.929926       0.898013     0.369305       0.531034   \n",
       "4  0.44001        0.914979       0.886014     0.280576       0.434944   \n",
       "5  0.55001        0.902604       0.881890     0.244604       0.393064   \n",
       "6  0.66001        0.893121       0.874391     0.196643       0.328657   \n",
       "7  0.77001        0.884442       0.869141     0.163070       0.280412   \n",
       "8  0.88001        0.881067       0.866142     0.143885       0.251572   \n",
       "9  0.99001        0.877853       0.865392     0.139089       0.244211   \n",
       "\n",
       "   Test Precision  \n",
       "0        0.929155  \n",
       "1        0.926282  \n",
       "2        0.928571  \n",
       "3        0.944785  \n",
       "4        0.966942  \n",
       "5        1.000000  \n",
       "6        1.000000  \n",
       "7        1.000000  \n",
       "8        1.000000  \n",
       "9        1.000000  "
      ]
     },
     "execution_count": 133,
     "metadata": {},
     "output_type": "execute_result"
    }
   ],
   "source": [
    "matrix_tf = np.matrix(np.c_[list_alpha, score_train, score_test, recall_test,f1score_test, precision_test])\n",
    "models_tf = pd.DataFrame(data = matrix_tf, columns = \n",
    "             ['alpha', 'Train Accuracy', 'Test Accuracy', 'Test Recall','Test F1-Score', 'Test Precision'])\n",
    "models_tf.head(n=10)"
   ]
  },
  {
   "cell_type": "code",
   "execution_count": 134,
   "id": "bf12f4f7",
   "metadata": {},
   "outputs": [
    {
     "data": {
      "text/plain": [
       "alpha             0.000010\n",
       "Train Accuracy    0.996464\n",
       "Test Accuracy     0.961755\n",
       "Test Recall       0.817746\n",
       "Test F1-Score     0.869898\n",
       "Test Precision    0.929155\n",
       "Name: 0, dtype: float64"
      ]
     },
     "execution_count": 134,
     "metadata": {},
     "output_type": "execute_result"
    }
   ],
   "source": [
    "best_index = models_tf['Test Accuracy'].idxmax()\n",
    "models_tf.iloc[best_index, :]"
   ]
  },
  {
   "cell_type": "code",
   "execution_count": 135,
   "id": "bca5d37e",
   "metadata": {},
   "outputs": [
    {
     "name": "stdout",
     "output_type": "stream",
     "text": [
      "              precision    recall  f1-score   support\n",
      "\n",
      "    Not Spam       0.97      0.99      0.98      2250\n",
      "        Spam       0.93      0.82      0.87       417\n",
      "\n",
      "    accuracy                           0.96      2667\n",
      "   macro avg       0.95      0.90      0.92      2667\n",
      "weighted avg       0.96      0.96      0.96      2667\n",
      "\n"
     ]
    }
   ],
   "source": [
    "# Model for best aplha to see metrics for spam and not spam separately\n",
    "model = naive_bayes.MultinomialNB(alpha=0.00001)\n",
    "model.fit(tf_data_train, y_train)\n",
    "tf_preds = model.predict(tf_data_test) \n",
    "model.score(tf_data_train, y_train)\n",
    "model.score(tf_data_test, y_test)\n",
    "print(classification_report(y_test,tf_preds,target_names=['Not Spam', 'Spam']))"
   ]
  },
  {
   "cell_type": "code",
   "execution_count": 136,
   "id": "34261367",
   "metadata": {},
   "outputs": [
    {
     "data": {
      "text/plain": [
       "<function matplotlib.pyplot.show(close=None, block=None)>"
      ]
     },
     "execution_count": 136,
     "metadata": {},
     "output_type": "execute_result"
    },
    {
     "data": {
      "image/png": "[encoded data removed]",
      "text/plain": [
       "<Figure size 432x288 with 2 Axes>"
      ]
     },
     "metadata": {
      "needs_background": "light"
     },
     "output_type": "display_data"
    }
   ],
   "source": [
    "from sklearn.metrics import confusion_matrix\n",
    "import seaborn as sns\n",
    "import matplotlib.pyplot as plt\n",
    "\n",
    "cm0 = confusion_matrix(y_test,tf_preds)\n",
    "x_axis_labels = ['Not Spam', 'Spam']\n",
    "y_axis_labels = ['Not Spam', 'Spam']\n",
    "ax = plt.axes()\n",
    "sns.heatmap(cm0, cmap='Blues', annot=True, fmt='d',xticklabels=x_axis_labels,\n",
    "            yticklabels=y_axis_labels, ax=ax, cbar_kws={'label': 'Email Count',})\n",
    "ax.set_title('Email Classification Spam/Not Spam - TFIDF')\n",
    "plt.xlabel(\"Predicted Email Classification\")\n",
    "plt.ylabel(\"True Email Classification\") \n",
    "plt.show\n"
   ]
  },
  {
   "cell_type": "markdown",
   "id": "b717113d",
   "metadata": {},
   "source": [
    "## Model Interpretabilty & Explainability"
   ]
  },
  {
   "cell_type": "markdown",
   "id": "afcd10b6",
   "metadata": {},
   "source": [
    "## Case Conclusions"
   ]
  },
  {
   "cell_type": "code",
   "execution_count": 137,
   "id": "cbd7aa53",
   "metadata": {},
   "outputs": [],
   "source": [
    "# Reference code for solving the 1 file which was not parsed.\n",
    "\n",
    "\n",
    "\n",
    "\n",
    "\n",
    "# import chardet\n",
    "\n",
    "# # for SAPM MAILS\n",
    "\n",
    "# spam_root = '/Users/arth/Desktop/RP-MSDS/Spring2022/QTW/CaseStudy3/spam/'\n",
    "\n",
    "# spam_files=[name for name in os.listdir(folder[0]) if os.path.isfile(os.path.join(folder[0], name))]\n",
    "# #print(spam_files)\n",
    "\n",
    "# for file in spam_files:\n",
    "#     with open(spam_root+ file,'r', encoding='latin1') as f:\n",
    "#         tmp= email.message_from_file(f)\n",
    "#         tmp=get_text(tmp)\n",
    "\n",
    "# str()\n",
    "\n",
    "# def get_text(msg):\n",
    "#     \"\"\" Parses email message text, given message object\n",
    "#     This doesn't support infinite recursive parts, but mail is usually not so naughty.\n",
    "#     \"\"\"\n",
    "#     text = \"\"\n",
    "#     if msg.is_multipart():\n",
    "#         html = None\n",
    "#         for part in msg.get_payload():\n",
    "#             if part.get_content_charset() is None:\n",
    "#                 charset = chardet.detect(str(part))['encoding']\n",
    "#             else:\n",
    "#                 charset = part.get_content_charset()\n",
    "#             if part.get_content_type() == 'text/plain':\n",
    "#                 text = unicode(part.get_payload(decode=True),str(charset),\"ignore\").encode('utf8','replace')\n",
    "#             if part.get_content_type() == 'text/html':\n",
    "#                 html = unicode(part.get_payload(decode=True),str(charset),\"ignore\").encode('utf8','replace')\n",
    "#             if part.get_content_type() == 'multipart/alternative':\n",
    "#                 for subpart in part.get_payload():\n",
    "#                     if subpart.get_content_charset() is None:\n",
    "#                         charset = chardet.detect(str(subpart))['encoding']\n",
    "#                     else:\n",
    "#                         charset = subpart.get_content_charset()\n",
    "#                     if subpart.get_content_type() == 'text/plain':\n",
    "#                         text = unicode(subpart.get_payload(decode=True),str(charset),\"ignore\").encode('utf8','replace')\n",
    "#                     if subpart.get_content_type() == 'text/html':\n",
    "#                         html = unicode(subpart.get_payload(decode=True),str(charset),\"ignore\").encode('utf8','replace')\n",
    "\n",
    "#         if html is None:\n",
    "#             return text.strip()\n",
    "#         else:\n",
    "#             return html.strip()\n",
    "#     else:\n",
    "#         text = unicode(msg.get_payload(decode=True),msg.get_content_charset(),'ignore').encode('utf8','replace')\n",
    "#         return text.strip()\n",
    "    \n",
    "    \n",
    "# print(msg)\n"
   ]
  },
  {
   "cell_type": "code",
   "execution_count": 138,
   "id": "295ca8dc",
   "metadata": {},
   "outputs": [
    {
     "name": "stderr",
     "output_type": "stream",
     "text": [
      "/Users/arth/opt/anaconda3/lib/python3.8/site-packages/sklearn/feature_extraction/text.py:388: UserWarning: Your stop_words may be inconsistent with your preprocessing. Tokenizing the stop words generated tokens [\"'d\", \"'ll\", \"'re\", \"'s\", \"'ve\", 'could', 'might', 'must', \"n't\", 'need', 'sha', 'wo', 'would'] not in stop_words.\n",
      "  warnings.warn('Your stop_words may be inconsistent with '\n"
     ]
    }
   ],
   "source": [
    "# Vectorize the features using CountVectorizer\n",
    "\n",
    "cv_vec = sk.feature_extraction.text.CountVectorizer(tokenizer = nltk.word_tokenize, \n",
    "                                                    stop_words = nltk.corpus.stopwords.words(\"english\"))\n",
    "\n",
    "cv_X = cv_vec.fit_transform(df.Email)"
   ]
  },
  {
   "cell_type": "code",
   "execution_count": 139,
   "id": "64066712",
   "metadata": {},
   "outputs": [],
   "source": [
    "# Vectorize the features using TfidfVectorizer\n",
    "\n",
    "tfidf_vec = sk.feature_extraction.text.TfidfVectorizer(tokenizer = nltk.word_tokenize, \n",
    "                                                    stop_words = nltk.corpus.stopwords.words(\"english\"))\n",
    "\n",
    "tdidf_X = cv_vec.fit_transform(df.Email)"
   ]
  },
  {
   "cell_type": "code",
   "execution_count": 140,
   "id": "9e3284b0",
   "metadata": {},
   "outputs": [],
   "source": [
    "# label encode the labels using LabelEncoder\n",
    "\n",
    "label_encoder = sk.preprocessing.LabelEncoder()\n",
    "y = label_encoder.fit_transform(df['Spam/NotSpam'])"
   ]
  },
  {
   "cell_type": "code",
   "execution_count": 141,
   "id": "81c0b6bd",
   "metadata": {},
   "outputs": [
    {
     "ename": "NameError",
     "evalue": "name 'MultinomialNB' is not defined",
     "output_type": "error",
     "traceback": [
      "\u001b[0;31m---------------------------------------------------------------------------\u001b[0m",
      "\u001b[0;31mNameError\u001b[0m                                 Traceback (most recent call last)",
      "\u001b[0;32m<ipython-input-141-14eb20b02ed5>\u001b[0m in \u001b[0;36m<module>\u001b[0;34m\u001b[0m\n\u001b[0;32m----> 1\u001b[0;31m \u001b[0mmodel_sklearn_mnb\u001b[0m \u001b[0;34m=\u001b[0m \u001b[0mMultinomialNB\u001b[0m\u001b[0;34m(\u001b[0m\u001b[0;34m)\u001b[0m\u001b[0;34m\u001b[0m\u001b[0;34m\u001b[0m\u001b[0m\n\u001b[0m",
      "\u001b[0;31mNameError\u001b[0m: name 'MultinomialNB' is not defined"
     ]
    }
   ],
   "source": [
    "model_sklearn_mnb = MultinomialNB()"
   ]
  },
  {
   "cell_type": "code",
   "execution_count": null,
   "id": "cda8c1b3",
   "metadata": {},
   "outputs": [],
   "source": [
    "# getting cross validation score on count-vectorized features\n",
    "# getting cross validation score on tfidf processed features\n",
    "\n",
    "cv_score = sk.model_selection.cross_validate(model, cv_X, y)\n",
    "\n",
    "tfidf_score = sk.model_selection.cross_validate(model, tdidf_X, y)\n"
   ]
  },
  {
   "cell_type": "code",
   "execution_count": null,
   "id": "16e2e386",
   "metadata": {},
   "outputs": [],
   "source": [
    "# checking the scores by putting them into a dataframe first\n",
    "\n",
    "sklearn_scores = pd.DataFrame([cv_score, tfidf_score], index=['CountVetorizer', 'TfidfVectorizer'])\n",
    "sklearn_scores = sklearn_scores.applymap(lambda x: x.mean())\n",
    "\n",
    "sklearn_scores"
   ]
  },
  {
   "cell_type": "code",
   "execution_count": null,
   "id": "a524a72b",
   "metadata": {},
   "outputs": [],
   "source": [
    "from sklearn.preprocessing import StandardScaler\n",
    "scaler = StandardScaler()\n",
    "scaler.fit(df.drop('Spam/NotSpam', axis=1))\n",
    "scaled_features = scaler.transform(df.drop('Spam/NotSpam', axis=1))\n",
    "scaled_data = pd.DataFrame(scaled_features, columns = df.drop('Spam/NotSpam', axis=1).columns)\n"
   ]
  },
  {
   "cell_type": "code",
   "execution_count": null,
   "id": "549e600a",
   "metadata": {},
   "outputs": [],
   "source": []
  }
 ],
 "metadata": {
  "kernelspec": {
   "display_name": "Python 3",
   "language": "python",
   "name": "python3"
  },
  "language_info": {
   "codemirror_mode": {
    "name": "ipython",
    "version": 3
   },
   "file_extension": ".py",
   "mimetype": "text/x-python",
   "name": "python",
   "nbconvert_exporter": "python",
   "pygments_lexer": "ipython3",
   "version": "3.8.8"
  }
 },
 "nbformat": 4,
 "nbformat_minor": 5
}
